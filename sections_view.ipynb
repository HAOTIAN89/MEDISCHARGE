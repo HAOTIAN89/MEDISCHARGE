{
 "cells": [
  {
   "cell_type": "code",
   "execution_count": 1,
   "metadata": {},
   "outputs": [],
   "source": [
    "import regex as re\n",
    "import pandas as pd\n",
    "from src.utils.preprocessing import *\n",
    "\n",
    "%load_ext autoreload\n",
    "%autoreload 2"
   ]
  },
  {
   "cell_type": "code",
   "execution_count": null,
   "metadata": {},
   "outputs": [],
   "source": [
    "to_ignore1 = ['name:  ___',\n",
    "                'unit no:   ___',\n",
    "                'admission date:  ___',\n",
    "                'discharge date:   ___',\n",
    "                'date of birth:  ___',\n",
    "                'date of birth'\n",
    "                'followup instructions:',\n",
    "                'attending: ___.',\n",
    "                'attending: ___',\n",
    "                '___ no:   ___',\n",
    "                'Unit ___:']\n",
    "\n",
    "to_ignore2 = ['.',\n",
    "                ')',\n",
    "                '(',\n",
    "                ':',\n",
    "                ',',\n",
    "                '/',\n",
    "                '_']\n",
    "\n",
    "to_ignore3 = ['primary care physician    found down',\n",
    "              'date of birth',\n",
    "              'no',\n",
    "              'md',\n",
    "              'tia',\n",
    "              'date  birth',\n",
    "              'sr',\n",
    "              'admission date',\n",
    "              'discharge date',\n",
    "              'fr',\n",
    "              'physical  physical exam',\n",
    "              '#1 to',\n",
    "              'lethargy']\n",
    "\n",
    "to_inline = all_starts_and_ends\n",
    "\n",
    "to_ignore1.extend(all_starts_and_ends)\n",
    "\n",
    "\n",
    "def find_difference(string1, string2):\n",
    "    for marker in to_inline:\n",
    "        string1 = string1.lower().replace(marker.lower(), f'\\n{marker.lower()}\\n', 1)\n",
    "        string2 = string2.lower().replace(marker.lower(), f'\\n{marker.lower()}\\n', 1)\n",
    "\n",
    "    #print(string1)\n",
    "    #print(string2)\n",
    "\n",
    "    lines1 = [line.strip().lower() for line in string1.split('\\n')]\n",
    "    lines2 = [line.strip().lower() for line in string2.split('\\n')]\n",
    "\n",
    "    diff_lines = [line for line in lines1 if line not in lines2]\n",
    "    diff_lines = [line for line in diff_lines if line not in string2]\n",
    "    diff_string = '\\n'.join(diff_lines)\n",
    "\n",
    "    for ignore in to_ignore1:\n",
    "        diff_string = diff_string.replace(ignore.lower(), '')\n",
    "    \n",
    "    for ignore in to_ignore2:    \n",
    "        diff_string = diff_string.replace(ignore.lower(), '')\n",
    "\n",
    "    for ignore in to_ignore3:\n",
    "        diff_string = diff_string.replace(ignore.lower(), '')\n",
    "    \n",
    "    return diff_string.strip()"
   ]
  },
  {
   "cell_type": "code",
   "execution_count": 2,
   "metadata": {},
   "outputs": [],
   "source": [
    "discharge_df = pd.read_csv('data/version1.4_ours/valid/discharge.csv.gz', compression='gzip')\n",
    "target_df = pd.read_csv('data/version1.4_ours/valid/discharge_target.csv.gz', compression='gzip')"
   ]
  },
  {
   "cell_type": "code",
   "execution_count": 3,
   "metadata": {},
   "outputs": [],
   "source": [
    "combined_df = build_combined_discharge(discharge_df, target_df)"
   ]
  },
  {
   "cell_type": "code",
   "execution_count": 5,
   "metadata": {},
   "outputs": [
    {
     "name": "stdout",
     "output_type": "stream",
     "text": [
      "Removing BHC and DI from the discharge\n"
     ]
    },
    {
     "name": "stderr",
     "output_type": "stream",
     "text": [
      "100%|██████████| 14719/14719 [00:05<00:00, 2533.44it/s]\n"
     ]
    },
    {
     "name": "stdout",
     "output_type": "stream",
     "text": [
      "Extracting features\n"
     ]
    },
    {
     "name": "stderr",
     "output_type": "stream",
     "text": [
      "100%|██████████| 14719/14719 [01:48<00:00, 135.23it/s]\n"
     ]
    },
    {
     "name": "stdout",
     "output_type": "stream",
     "text": [
      "Formating and cleaning sex section\n"
     ]
    },
    {
     "name": "stderr",
     "output_type": "stream",
     "text": [
      "100%|██████████| 14719/14719 [00:00<00:00, 388848.75it/s]\n",
      "100%|██████████| 14719/14719 [00:01<00:00, 8892.30it/s] \n"
     ]
    },
    {
     "name": "stdout",
     "output_type": "stream",
     "text": [
      "Counting tokens in sex section\n"
     ]
    },
    {
     "name": "stderr",
     "output_type": "stream",
     "text": [
      "100%|██████████| 14719/14719 [00:02<00:00, 6249.73it/s] \n"
     ]
    },
    {
     "name": "stdout",
     "output_type": "stream",
     "text": [
      "Formating and cleaning service section\n"
     ]
    },
    {
     "name": "stderr",
     "output_type": "stream",
     "text": [
      "100%|██████████| 14719/14719 [00:00<00:00, 221298.05it/s]\n",
      "100%|██████████| 14719/14719 [00:01<00:00, 12158.82it/s]\n"
     ]
    },
    {
     "name": "stdout",
     "output_type": "stream",
     "text": [
      "Counting tokens in service section\n"
     ]
    },
    {
     "name": "stderr",
     "output_type": "stream",
     "text": [
      "100%|██████████| 14719/14719 [00:03<00:00, 4774.87it/s]\n"
     ]
    },
    {
     "name": "stdout",
     "output_type": "stream",
     "text": [
      "Formating and cleaning allergies section\n"
     ]
    },
    {
     "name": "stderr",
     "output_type": "stream",
     "text": [
      "100%|██████████| 14719/14719 [00:00<00:00, 347843.50it/s]\n",
      "100%|██████████| 14719/14719 [00:01<00:00, 7834.37it/s] \n"
     ]
    },
    {
     "name": "stdout",
     "output_type": "stream",
     "text": [
      "Counting tokens in allergies section\n"
     ]
    },
    {
     "name": "stderr",
     "output_type": "stream",
     "text": [
      "100%|██████████| 14719/14719 [00:02<00:00, 5997.50it/s]\n"
     ]
    },
    {
     "name": "stdout",
     "output_type": "stream",
     "text": [
      "Formating and cleaning chief_complaint section\n"
     ]
    },
    {
     "name": "stderr",
     "output_type": "stream",
     "text": [
      "100%|██████████| 14719/14719 [00:00<00:00, 317974.19it/s]\n",
      "100%|██████████| 14719/14719 [00:01<00:00, 14594.50it/s]\n"
     ]
    },
    {
     "name": "stdout",
     "output_type": "stream",
     "text": [
      "Counting tokens in chief_complaint section\n"
     ]
    },
    {
     "name": "stderr",
     "output_type": "stream",
     "text": [
      "100%|██████████| 14719/14719 [00:01<00:00, 7501.77it/s]\n"
     ]
    },
    {
     "name": "stdout",
     "output_type": "stream",
     "text": [
      "Formating and cleaning major_surgical_procedures section\n"
     ]
    },
    {
     "name": "stderr",
     "output_type": "stream",
     "text": [
      "100%|██████████| 14719/14719 [00:00<00:00, 205100.13it/s]\n",
      "100%|██████████| 14719/14719 [00:00<00:00, 20010.20it/s]\n"
     ]
    },
    {
     "name": "stdout",
     "output_type": "stream",
     "text": [
      "Counting tokens in major_surgical_procedures section\n"
     ]
    },
    {
     "name": "stderr",
     "output_type": "stream",
     "text": [
      "100%|██████████| 14719/14719 [00:02<00:00, 4930.09it/s]\n"
     ]
    },
    {
     "name": "stdout",
     "output_type": "stream",
     "text": [
      "Formating and cleaning history_of_present_illness section\n"
     ]
    },
    {
     "name": "stderr",
     "output_type": "stream",
     "text": [
      "100%|██████████| 14719/14719 [00:00<00:00, 106164.00it/s]\n",
      "100%|██████████| 14719/14719 [00:01<00:00, 10290.57it/s]\n"
     ]
    },
    {
     "name": "stdout",
     "output_type": "stream",
     "text": [
      "Counting tokens in history_of_present_illness section\n"
     ]
    },
    {
     "name": "stderr",
     "output_type": "stream",
     "text": [
      "100%|██████████| 14719/14719 [00:35<00:00, 410.62it/s]\n"
     ]
    },
    {
     "name": "stdout",
     "output_type": "stream",
     "text": [
      "Formating and cleaning past_medical_history section\n"
     ]
    },
    {
     "name": "stderr",
     "output_type": "stream",
     "text": [
      "100%|██████████| 14719/14719 [00:00<00:00, 196107.33it/s]\n",
      "100%|██████████| 14719/14719 [00:01<00:00, 14476.31it/s]\n"
     ]
    },
    {
     "name": "stdout",
     "output_type": "stream",
     "text": [
      "Counting tokens in past_medical_history section\n"
     ]
    },
    {
     "name": "stderr",
     "output_type": "stream",
     "text": [
      "100%|██████████| 14719/14719 [00:08<00:00, 1806.04it/s]\n"
     ]
    },
    {
     "name": "stdout",
     "output_type": "stream",
     "text": [
      "Formating and cleaning social_history section\n"
     ]
    },
    {
     "name": "stderr",
     "output_type": "stream",
     "text": [
      "100%|██████████| 14719/14719 [00:00<00:00, 116447.79it/s]\n",
      "100%|██████████| 14719/14719 [00:01<00:00, 7975.40it/s] \n"
     ]
    },
    {
     "name": "stdout",
     "output_type": "stream",
     "text": [
      "Counting tokens in social_history section\n"
     ]
    },
    {
     "name": "stderr",
     "output_type": "stream",
     "text": [
      "100%|██████████| 14719/14719 [00:02<00:00, 5229.44it/s]\n"
     ]
    },
    {
     "name": "stdout",
     "output_type": "stream",
     "text": [
      "Formating and cleaning family_history section\n"
     ]
    },
    {
     "name": "stderr",
     "output_type": "stream",
     "text": [
      "100%|██████████| 14719/14719 [00:00<00:00, 248158.83it/s]\n",
      "100%|██████████| 14719/14719 [00:01<00:00, 8053.67it/s] \n"
     ]
    },
    {
     "name": "stdout",
     "output_type": "stream",
     "text": [
      "Counting tokens in family_history section\n"
     ]
    },
    {
     "name": "stderr",
     "output_type": "stream",
     "text": [
      "100%|██████████| 14719/14719 [00:02<00:00, 5209.52it/s]\n"
     ]
    },
    {
     "name": "stdout",
     "output_type": "stream",
     "text": [
      "Formating and cleaning physical_exam section\n"
     ]
    },
    {
     "name": "stderr",
     "output_type": "stream",
     "text": [
      "100%|██████████| 14719/14719 [00:00<00:00, 179194.13it/s]\n",
      "100%|██████████| 14719/14719 [00:01<00:00, 11298.62it/s]\n"
     ]
    },
    {
     "name": "stdout",
     "output_type": "stream",
     "text": [
      "Counting tokens in physical_exam section\n"
     ]
    },
    {
     "name": "stderr",
     "output_type": "stream",
     "text": [
      "100%|██████████| 14719/14719 [00:18<00:00, 800.80it/s]\n"
     ]
    },
    {
     "name": "stdout",
     "output_type": "stream",
     "text": [
      "Formating and cleaning pertinent_results section\n"
     ]
    },
    {
     "name": "stderr",
     "output_type": "stream",
     "text": [
      "100%|██████████| 14719/14719 [00:00<00:00, 48229.64it/s]\n",
      "100%|██████████| 14719/14719 [00:02<00:00, 6671.22it/s]\n"
     ]
    },
    {
     "name": "stdout",
     "output_type": "stream",
     "text": [
      "Counting tokens in pertinent_results section\n"
     ]
    },
    {
     "name": "stderr",
     "output_type": "stream",
     "text": [
      "100%|██████████| 14719/14719 [00:47<00:00, 310.84it/s]\n"
     ]
    },
    {
     "name": "stdout",
     "output_type": "stream",
     "text": [
      "Formating and cleaning medication_on_admission section\n"
     ]
    },
    {
     "name": "stderr",
     "output_type": "stream",
     "text": [
      "100%|██████████| 14719/14719 [00:00<00:00, 132088.31it/s]\n",
      "100%|██████████| 14719/14719 [00:01<00:00, 13958.63it/s]\n"
     ]
    },
    {
     "name": "stdout",
     "output_type": "stream",
     "text": [
      "Counting tokens in medication_on_admission section\n"
     ]
    },
    {
     "name": "stderr",
     "output_type": "stream",
     "text": [
      "100%|██████████| 14719/14719 [00:18<00:00, 795.96it/s] \n"
     ]
    },
    {
     "name": "stdout",
     "output_type": "stream",
     "text": [
      "Formating and cleaning discharge_medications section\n"
     ]
    },
    {
     "name": "stderr",
     "output_type": "stream",
     "text": [
      "100%|██████████| 14719/14719 [00:00<00:00, 189910.64it/s]\n",
      "100%|██████████| 14719/14719 [00:03<00:00, 4653.19it/s]\n"
     ]
    },
    {
     "name": "stdout",
     "output_type": "stream",
     "text": [
      "Counting tokens in discharge_medications section\n"
     ]
    },
    {
     "name": "stderr",
     "output_type": "stream",
     "text": [
      "100%|██████████| 14719/14719 [00:18<00:00, 779.44it/s] \n"
     ]
    },
    {
     "name": "stdout",
     "output_type": "stream",
     "text": [
      "Formating and cleaning discharge_disposition section\n"
     ]
    },
    {
     "name": "stderr",
     "output_type": "stream",
     "text": [
      "100%|██████████| 14719/14719 [00:00<00:00, 59319.98it/s]\n",
      "100%|██████████| 14719/14719 [00:01<00:00, 7449.54it/s] \n"
     ]
    },
    {
     "name": "stdout",
     "output_type": "stream",
     "text": [
      "Counting tokens in discharge_disposition section\n"
     ]
    },
    {
     "name": "stderr",
     "output_type": "stream",
     "text": [
      "100%|██████████| 14719/14719 [00:04<00:00, 3663.64it/s]\n"
     ]
    },
    {
     "name": "stdout",
     "output_type": "stream",
     "text": [
      "Formating and cleaning facility section\n"
     ]
    },
    {
     "name": "stderr",
     "output_type": "stream",
     "text": [
      "100%|██████████| 14719/14719 [00:00<00:00, 261406.97it/s]\n",
      "100%|██████████| 14719/14719 [00:01<00:00, 12497.36it/s]\n"
     ]
    },
    {
     "name": "stdout",
     "output_type": "stream",
     "text": [
      "Counting tokens in facility section\n"
     ]
    },
    {
     "name": "stderr",
     "output_type": "stream",
     "text": [
      "100%|██████████| 14719/14719 [00:02<00:00, 5470.18it/s]\n"
     ]
    },
    {
     "name": "stdout",
     "output_type": "stream",
     "text": [
      "Formating and cleaning discharge_diagnosis section\n"
     ]
    },
    {
     "name": "stderr",
     "output_type": "stream",
     "text": [
      "100%|██████████| 14719/14719 [00:00<00:00, 92013.31it/s]\n",
      "100%|██████████| 14719/14719 [00:02<00:00, 6583.59it/s] \n"
     ]
    },
    {
     "name": "stdout",
     "output_type": "stream",
     "text": [
      "Counting tokens in discharge_diagnosis section\n"
     ]
    },
    {
     "name": "stderr",
     "output_type": "stream",
     "text": [
      "100%|██████████| 14719/14719 [00:06<00:00, 2123.01it/s]\n"
     ]
    },
    {
     "name": "stdout",
     "output_type": "stream",
     "text": [
      "Formating and cleaning discharge_condition section\n"
     ]
    },
    {
     "name": "stderr",
     "output_type": "stream",
     "text": [
      "100%|██████████| 14719/14719 [00:00<00:00, 190594.27it/s]\n",
      "100%|██████████| 14719/14719 [00:00<00:00, 17170.56it/s]\n"
     ]
    },
    {
     "name": "stdout",
     "output_type": "stream",
     "text": [
      "Counting tokens in discharge_condition section\n"
     ]
    },
    {
     "name": "stderr",
     "output_type": "stream",
     "text": [
      "100%|██████████| 14719/14719 [00:10<00:00, 1420.11it/s]\n"
     ]
    }
   ],
   "source": [
    "final_df = extract_clean_sections_and_count_tokens(combined_df,section_to_next_section.keys())"
   ]
  },
  {
   "cell_type": "code",
   "execution_count": 12,
   "metadata": {},
   "outputs": [
    {
     "data": {
      "text/html": [
       "<div>\n",
       "<style scoped>\n",
       "    .dataframe tbody tr th:only-of-type {\n",
       "        vertical-align: middle;\n",
       "    }\n",
       "\n",
       "    .dataframe tbody tr th {\n",
       "        vertical-align: top;\n",
       "    }\n",
       "\n",
       "    .dataframe thead th {\n",
       "        text-align: right;\n",
       "    }\n",
       "</style>\n",
       "<table border=\"1\" class=\"dataframe\">\n",
       "  <thead>\n",
       "    <tr style=\"text-align: right;\">\n",
       "      <th></th>\n",
       "      <th>hadm_id</th>\n",
       "      <th>text</th>\n",
       "      <th>discharge_instructions</th>\n",
       "      <th>brief_hospital_course</th>\n",
       "      <th>sex</th>\n",
       "      <th>sex_tokens</th>\n",
       "      <th>service</th>\n",
       "      <th>service_tokens</th>\n",
       "      <th>allergies</th>\n",
       "      <th>allergies_tokens</th>\n",
       "      <th>...</th>\n",
       "      <th>discharge_medications</th>\n",
       "      <th>discharge_medications_tokens</th>\n",
       "      <th>discharge_disposition</th>\n",
       "      <th>discharge_disposition_tokens</th>\n",
       "      <th>facility</th>\n",
       "      <th>facility_tokens</th>\n",
       "      <th>discharge_diagnosis</th>\n",
       "      <th>discharge_diagnosis_tokens</th>\n",
       "      <th>discharge_condition</th>\n",
       "      <th>discharge_condition_tokens</th>\n",
       "    </tr>\n",
       "  </thead>\n",
       "  <tbody>\n",
       "    <tr>\n",
       "      <th>0</th>\n",
       "      <td>22595853</td>\n",
       "      <td>\\nName:  ___                     Unit No:   _...</td>\n",
       "      <td>Dear Ms. ___,\\nIt was a pleasure taking care o...</td>\n",
       "      <td>___ HCV cirrhosis c/b ascites, hiv on ART, h/o...</td>\n",
       "      <td>Sex:\\nF\\n</td>\n",
       "      <td>6</td>\n",
       "      <td>Service:\\nMEDICINE\\n</td>\n",
       "      <td>9</td>\n",
       "      <td>Allergies:\\nNo Known Allergies / Adverse Drug ...</td>\n",
       "      <td>20</td>\n",
       "      <td>...</td>\n",
       "      <td>Discharge Medications:\\nAlbuterol Inhaler 2 PU...</td>\n",
       "      <td>213</td>\n",
       "      <td>Discharge Disposition:\\nHome\\n</td>\n",
       "      <td>11</td>\n",
       "      <td>Facility:\\nNone\\n</td>\n",
       "      <td>7</td>\n",
       "      <td>Discharge Diagnosis:\\nAscites from Portal HTN\\n</td>\n",
       "      <td>18</td>\n",
       "      <td>Discharge Condition:\\nMental Status: Clear and...</td>\n",
       "      <td>41</td>\n",
       "    </tr>\n",
       "    <tr>\n",
       "      <th>1</th>\n",
       "      <td>27897940</td>\n",
       "      <td>\\nName:  ___               Unit No:   ___\\n \\...</td>\n",
       "      <td>Mr. ___,\\nYou were admitted after you fell and...</td>\n",
       "      <td>Mr. ___ is an ___ with history of AAA s/p repa...</td>\n",
       "      <td>Sex:\\nM\\n</td>\n",
       "      <td>6</td>\n",
       "      <td>Service:\\nMEDICINE\\n</td>\n",
       "      <td>9</td>\n",
       "      <td>Allergies:\\nNo Known Allergies / Adverse Drug ...</td>\n",
       "      <td>20</td>\n",
       "      <td>...</td>\n",
       "      <td>Discharge Medications:\\nClopidogrel 75 mg PO D...</td>\n",
       "      <td>246</td>\n",
       "      <td>Discharge Disposition:\\nHome With Service\\n</td>\n",
       "      <td>13</td>\n",
       "      <td>Facility:\\nNone\\n</td>\n",
       "      <td>7</td>\n",
       "      <td>Discharge Diagnosis:\\nNasal fracture\\nEpistaxi...</td>\n",
       "      <td>27</td>\n",
       "      <td>Discharge Condition:\\nMental Status: Clear and...</td>\n",
       "      <td>41</td>\n",
       "    </tr>\n",
       "    <tr>\n",
       "      <th>2</th>\n",
       "      <td>24760295</td>\n",
       "      <td>\\nName:  ___                 Unit No:   ___\\n...</td>\n",
       "      <td>It was a pleasure taking care of you during yo...</td>\n",
       "      <td>___ year old female with a history of CAD s/p ...</td>\n",
       "      <td>Sex:\\nF\\n</td>\n",
       "      <td>6</td>\n",
       "      <td>Service:\\nMEDICINE\\n</td>\n",
       "      <td>9</td>\n",
       "      <td>Allergies:\\nlisinopril\\n</td>\n",
       "      <td>11</td>\n",
       "      <td>...</td>\n",
       "      <td>Discharge Medications:\\nAlbuterol Inhaler 2 PU...</td>\n",
       "      <td>545</td>\n",
       "      <td>Discharge Disposition:\\nHome\\n</td>\n",
       "      <td>11</td>\n",
       "      <td>Facility:\\nNone\\n</td>\n",
       "      <td>7</td>\n",
       "      <td>Discharge Diagnosis:\\nPrimary:\\nnon-ST elevati...</td>\n",
       "      <td>54</td>\n",
       "      <td>Discharge Condition:\\nMental Status: Clear and...</td>\n",
       "      <td>41</td>\n",
       "    </tr>\n",
       "    <tr>\n",
       "      <th>3</th>\n",
       "      <td>21329021</td>\n",
       "      <td>\\nName:  ___                       Unit No:  ...</td>\n",
       "      <td>Dear Mr. ___,  \\n \\nWHY WERE YOU ADMITTED TO T...</td>\n",
       "      <td>SUMMARY: \\n===================== \\n___ male wi...</td>\n",
       "      <td>Sex:\\nM\\n</td>\n",
       "      <td>6</td>\n",
       "      <td>Service:\\nMEDICINE\\n</td>\n",
       "      <td>9</td>\n",
       "      <td>Allergies:\\nNo Allergies/ADRs on File\\n</td>\n",
       "      <td>17</td>\n",
       "      <td>...</td>\n",
       "      <td>Discharge Medications:\\nAlbuterol Inhaler 2 PU...</td>\n",
       "      <td>516</td>\n",
       "      <td>Discharge Disposition:\\nHome\\n</td>\n",
       "      <td>11</td>\n",
       "      <td>Facility:\\nNone\\n</td>\n",
       "      <td>7</td>\n",
       "      <td>Discharge Diagnosis:\\nPrimary Diagnosis: infla...</td>\n",
       "      <td>40</td>\n",
       "      <td>Discharge Condition:\\nMental Status: Clear and...</td>\n",
       "      <td>41</td>\n",
       "    </tr>\n",
       "    <tr>\n",
       "      <th>4</th>\n",
       "      <td>25179393</td>\n",
       "      <td>\\nName:  ___.              Unit No:   ___\\n \\...</td>\n",
       "      <td>Dear Mr. ___,\\n\\nThank you for choosing us for...</td>\n",
       "      <td>___ yo male with h/o Stage IV Hodgkin's lympho...</td>\n",
       "      <td>Sex:\\nM\\n</td>\n",
       "      <td>6</td>\n",
       "      <td>Service:\\nMEDICINE\\n</td>\n",
       "      <td>9</td>\n",
       "      <td>Allergies:\\nRagweed / morphine / Percocet\\n</td>\n",
       "      <td>19</td>\n",
       "      <td>...</td>\n",
       "      <td>Discharge Medications:\\nAcyclovir 400 mg PO Q8...</td>\n",
       "      <td>284</td>\n",
       "      <td>Discharge Disposition:\\nHome\\n</td>\n",
       "      <td>11</td>\n",
       "      <td>Facility:\\nNone\\n</td>\n",
       "      <td>7</td>\n",
       "      <td>Discharge Diagnosis:\\nNeutropenic Fever\\n</td>\n",
       "      <td>18</td>\n",
       "      <td>Discharge Condition:\\nMental Status: Clear and...</td>\n",
       "      <td>41</td>\n",
       "    </tr>\n",
       "    <tr>\n",
       "      <th>...</th>\n",
       "      <td>...</td>\n",
       "      <td>...</td>\n",
       "      <td>...</td>\n",
       "      <td>...</td>\n",
       "      <td>...</td>\n",
       "      <td>...</td>\n",
       "      <td>...</td>\n",
       "      <td>...</td>\n",
       "      <td>...</td>\n",
       "      <td>...</td>\n",
       "      <td>...</td>\n",
       "      <td>...</td>\n",
       "      <td>...</td>\n",
       "      <td>...</td>\n",
       "      <td>...</td>\n",
       "      <td>...</td>\n",
       "      <td>...</td>\n",
       "      <td>...</td>\n",
       "      <td>...</td>\n",
       "      <td>...</td>\n",
       "      <td>...</td>\n",
       "    </tr>\n",
       "    <tr>\n",
       "      <th>14714</th>\n",
       "      <td>27119651</td>\n",
       "      <td>\\nName:  ___                     Unit No:   _...</td>\n",
       "      <td>Dear Mr. ___,\\n\\nYou were admitted to the hosp...</td>\n",
       "      <td>___ year old man with Stage IV COPD CAD s/p CA...</td>\n",
       "      <td>Sex:\\nM\\n</td>\n",
       "      <td>6</td>\n",
       "      <td>Service:\\nMEDICINE\\n</td>\n",
       "      <td>9</td>\n",
       "      <td>Allergies:\\nNo Known Allergies / Adverse Drug ...</td>\n",
       "      <td>20</td>\n",
       "      <td>...</td>\n",
       "      <td>Discharge Medications:\\nHeparin 5000 UNIT SC T...</td>\n",
       "      <td>460</td>\n",
       "      <td>Discharge Disposition:\\nExtended Care\\n</td>\n",
       "      <td>13</td>\n",
       "      <td>Facility:\\nNone\\n</td>\n",
       "      <td>7</td>\n",
       "      <td>Discharge Diagnosis:\\nEncephalopathy\\nSacral d...</td>\n",
       "      <td>70</td>\n",
       "      <td>Discharge Condition:\\nMental Status: Confused ...</td>\n",
       "      <td>46</td>\n",
       "    </tr>\n",
       "    <tr>\n",
       "      <th>14715</th>\n",
       "      <td>25548363</td>\n",
       "      <td>\\nName:  ___                  Unit No:   ___\\...</td>\n",
       "      <td>Dear Ms. ___,\\n\\nIt was a privilege taking car...</td>\n",
       "      <td>SUMMARY:\\n===========\\nMs. ___ is a ___ Female...</td>\n",
       "      <td>Sex:\\nF\\n</td>\n",
       "      <td>6</td>\n",
       "      <td>Service:\\nMEDICINE\\n</td>\n",
       "      <td>9</td>\n",
       "      <td>Allergies:\\nNo Known Allergies / Adverse Drug ...</td>\n",
       "      <td>28</td>\n",
       "      <td>...</td>\n",
       "      <td>Discharge Medications:\\nEnoxaparin Sodium 60 m...</td>\n",
       "      <td>259</td>\n",
       "      <td>Discharge Disposition:\\nNone\\n</td>\n",
       "      <td>11</td>\n",
       "      <td>Facility:\\nNone\\n</td>\n",
       "      <td>7</td>\n",
       "      <td>Discharge Diagnosis:\\nHome\\n \\nDischarge Diagn...</td>\n",
       "      <td>66</td>\n",
       "      <td>Discharge Condition:\\nMental Status: Clear and...</td>\n",
       "      <td>41</td>\n",
       "    </tr>\n",
       "    <tr>\n",
       "      <th>14716</th>\n",
       "      <td>24071062</td>\n",
       "      <td>\\nName:  ___                Unit No:   ___\\n ...</td>\n",
       "      <td>Dear Ms. ___,\\n\\nYou have been hospitalized at...</td>\n",
       "      <td>___ h/o temporal lobe epilepsy p/w several gen...</td>\n",
       "      <td>Sex:\\nF\\n</td>\n",
       "      <td>6</td>\n",
       "      <td>Service:\\nNEUROLOGY\\n</td>\n",
       "      <td>10</td>\n",
       "      <td>Allergies:\\nNo Known Allergies / Adverse Drug ...</td>\n",
       "      <td>20</td>\n",
       "      <td>...</td>\n",
       "      <td>Discharge Medications:\\nVimpat 50 mg Tablet Si...</td>\n",
       "      <td>289</td>\n",
       "      <td>Discharge Disposition:\\nHome\\n</td>\n",
       "      <td>11</td>\n",
       "      <td>Facility:\\nNone\\n</td>\n",
       "      <td>7</td>\n",
       "      <td>Discharge Diagnosis:\\nPrimary Diagnosis: Seizu...</td>\n",
       "      <td>19</td>\n",
       "      <td>Discharge Condition:\\nMental Status: Clear and...</td>\n",
       "      <td>55</td>\n",
       "    </tr>\n",
       "    <tr>\n",
       "      <th>14717</th>\n",
       "      <td>29046609</td>\n",
       "      <td>\\nName:  ___                   Unit No:   ___...</td>\n",
       "      <td>Dear Mr. ___,  \\n\\nIt was a pleasure taking ca...</td>\n",
       "      <td>SUMMARY:\\n========\\nMr. ___ is a ___ history o...</td>\n",
       "      <td>Sex:\\nM\\n</td>\n",
       "      <td>6</td>\n",
       "      <td>Service:\\nMEDICINE\\n</td>\n",
       "      <td>9</td>\n",
       "      <td>Allergies:\\nNo Known Allergies / Adverse Drug ...</td>\n",
       "      <td>20</td>\n",
       "      <td>...</td>\n",
       "      <td>Discharge Medications:\\nMultivitamins 1 TAB PO...</td>\n",
       "      <td>411</td>\n",
       "      <td>Discharge Disposition:\\nHome\\n</td>\n",
       "      <td>11</td>\n",
       "      <td>Facility:\\nNone\\n</td>\n",
       "      <td>7</td>\n",
       "      <td>Discharge Diagnosis:\\n#Hepatocellular carcinom...</td>\n",
       "      <td>67</td>\n",
       "      <td>Discharge Condition:\\nMental Status: Clear and...</td>\n",
       "      <td>41</td>\n",
       "    </tr>\n",
       "    <tr>\n",
       "      <th>14718</th>\n",
       "      <td>20175828</td>\n",
       "      <td>\\nName:  ___                    Unit No:   __...</td>\n",
       "      <td>Ms. ___:\\n\\nIt was a pleasure taking care of y...</td>\n",
       "      <td>This is a ___ year old female with a past medi...</td>\n",
       "      <td>Sex:\\nF\\n</td>\n",
       "      <td>6</td>\n",
       "      <td>Service:\\nMEDICINE\\n</td>\n",
       "      <td>9</td>\n",
       "      <td>Allergies:\\nNo Known Allergies / Adverse Drug ...</td>\n",
       "      <td>20</td>\n",
       "      <td>...</td>\n",
       "      <td>Discharge Medications:\\nAmlodipine 5 mg PO DAI...</td>\n",
       "      <td>301</td>\n",
       "      <td>Discharge Disposition:\\nExtended Care\\n</td>\n",
       "      <td>13</td>\n",
       "      <td>Facility:\\nNone\\n</td>\n",
       "      <td>7</td>\n",
       "      <td>Discharge Diagnosis:\\nPRIMARY\\nAcute on Chroni...</td>\n",
       "      <td>50</td>\n",
       "      <td>Discharge Condition:\\nMental Status: Clear and...</td>\n",
       "      <td>52</td>\n",
       "    </tr>\n",
       "  </tbody>\n",
       "</table>\n",
       "<p>14719 rows × 38 columns</p>\n",
       "</div>"
      ],
      "text/plain": [
       "        hadm_id                                               text  \\\n",
       "0      22595853   \\nName:  ___                     Unit No:   _...   \n",
       "1      27897940   \\nName:  ___               Unit No:   ___\\n \\...   \n",
       "2      24760295   \\nName:  ___                 Unit No:   ___\\n...   \n",
       "3      21329021   \\nName:  ___                       Unit No:  ...   \n",
       "4      25179393   \\nName:  ___.              Unit No:   ___\\n \\...   \n",
       "...         ...                                                ...   \n",
       "14714  27119651   \\nName:  ___                     Unit No:   _...   \n",
       "14715  25548363   \\nName:  ___                  Unit No:   ___\\...   \n",
       "14716  24071062   \\nName:  ___                Unit No:   ___\\n ...   \n",
       "14717  29046609   \\nName:  ___                   Unit No:   ___...   \n",
       "14718  20175828   \\nName:  ___                    Unit No:   __...   \n",
       "\n",
       "                                  discharge_instructions  \\\n",
       "0      Dear Ms. ___,\\nIt was a pleasure taking care o...   \n",
       "1      Mr. ___,\\nYou were admitted after you fell and...   \n",
       "2      It was a pleasure taking care of you during yo...   \n",
       "3      Dear Mr. ___,  \\n \\nWHY WERE YOU ADMITTED TO T...   \n",
       "4      Dear Mr. ___,\\n\\nThank you for choosing us for...   \n",
       "...                                                  ...   \n",
       "14714  Dear Mr. ___,\\n\\nYou were admitted to the hosp...   \n",
       "14715  Dear Ms. ___,\\n\\nIt was a privilege taking car...   \n",
       "14716  Dear Ms. ___,\\n\\nYou have been hospitalized at...   \n",
       "14717  Dear Mr. ___,  \\n\\nIt was a pleasure taking ca...   \n",
       "14718  Ms. ___:\\n\\nIt was a pleasure taking care of y...   \n",
       "\n",
       "                                   brief_hospital_course        sex  \\\n",
       "0      ___ HCV cirrhosis c/b ascites, hiv on ART, h/o...  Sex:\\nF\\n   \n",
       "1      Mr. ___ is an ___ with history of AAA s/p repa...  Sex:\\nM\\n   \n",
       "2      ___ year old female with a history of CAD s/p ...  Sex:\\nF\\n   \n",
       "3      SUMMARY: \\n===================== \\n___ male wi...  Sex:\\nM\\n   \n",
       "4      ___ yo male with h/o Stage IV Hodgkin's lympho...  Sex:\\nM\\n   \n",
       "...                                                  ...        ...   \n",
       "14714  ___ year old man with Stage IV COPD CAD s/p CA...  Sex:\\nM\\n   \n",
       "14715  SUMMARY:\\n===========\\nMs. ___ is a ___ Female...  Sex:\\nF\\n   \n",
       "14716  ___ h/o temporal lobe epilepsy p/w several gen...  Sex:\\nF\\n   \n",
       "14717  SUMMARY:\\n========\\nMr. ___ is a ___ history o...  Sex:\\nM\\n   \n",
       "14718  This is a ___ year old female with a past medi...  Sex:\\nF\\n   \n",
       "\n",
       "       sex_tokens                service  service_tokens  \\\n",
       "0               6   Service:\\nMEDICINE\\n               9   \n",
       "1               6   Service:\\nMEDICINE\\n               9   \n",
       "2               6   Service:\\nMEDICINE\\n               9   \n",
       "3               6   Service:\\nMEDICINE\\n               9   \n",
       "4               6   Service:\\nMEDICINE\\n               9   \n",
       "...           ...                    ...             ...   \n",
       "14714           6   Service:\\nMEDICINE\\n               9   \n",
       "14715           6   Service:\\nMEDICINE\\n               9   \n",
       "14716           6  Service:\\nNEUROLOGY\\n              10   \n",
       "14717           6   Service:\\nMEDICINE\\n               9   \n",
       "14718           6   Service:\\nMEDICINE\\n               9   \n",
       "\n",
       "                                               allergies  allergies_tokens  \\\n",
       "0      Allergies:\\nNo Known Allergies / Adverse Drug ...                20   \n",
       "1      Allergies:\\nNo Known Allergies / Adverse Drug ...                20   \n",
       "2                               Allergies:\\nlisinopril\\n                11   \n",
       "3                Allergies:\\nNo Allergies/ADRs on File\\n                17   \n",
       "4            Allergies:\\nRagweed / morphine / Percocet\\n                19   \n",
       "...                                                  ...               ...   \n",
       "14714  Allergies:\\nNo Known Allergies / Adverse Drug ...                20   \n",
       "14715  Allergies:\\nNo Known Allergies / Adverse Drug ...                28   \n",
       "14716  Allergies:\\nNo Known Allergies / Adverse Drug ...                20   \n",
       "14717  Allergies:\\nNo Known Allergies / Adverse Drug ...                20   \n",
       "14718  Allergies:\\nNo Known Allergies / Adverse Drug ...                20   \n",
       "\n",
       "       ...                              discharge_medications  \\\n",
       "0      ...  Discharge Medications:\\nAlbuterol Inhaler 2 PU...   \n",
       "1      ...  Discharge Medications:\\nClopidogrel 75 mg PO D...   \n",
       "2      ...  Discharge Medications:\\nAlbuterol Inhaler 2 PU...   \n",
       "3      ...  Discharge Medications:\\nAlbuterol Inhaler 2 PU...   \n",
       "4      ...  Discharge Medications:\\nAcyclovir 400 mg PO Q8...   \n",
       "...    ...                                                ...   \n",
       "14714  ...  Discharge Medications:\\nHeparin 5000 UNIT SC T...   \n",
       "14715  ...  Discharge Medications:\\nEnoxaparin Sodium 60 m...   \n",
       "14716  ...  Discharge Medications:\\nVimpat 50 mg Tablet Si...   \n",
       "14717  ...  Discharge Medications:\\nMultivitamins 1 TAB PO...   \n",
       "14718  ...  Discharge Medications:\\nAmlodipine 5 mg PO DAI...   \n",
       "\n",
       "       discharge_medications_tokens  \\\n",
       "0                               213   \n",
       "1                               246   \n",
       "2                               545   \n",
       "3                               516   \n",
       "4                               284   \n",
       "...                             ...   \n",
       "14714                           460   \n",
       "14715                           259   \n",
       "14716                           289   \n",
       "14717                           411   \n",
       "14718                           301   \n",
       "\n",
       "                             discharge_disposition  \\\n",
       "0                   Discharge Disposition:\\nHome\\n   \n",
       "1      Discharge Disposition:\\nHome With Service\\n   \n",
       "2                   Discharge Disposition:\\nHome\\n   \n",
       "3                   Discharge Disposition:\\nHome\\n   \n",
       "4                   Discharge Disposition:\\nHome\\n   \n",
       "...                                            ...   \n",
       "14714      Discharge Disposition:\\nExtended Care\\n   \n",
       "14715               Discharge Disposition:\\nNone\\n   \n",
       "14716               Discharge Disposition:\\nHome\\n   \n",
       "14717               Discharge Disposition:\\nHome\\n   \n",
       "14718      Discharge Disposition:\\nExtended Care\\n   \n",
       "\n",
       "       discharge_disposition_tokens           facility  facility_tokens  \\\n",
       "0                                11  Facility:\\nNone\\n                7   \n",
       "1                                13  Facility:\\nNone\\n                7   \n",
       "2                                11  Facility:\\nNone\\n                7   \n",
       "3                                11  Facility:\\nNone\\n                7   \n",
       "4                                11  Facility:\\nNone\\n                7   \n",
       "...                             ...                ...              ...   \n",
       "14714                            13  Facility:\\nNone\\n                7   \n",
       "14715                            11  Facility:\\nNone\\n                7   \n",
       "14716                            11  Facility:\\nNone\\n                7   \n",
       "14717                            11  Facility:\\nNone\\n                7   \n",
       "14718                            13  Facility:\\nNone\\n                7   \n",
       "\n",
       "                                     discharge_diagnosis  \\\n",
       "0        Discharge Diagnosis:\\nAscites from Portal HTN\\n   \n",
       "1      Discharge Diagnosis:\\nNasal fracture\\nEpistaxi...   \n",
       "2      Discharge Diagnosis:\\nPrimary:\\nnon-ST elevati...   \n",
       "3      Discharge Diagnosis:\\nPrimary Diagnosis: infla...   \n",
       "4              Discharge Diagnosis:\\nNeutropenic Fever\\n   \n",
       "...                                                  ...   \n",
       "14714  Discharge Diagnosis:\\nEncephalopathy\\nSacral d...   \n",
       "14715  Discharge Diagnosis:\\nHome\\n \\nDischarge Diagn...   \n",
       "14716  Discharge Diagnosis:\\nPrimary Diagnosis: Seizu...   \n",
       "14717  Discharge Diagnosis:\\n#Hepatocellular carcinom...   \n",
       "14718  Discharge Diagnosis:\\nPRIMARY\\nAcute on Chroni...   \n",
       "\n",
       "       discharge_diagnosis_tokens  \\\n",
       "0                              18   \n",
       "1                              27   \n",
       "2                              54   \n",
       "3                              40   \n",
       "4                              18   \n",
       "...                           ...   \n",
       "14714                          70   \n",
       "14715                          66   \n",
       "14716                          19   \n",
       "14717                          67   \n",
       "14718                          50   \n",
       "\n",
       "                                     discharge_condition  \\\n",
       "0      Discharge Condition:\\nMental Status: Clear and...   \n",
       "1      Discharge Condition:\\nMental Status: Clear and...   \n",
       "2      Discharge Condition:\\nMental Status: Clear and...   \n",
       "3      Discharge Condition:\\nMental Status: Clear and...   \n",
       "4      Discharge Condition:\\nMental Status: Clear and...   \n",
       "...                                                  ...   \n",
       "14714  Discharge Condition:\\nMental Status: Confused ...   \n",
       "14715  Discharge Condition:\\nMental Status: Clear and...   \n",
       "14716  Discharge Condition:\\nMental Status: Clear and...   \n",
       "14717  Discharge Condition:\\nMental Status: Clear and...   \n",
       "14718  Discharge Condition:\\nMental Status: Clear and...   \n",
       "\n",
       "       discharge_condition_tokens  \n",
       "0                              41  \n",
       "1                              41  \n",
       "2                              41  \n",
       "3                              41  \n",
       "4                              41  \n",
       "...                           ...  \n",
       "14714                          46  \n",
       "14715                          41  \n",
       "14716                          55  \n",
       "14717                          41  \n",
       "14718                          52  \n",
       "\n",
       "[14719 rows x 38 columns]"
      ]
     },
     "metadata": {},
     "output_type": "display_data"
    }
   ],
   "source": [
    "display(final_df)"
   ]
  },
  {
   "cell_type": "code",
   "execution_count": 55,
   "metadata": {},
   "outputs": [
    {
     "name": "stderr",
     "output_type": "stream",
     "text": [
      "Selecting strategy: 100%|██████████| 14719/14719 [00:56<00:00, 260.00it/s]"
     ]
    },
    {
     "name": "stdout",
     "output_type": "stream",
     "text": [
      "Number of rows that exceed the maximum length: 0/14719\n"
     ]
    },
    {
     "name": "stderr",
     "output_type": "stream",
     "text": [
      "\n"
     ]
    }
   ],
   "source": [
    "prompts_ = select_strategy(final_df, 'BHC', max_length=3000)"
   ]
  },
  {
   "cell_type": "code",
   "execution_count": 4,
   "metadata": {},
   "outputs": [
    {
     "name": "stdout",
     "output_type": "stream",
     "text": [
      "['sex', 'service', 'chief_complaint', 'history_of_present_illness', 'pertinent_results', 'physical_exam', 'major_surgical_procedures', 'past_medical_history', 'medication_on_admission', 'allergies', 'social_history', 'family_history']\n",
      "['sex', 'service', 'chief_complaint', 'history_of_present_illness', 'pertinent_results', 'physical_exam', 'major_surgical_procedures', 'past_medical_history', 'medication_on_admission', 'allergies', 'social_history']\n",
      "['sex', 'service', 'chief_complaint', 'history_of_present_illness', 'pertinent_results', 'physical_exam', 'major_surgical_procedures', 'past_medical_history', 'medication_on_admission', 'allergies', 'family_history']\n",
      "['sex', 'service', 'chief_complaint', 'history_of_present_illness', 'pertinent_results', 'physical_exam', 'major_surgical_procedures', 'past_medical_history', 'medication_on_admission', 'social_history', 'family_history']\n",
      "['sex', 'service', 'chief_complaint', 'history_of_present_illness', 'pertinent_results', 'physical_exam', 'major_surgical_procedures', 'past_medical_history', 'medication_on_admission', 'allergies']\n",
      "['sex', 'service', 'chief_complaint', 'history_of_present_illness', 'pertinent_results', 'physical_exam', 'major_surgical_procedures', 'past_medical_history', 'medication_on_admission', 'social_history']\n",
      "['sex', 'service', 'chief_complaint', 'history_of_present_illness', 'pertinent_results', 'physical_exam', 'major_surgical_procedures', 'past_medical_history', 'medication_on_admission', 'family_history']\n",
      "['sex', 'service', 'chief_complaint', 'history_of_present_illness', 'pertinent_results', 'physical_exam', 'major_surgical_procedures', 'past_medical_history', 'medication_on_admission']\n",
      "['sex', 'service', 'chief_complaint', 'history_of_present_illness', 'pertinent_results', 'physical_exam', 'major_surgical_procedures', 'past_medical_history', 'allergies', 'social_history', 'family_history']\n",
      "['sex', 'service', 'chief_complaint', 'history_of_present_illness', 'pertinent_results', 'physical_exam', 'major_surgical_procedures', 'medication_on_admission', 'allergies', 'social_history', 'family_history']\n",
      "1024\n",
      "False\n"
     ]
    }
   ],
   "source": [
    "bhc_strategy = generate_strategies(bhc_importance_order, removeable_bhc)\n",
    "\n",
    "for strat in bhc_strategy[:10]:\n",
    "    print(strat)    \n",
    "\n",
    "def has_duplicates(lst):\n",
    "    seen = set()\n",
    "    for sublist in lst:\n",
    "        sublist_tuple = tuple(sublist)  # Convert sublist to tuple, as lists are unhashable\n",
    "        if sublist_tuple in seen:\n",
    "            return True\n",
    "        seen.add(sublist_tuple)\n",
    "    return False\n",
    "\n",
    "print(len(bhc_strategy))\n",
    "print(has_duplicates(bhc_strategy))\n",
    "\n",
    "    "
   ]
  },
  {
   "cell_type": "code",
   "execution_count": 53,
   "metadata": {},
   "outputs": [
    {
     "name": "stdout",
     "output_type": "stream",
     "text": [
      "32\n",
      "True\n"
     ]
    }
   ],
   "source": [
    "di_strategy = generate_strategies(di_importance_order, removeable_di)\n",
    "\n",
    "print(len(di_strategy))\n",
    "print(has_duplicates(di_strategy))\n"
   ]
  },
  {
   "cell_type": "code",
   "execution_count": 13,
   "metadata": {},
   "outputs": [],
   "source": [
    "test_preprocessed = pd.read_csv('data/preprocessed_test/train_sample.csv')"
   ]
  },
  {
   "cell_type": "code",
   "execution_count": 16,
   "metadata": {},
   "outputs": [
    {
     "data": {
      "text/html": [
       "<div>\n",
       "<style scoped>\n",
       "    .dataframe tbody tr th:only-of-type {\n",
       "        vertical-align: middle;\n",
       "    }\n",
       "\n",
       "    .dataframe tbody tr th {\n",
       "        vertical-align: top;\n",
       "    }\n",
       "\n",
       "    .dataframe thead th {\n",
       "        text-align: right;\n",
       "    }\n",
       "</style>\n",
       "<table border=\"1\" class=\"dataframe\">\n",
       "  <thead>\n",
       "    <tr style=\"text-align: right;\">\n",
       "      <th></th>\n",
       "      <th>idx</th>\n",
       "      <th>prompt</th>\n",
       "      <th>reference</th>\n",
       "    </tr>\n",
       "  </thead>\n",
       "  <tbody>\n",
       "    <tr>\n",
       "      <th>0</th>\n",
       "      <td>28448473</td>\n",
       "      <td>You are a medical assistant. Your task is to w...</td>\n",
       "      <td>Mr. ___ was admitted from the emergency depart...</td>\n",
       "    </tr>\n",
       "    <tr>\n",
       "      <th>1</th>\n",
       "      <td>22343752</td>\n",
       "      <td>You are a medical assistant. Your task is to w...</td>\n",
       "      <td>___ year old female with past medical history ...</td>\n",
       "    </tr>\n",
       "    <tr>\n",
       "      <th>2</th>\n",
       "      <td>24572540</td>\n",
       "      <td>You are a medical assistant. Your task is to w...</td>\n",
       "      <td>___ gentleman DM2, CAD s/p CABG, ischemic card...</td>\n",
       "    </tr>\n",
       "    <tr>\n",
       "      <th>3</th>\n",
       "      <td>24903173</td>\n",
       "      <td>You are a medical assistant. Your task is to w...</td>\n",
       "      <td>Mr. ___ was admitted from the emergency depart...</td>\n",
       "    </tr>\n",
       "    <tr>\n",
       "      <th>4</th>\n",
       "      <td>25710540</td>\n",
       "      <td>You are a medical assistant. Your task is to w...</td>\n",
       "      <td>Patient underwent LLE angiogram with popliteal...</td>\n",
       "    </tr>\n",
       "    <tr>\n",
       "      <th>...</th>\n",
       "      <td>...</td>\n",
       "      <td>...</td>\n",
       "      <td>...</td>\n",
       "    </tr>\n",
       "    <tr>\n",
       "      <th>995</th>\n",
       "      <td>28066594</td>\n",
       "      <td>You are a medical assistant. Your task is to w...</td>\n",
       "      <td>Mr. ___ is a ___ yo man with previous smoking ...</td>\n",
       "    </tr>\n",
       "    <tr>\n",
       "      <th>996</th>\n",
       "      <td>26456634</td>\n",
       "      <td>You are a medical assistant. Your task is to w...</td>\n",
       "      <td>Ms. ___ is a ___ w/ HFrEF (LVEF 40%), RCC s/p ...</td>\n",
       "    </tr>\n",
       "    <tr>\n",
       "      <th>997</th>\n",
       "      <td>25042015</td>\n",
       "      <td>You are a medical assistant. Your task is to w...</td>\n",
       "      <td>The patient was admitted to the General Surgic...</td>\n",
       "    </tr>\n",
       "    <tr>\n",
       "      <th>998</th>\n",
       "      <td>29189491</td>\n",
       "      <td>You are a medical assistant. Your task is to w...</td>\n",
       "      <td># Hyponatremia: Pt received NS repletion and N...</td>\n",
       "    </tr>\n",
       "    <tr>\n",
       "      <th>999</th>\n",
       "      <td>23185184</td>\n",
       "      <td>You are a medical assistant. Your task is to w...</td>\n",
       "      <td>___ with hx of renal cancer s/p nephrectomy __...</td>\n",
       "    </tr>\n",
       "  </tbody>\n",
       "</table>\n",
       "<p>1000 rows × 3 columns</p>\n",
       "</div>"
      ],
      "text/plain": [
       "          idx                                             prompt  \\\n",
       "0    28448473  You are a medical assistant. Your task is to w...   \n",
       "1    22343752  You are a medical assistant. Your task is to w...   \n",
       "2    24572540  You are a medical assistant. Your task is to w...   \n",
       "3    24903173  You are a medical assistant. Your task is to w...   \n",
       "4    25710540  You are a medical assistant. Your task is to w...   \n",
       "..        ...                                                ...   \n",
       "995  28066594  You are a medical assistant. Your task is to w...   \n",
       "996  26456634  You are a medical assistant. Your task is to w...   \n",
       "997  25042015  You are a medical assistant. Your task is to w...   \n",
       "998  29189491  You are a medical assistant. Your task is to w...   \n",
       "999  23185184  You are a medical assistant. Your task is to w...   \n",
       "\n",
       "                                             reference  \n",
       "0    Mr. ___ was admitted from the emergency depart...  \n",
       "1    ___ year old female with past medical history ...  \n",
       "2    ___ gentleman DM2, CAD s/p CABG, ischemic card...  \n",
       "3    Mr. ___ was admitted from the emergency depart...  \n",
       "4    Patient underwent LLE angiogram with popliteal...  \n",
       "..                                                 ...  \n",
       "995  Mr. ___ is a ___ yo man with previous smoking ...  \n",
       "996  Ms. ___ is a ___ w/ HFrEF (LVEF 40%), RCC s/p ...  \n",
       "997  The patient was admitted to the General Surgic...  \n",
       "998  # Hyponatremia: Pt received NS repletion and N...  \n",
       "999  ___ with hx of renal cancer s/p nephrectomy __...  \n",
       "\n",
       "[1000 rows x 3 columns]"
      ]
     },
     "metadata": {},
     "output_type": "display_data"
    }
   ],
   "source": [
    "display(test_preprocessed)"
   ]
  }
 ],
 "metadata": {
  "kernelspec": {
   "display_name": "ada3.10",
   "language": "python",
   "name": "python3"
  },
  "language_info": {
   "codemirror_mode": {
    "name": "ipython",
    "version": 3
   },
   "file_extension": ".py",
   "mimetype": "text/x-python",
   "name": "python",
   "nbconvert_exporter": "python",
   "pygments_lexer": "ipython3",
   "version": "3.10.13"
  }
 },
 "nbformat": 4,
 "nbformat_minor": 2
}
