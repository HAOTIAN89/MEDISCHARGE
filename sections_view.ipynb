{
 "cells": [
  {
   "cell_type": "code",
   "execution_count": 1,
   "metadata": {},
   "outputs": [],
   "source": [
    "import regex as re\n",
    "import pandas as pd\n",
    "from src.utils.preprocessing import *\n",
    "\n",
    "%load_ext autoreload\n",
    "%autoreload 2"
   ]
  },
  {
   "cell_type": "code",
   "execution_count": 2,
   "metadata": {},
   "outputs": [
    {
     "ename": "NameError",
     "evalue": "name 'all_starts_and_ends' is not defined",
     "output_type": "error",
     "traceback": [
      "\u001b[0;31m---------------------------------------------------------------------------\u001b[0m",
      "\u001b[0;31mNameError\u001b[0m                                 Traceback (most recent call last)",
      "Cell \u001b[0;32mIn[2], line 35\u001b[0m\n\u001b[1;32m     13\u001b[0m to_ignore2 \u001b[38;5;241m=\u001b[39m [\u001b[38;5;124m'\u001b[39m\u001b[38;5;124m.\u001b[39m\u001b[38;5;124m'\u001b[39m,\n\u001b[1;32m     14\u001b[0m                 \u001b[38;5;124m'\u001b[39m\u001b[38;5;124m)\u001b[39m\u001b[38;5;124m'\u001b[39m,\n\u001b[1;32m     15\u001b[0m                 \u001b[38;5;124m'\u001b[39m\u001b[38;5;124m(\u001b[39m\u001b[38;5;124m'\u001b[39m,\n\u001b[0;32m   (...)\u001b[0m\n\u001b[1;32m     18\u001b[0m                 \u001b[38;5;124m'\u001b[39m\u001b[38;5;124m/\u001b[39m\u001b[38;5;124m'\u001b[39m,\n\u001b[1;32m     19\u001b[0m                 \u001b[38;5;124m'\u001b[39m\u001b[38;5;124m_\u001b[39m\u001b[38;5;124m'\u001b[39m]\n\u001b[1;32m     21\u001b[0m to_ignore3 \u001b[38;5;241m=\u001b[39m [\u001b[38;5;124m'\u001b[39m\u001b[38;5;124mprimary care physician    found down\u001b[39m\u001b[38;5;124m'\u001b[39m,\n\u001b[1;32m     22\u001b[0m               \u001b[38;5;124m'\u001b[39m\u001b[38;5;124mdate of birth\u001b[39m\u001b[38;5;124m'\u001b[39m,\n\u001b[1;32m     23\u001b[0m               \u001b[38;5;124m'\u001b[39m\u001b[38;5;124mno\u001b[39m\u001b[38;5;124m'\u001b[39m,\n\u001b[0;32m   (...)\u001b[0m\n\u001b[1;32m     32\u001b[0m               \u001b[38;5;124m'\u001b[39m\u001b[38;5;124m#1 to\u001b[39m\u001b[38;5;124m'\u001b[39m,\n\u001b[1;32m     33\u001b[0m               \u001b[38;5;124m'\u001b[39m\u001b[38;5;124mlethargy\u001b[39m\u001b[38;5;124m'\u001b[39m]\n\u001b[0;32m---> 35\u001b[0m to_inline \u001b[38;5;241m=\u001b[39m \u001b[43mall_starts_and_ends\u001b[49m\n\u001b[1;32m     37\u001b[0m to_ignore1\u001b[38;5;241m.\u001b[39mextend(all_starts_and_ends)\n\u001b[1;32m     40\u001b[0m \u001b[38;5;28;01mdef\u001b[39;00m \u001b[38;5;21mfind_difference\u001b[39m(string1, string2):\n",
      "\u001b[0;31mNameError\u001b[0m: name 'all_starts_and_ends' is not defined"
     ]
    }
   ],
   "source": [
    "to_ignore1 = ['name:  ___',\n",
    "                'unit no:   ___',\n",
    "                'admission date:  ___',\n",
    "                'discharge date:   ___',\n",
    "                'date of birth:  ___',\n",
    "                'date of birth'\n",
    "                'followup instructions:',\n",
    "                'attending: ___.',\n",
    "                'attending: ___',\n",
    "                '___ no:   ___',\n",
    "                'Unit ___:']\n",
    "\n",
    "to_ignore2 = ['.',\n",
    "                ')',\n",
    "                '(',\n",
    "                ':',\n",
    "                ',',\n",
    "                '/',\n",
    "                '_']\n",
    "\n",
    "to_ignore3 = ['primary care physician    found down',\n",
    "              'date of birth',\n",
    "              'no',\n",
    "              'md',\n",
    "              'tia',\n",
    "              'date  birth',\n",
    "              'sr',\n",
    "              'admission date',\n",
    "              'discharge date',\n",
    "              'fr',\n",
    "              'physical  physical exam',\n",
    "              '#1 to',\n",
    "              'lethargy']\n",
    "\n",
    "to_inline = all_starts_and_ends\n",
    "\n",
    "to_ignore1.extend(all_starts_and_ends)\n",
    "\n",
    "\n",
    "def find_difference(string1, string2):\n",
    "    for marker in to_inline:\n",
    "        string1 = string1.lower().replace(marker.lower(), f'\\n{marker.lower()}\\n', 1)\n",
    "        string2 = string2.lower().replace(marker.lower(), f'\\n{marker.lower()}\\n', 1)\n",
    "\n",
    "    #print(string1)\n",
    "    #print(string2)\n",
    "\n",
    "    lines1 = [line.strip().lower() for line in string1.split('\\n')]\n",
    "    lines2 = [line.strip().lower() for line in string2.split('\\n')]\n",
    "\n",
    "    diff_lines = [line for line in lines1 if line not in lines2]\n",
    "    diff_lines = [line for line in diff_lines if line not in string2]\n",
    "    diff_string = '\\n'.join(diff_lines)\n",
    "\n",
    "    for ignore in to_ignore1:\n",
    "        diff_string = diff_string.replace(ignore.lower(), '')\n",
    "    \n",
    "    for ignore in to_ignore2:    \n",
    "        diff_string = diff_string.replace(ignore.lower(), '')\n",
    "\n",
    "    for ignore in to_ignore3:\n",
    "        diff_string = diff_string.replace(ignore.lower(), '')\n",
    "    \n",
    "    return diff_string.strip()"
   ]
  },
  {
   "cell_type": "code",
   "execution_count": 4,
   "metadata": {},
   "outputs": [],
   "source": [
    "discharge_df = pd.read_csv('data/version1.4_ours/valid/discharge.csv.gz', compression='gzip')\n",
    "target_df = pd.read_csv('data/version1.4_ours/valid/discharge_target.csv.gz', compression='gzip')"
   ]
  },
  {
   "cell_type": "code",
   "execution_count": 5,
   "metadata": {},
   "outputs": [],
   "source": [
    "combined_df = build_combined_discharge(discharge_df, target_df)"
   ]
  },
  {
   "cell_type": "code",
   "execution_count": 9,
   "metadata": {},
   "outputs": [
    {
     "name": "stdout",
     "output_type": "stream",
     "text": [
      "Removing BHC and DI from the discharge\n"
     ]
    },
    {
     "name": "stderr",
     "output_type": "stream",
     "text": [
      "100%|██████████| 14719/14719 [00:02<00:00, 6590.66it/s]\n"
     ]
    },
    {
     "name": "stdout",
     "output_type": "stream",
     "text": [
      "Extracting features\n"
     ]
    },
    {
     "name": "stderr",
     "output_type": "stream",
     "text": [
      "100%|██████████| 14719/14719 [00:43<00:00, 341.21it/s]\n"
     ]
    },
    {
     "name": "stdout",
     "output_type": "stream",
     "text": [
      "Formating and cleaning sex section\n"
     ]
    },
    {
     "name": "stderr",
     "output_type": "stream",
     "text": [
      "100%|██████████| 14719/14719 [00:00<00:00, 387078.73it/s]\n",
      "100%|██████████| 14719/14719 [00:00<00:00, 27888.73it/s]\n"
     ]
    },
    {
     "name": "stdout",
     "output_type": "stream",
     "text": [
      "Counting tokens in sex section\n"
     ]
    },
    {
     "name": "stderr",
     "output_type": "stream",
     "text": [
      "100%|██████████| 14719/14719 [00:01<00:00, 14488.36it/s]\n"
     ]
    },
    {
     "name": "stdout",
     "output_type": "stream",
     "text": [
      "Formating and cleaning service section\n"
     ]
    },
    {
     "name": "stderr",
     "output_type": "stream",
     "text": [
      "100%|██████████| 14719/14719 [00:00<00:00, 429476.51it/s]\n",
      "100%|██████████| 14719/14719 [00:01<00:00, 12667.27it/s]\n"
     ]
    },
    {
     "name": "stdout",
     "output_type": "stream",
     "text": [
      "Counting tokens in service section\n"
     ]
    },
    {
     "name": "stderr",
     "output_type": "stream",
     "text": [
      "100%|██████████| 14719/14719 [00:01<00:00, 13295.28it/s]\n"
     ]
    },
    {
     "name": "stdout",
     "output_type": "stream",
     "text": [
      "Formating and cleaning allergies section\n"
     ]
    },
    {
     "name": "stderr",
     "output_type": "stream",
     "text": [
      "100%|██████████| 14719/14719 [00:00<00:00, 384949.93it/s]\n",
      "100%|██████████| 14719/14719 [00:00<00:00, 25555.51it/s]\n"
     ]
    },
    {
     "name": "stdout",
     "output_type": "stream",
     "text": [
      "Counting tokens in allergies section\n"
     ]
    },
    {
     "name": "stderr",
     "output_type": "stream",
     "text": [
      "100%|██████████| 14719/14719 [00:02<00:00, 6741.63it/s]\n"
     ]
    },
    {
     "name": "stdout",
     "output_type": "stream",
     "text": [
      "Formating and cleaning chief_complaint section\n"
     ]
    },
    {
     "name": "stderr",
     "output_type": "stream",
     "text": [
      "100%|██████████| 14719/14719 [00:00<00:00, 415803.17it/s]\n",
      "100%|██████████| 14719/14719 [00:00<00:00, 25375.87it/s]\n"
     ]
    },
    {
     "name": "stdout",
     "output_type": "stream",
     "text": [
      "Counting tokens in chief_complaint section\n"
     ]
    },
    {
     "name": "stderr",
     "output_type": "stream",
     "text": [
      "100%|██████████| 14719/14719 [00:01<00:00, 11403.15it/s]\n"
     ]
    },
    {
     "name": "stdout",
     "output_type": "stream",
     "text": [
      "Formating and cleaning major_surgical_procedures section\n"
     ]
    },
    {
     "name": "stderr",
     "output_type": "stream",
     "text": [
      "100%|██████████| 14719/14719 [00:00<00:00, 284992.64it/s]\n",
      "100%|██████████| 14719/14719 [00:01<00:00, 13992.02it/s]\n"
     ]
    },
    {
     "name": "stdout",
     "output_type": "stream",
     "text": [
      "Counting tokens in major_surgical_procedures section\n"
     ]
    },
    {
     "name": "stderr",
     "output_type": "stream",
     "text": [
      "100%|██████████| 14719/14719 [00:01<00:00, 8065.93it/s]\n"
     ]
    },
    {
     "name": "stdout",
     "output_type": "stream",
     "text": [
      "Formating and cleaning history_of_present_illness section\n"
     ]
    },
    {
     "name": "stderr",
     "output_type": "stream",
     "text": [
      "100%|██████████| 14719/14719 [00:00<00:00, 193355.70it/s]\n",
      "100%|██████████| 14719/14719 [00:00<00:00, 17209.87it/s]\n"
     ]
    },
    {
     "name": "stdout",
     "output_type": "stream",
     "text": [
      "Counting tokens in history_of_present_illness section\n"
     ]
    },
    {
     "name": "stderr",
     "output_type": "stream",
     "text": [
      "100%|██████████| 14719/14719 [00:25<00:00, 582.47it/s]\n"
     ]
    },
    {
     "name": "stdout",
     "output_type": "stream",
     "text": [
      "Formating and cleaning past_medical_history section\n"
     ]
    },
    {
     "name": "stderr",
     "output_type": "stream",
     "text": [
      "100%|██████████| 14719/14719 [00:00<00:00, 167020.06it/s]\n",
      "100%|██████████| 14719/14719 [00:01<00:00, 8166.51it/s] \n"
     ]
    },
    {
     "name": "stdout",
     "output_type": "stream",
     "text": [
      "Counting tokens in past_medical_history section\n"
     ]
    },
    {
     "name": "stderr",
     "output_type": "stream",
     "text": [
      "100%|██████████| 14719/14719 [00:07<00:00, 2038.08it/s]\n"
     ]
    },
    {
     "name": "stdout",
     "output_type": "stream",
     "text": [
      "Formating and cleaning social_history section\n"
     ]
    },
    {
     "name": "stderr",
     "output_type": "stream",
     "text": [
      "100%|██████████| 14719/14719 [00:00<00:00, 340473.19it/s]\n",
      "100%|██████████| 14719/14719 [00:00<00:00, 27226.76it/s]\n"
     ]
    },
    {
     "name": "stdout",
     "output_type": "stream",
     "text": [
      "Counting tokens in social_history section\n"
     ]
    },
    {
     "name": "stderr",
     "output_type": "stream",
     "text": [
      "100%|██████████| 14719/14719 [00:01<00:00, 12298.77it/s]\n"
     ]
    },
    {
     "name": "stdout",
     "output_type": "stream",
     "text": [
      "Formating and cleaning family_history section\n"
     ]
    },
    {
     "name": "stderr",
     "output_type": "stream",
     "text": [
      "100%|██████████| 14719/14719 [00:00<00:00, 301124.59it/s]\n",
      "100%|██████████| 14719/14719 [00:00<00:00, 15856.24it/s]\n"
     ]
    },
    {
     "name": "stdout",
     "output_type": "stream",
     "text": [
      "Counting tokens in family_history section\n"
     ]
    },
    {
     "name": "stderr",
     "output_type": "stream",
     "text": [
      "100%|██████████| 14719/14719 [00:01<00:00, 7816.14it/s]\n"
     ]
    },
    {
     "name": "stdout",
     "output_type": "stream",
     "text": [
      "Formating and cleaning physical_exam section\n"
     ]
    },
    {
     "name": "stderr",
     "output_type": "stream",
     "text": [
      "100%|██████████| 14719/14719 [00:00<00:00, 307979.15it/s]\n",
      "100%|██████████| 14719/14719 [00:01<00:00, 13510.24it/s]\n"
     ]
    },
    {
     "name": "stdout",
     "output_type": "stream",
     "text": [
      "Counting tokens in physical_exam section\n"
     ]
    },
    {
     "name": "stderr",
     "output_type": "stream",
     "text": [
      "100%|██████████| 14719/14719 [00:13<00:00, 1098.34it/s]\n"
     ]
    },
    {
     "name": "stdout",
     "output_type": "stream",
     "text": [
      "Formating and cleaning pertinent_results section\n"
     ]
    },
    {
     "name": "stderr",
     "output_type": "stream",
     "text": [
      "100%|██████████| 14719/14719 [00:00<00:00, 136702.24it/s]\n",
      "100%|██████████| 14719/14719 [00:01<00:00, 7727.15it/s]\n"
     ]
    },
    {
     "name": "stdout",
     "output_type": "stream",
     "text": [
      "Counting tokens in pertinent_results section\n"
     ]
    },
    {
     "name": "stderr",
     "output_type": "stream",
     "text": [
      "100%|██████████| 14719/14719 [00:30<00:00, 479.44it/s]\n"
     ]
    },
    {
     "name": "stdout",
     "output_type": "stream",
     "text": [
      "Formating and cleaning medication_on_admission section\n"
     ]
    },
    {
     "name": "stderr",
     "output_type": "stream",
     "text": [
      "100%|██████████| 14719/14719 [00:00<00:00, 275776.87it/s]\n",
      "100%|██████████| 14719/14719 [00:00<00:00, 20881.87it/s]\n"
     ]
    },
    {
     "name": "stdout",
     "output_type": "stream",
     "text": [
      "Counting tokens in medication_on_admission section\n"
     ]
    },
    {
     "name": "stderr",
     "output_type": "stream",
     "text": [
      "100%|██████████| 14719/14719 [00:05<00:00, 2692.53it/s]\n"
     ]
    },
    {
     "name": "stdout",
     "output_type": "stream",
     "text": [
      "Formating and cleaning discharge_medications section\n"
     ]
    },
    {
     "name": "stderr",
     "output_type": "stream",
     "text": [
      "100%|██████████| 14719/14719 [00:00<00:00, 181577.42it/s]\n",
      "100%|██████████| 14719/14719 [00:00<00:00, 17688.81it/s]\n"
     ]
    },
    {
     "name": "stdout",
     "output_type": "stream",
     "text": [
      "Counting tokens in discharge_medications section\n"
     ]
    },
    {
     "name": "stderr",
     "output_type": "stream",
     "text": [
      "100%|██████████| 14719/14719 [00:16<00:00, 903.48it/s] \n"
     ]
    },
    {
     "name": "stdout",
     "output_type": "stream",
     "text": [
      "Formating and cleaning discharge_disposition section\n"
     ]
    },
    {
     "name": "stderr",
     "output_type": "stream",
     "text": [
      "100%|██████████| 14719/14719 [00:00<00:00, 218847.34it/s]\n",
      "100%|██████████| 14719/14719 [00:01<00:00, 13138.56it/s]\n"
     ]
    },
    {
     "name": "stdout",
     "output_type": "stream",
     "text": [
      "Counting tokens in discharge_disposition section\n"
     ]
    },
    {
     "name": "stderr",
     "output_type": "stream",
     "text": [
      "100%|██████████| 14719/14719 [00:02<00:00, 7022.25it/s]\n"
     ]
    },
    {
     "name": "stdout",
     "output_type": "stream",
     "text": [
      "Formating and cleaning facility section\n"
     ]
    },
    {
     "name": "stderr",
     "output_type": "stream",
     "text": [
      "100%|██████████| 14719/14719 [00:00<00:00, 144196.41it/s]\n",
      "100%|██████████| 14719/14719 [00:00<00:00, 15641.59it/s]\n"
     ]
    },
    {
     "name": "stdout",
     "output_type": "stream",
     "text": [
      "Counting tokens in facility section\n"
     ]
    },
    {
     "name": "stderr",
     "output_type": "stream",
     "text": [
      "100%|██████████| 14719/14719 [00:02<00:00, 6613.25it/s]\n"
     ]
    },
    {
     "name": "stdout",
     "output_type": "stream",
     "text": [
      "Formating and cleaning discharge_diagnosis section\n"
     ]
    },
    {
     "name": "stderr",
     "output_type": "stream",
     "text": [
      "100%|██████████| 14719/14719 [00:00<00:00, 182690.23it/s]\n",
      "100%|██████████| 14719/14719 [00:01<00:00, 11198.52it/s]\n"
     ]
    },
    {
     "name": "stdout",
     "output_type": "stream",
     "text": [
      "Counting tokens in discharge_diagnosis section\n"
     ]
    },
    {
     "name": "stderr",
     "output_type": "stream",
     "text": [
      "100%|██████████| 14719/14719 [00:02<00:00, 5059.50it/s]\n"
     ]
    },
    {
     "name": "stdout",
     "output_type": "stream",
     "text": [
      "Formating and cleaning discharge_condition section\n"
     ]
    },
    {
     "name": "stderr",
     "output_type": "stream",
     "text": [
      "100%|██████████| 14719/14719 [00:00<00:00, 52248.03it/s]\n",
      "100%|██████████| 14719/14719 [00:01<00:00, 13115.21it/s]\n"
     ]
    },
    {
     "name": "stdout",
     "output_type": "stream",
     "text": [
      "Counting tokens in discharge_condition section\n"
     ]
    },
    {
     "name": "stderr",
     "output_type": "stream",
     "text": [
      "100%|██████████| 14719/14719 [00:04<00:00, 3446.76it/s]\n"
     ]
    }
   ],
   "source": [
    "final_df = extract_clean_sections_and_count_tokens(combined_df,section_to_next_section.keys())"
   ]
  },
  {
   "cell_type": "code",
   "execution_count": 13,
   "metadata": {},
   "outputs": [
    {
     "name": "stderr",
     "output_type": "stream",
     "text": [
      "Selecting strategy: 100%|██████████| 14719/14719 [00:05<00:00, 2628.35it/s]"
     ]
    },
    {
     "name": "stdout",
     "output_type": "stream",
     "text": [
      "Number of rows that exceed the maximum length: 0/14719\n"
     ]
    },
    {
     "name": "stderr",
     "output_type": "stream",
     "text": [
      "\n"
     ]
    }
   ],
   "source": [
    "prompts_ = select_strategy(final_df, 'BHC', max_length=3000)"
   ]
  },
  {
   "cell_type": "code",
   "execution_count": null,
   "metadata": {},
   "outputs": [],
   "source": []
  }
 ],
 "metadata": {
  "kernelspec": {
   "display_name": "ada3.10",
   "language": "python",
   "name": "python3"
  },
  "language_info": {
   "codemirror_mode": {
    "name": "ipython",
    "version": 3
   },
   "file_extension": ".py",
   "mimetype": "text/x-python",
   "name": "python",
   "nbconvert_exporter": "python",
   "pygments_lexer": "ipython3",
   "version": "3.10.13"
  }
 },
 "nbformat": 4,
 "nbformat_minor": 2
}
