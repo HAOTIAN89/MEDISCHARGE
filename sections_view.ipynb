{
 "cells": [
  {
   "cell_type": "code",
   "execution_count": 51,
   "metadata": {},
   "outputs": [
    {
     "name": "stdout",
     "output_type": "stream",
     "text": [
      "The autoreload extension is already loaded. To reload it, use:\n",
      "  %reload_ext autoreload\n"
     ]
    }
   ],
   "source": [
    "import regex as re\n",
    "import pandas as pd\n",
    "from src.utils.preprocessing import *\n",
    "\n",
    "%load_ext autoreload\n",
    "%autoreload 2"
   ]
  },
  {
   "cell_type": "code",
   "execution_count": null,
   "metadata": {},
   "outputs": [],
   "source": [
    "to_ignore1 = ['name:  ___',\n",
    "                'unit no:   ___',\n",
    "                'admission date:  ___',\n",
    "                'discharge date:   ___',\n",
    "                'date of birth:  ___',\n",
    "                'date of birth'\n",
    "                'followup instructions:',\n",
    "                'attending: ___.',\n",
    "                'attending: ___',\n",
    "                '___ no:   ___',\n",
    "                'Unit ___:']\n",
    "\n",
    "to_ignore2 = ['.',\n",
    "                ')',\n",
    "                '(',\n",
    "                ':',\n",
    "                ',',\n",
    "                '/',\n",
    "                '_']\n",
    "\n",
    "to_ignore3 = ['primary care physician    found down',\n",
    "              'date of birth',\n",
    "              'no',\n",
    "              'md',\n",
    "              'tia',\n",
    "              'date  birth',\n",
    "              'sr',\n",
    "              'admission date',\n",
    "              'discharge date',\n",
    "              'fr',\n",
    "              'physical  physical exam',\n",
    "              '#1 to',\n",
    "              'lethargy']\n",
    "\n",
    "to_inline = all_starts_and_ends\n",
    "\n",
    "to_ignore1.extend(all_starts_and_ends)\n",
    "\n",
    "\n",
    "def find_difference(string1, string2):\n",
    "    for marker in to_inline:\n",
    "        string1 = string1.lower().replace(marker.lower(), f'\\n{marker.lower()}\\n', 1)\n",
    "        string2 = string2.lower().replace(marker.lower(), f'\\n{marker.lower()}\\n', 1)\n",
    "\n",
    "    #print(string1)\n",
    "    #print(string2)\n",
    "\n",
    "    lines1 = [line.strip().lower() for line in string1.split('\\n')]\n",
    "    lines2 = [line.strip().lower() for line in string2.split('\\n')]\n",
    "\n",
    "    diff_lines = [line for line in lines1 if line not in lines2]\n",
    "    diff_lines = [line for line in diff_lines if line not in string2]\n",
    "    diff_string = '\\n'.join(diff_lines)\n",
    "\n",
    "    for ignore in to_ignore1:\n",
    "        diff_string = diff_string.replace(ignore.lower(), '')\n",
    "    \n",
    "    for ignore in to_ignore2:    \n",
    "        diff_string = diff_string.replace(ignore.lower(), '')\n",
    "\n",
    "    for ignore in to_ignore3:\n",
    "        diff_string = diff_string.replace(ignore.lower(), '')\n",
    "    \n",
    "    return diff_string.strip()"
   ]
  },
  {
   "cell_type": "code",
   "execution_count": 14,
   "metadata": {},
   "outputs": [],
   "source": [
    "discharge_df = pd.read_csv('data/version1.4_ours/valid/discharge.csv.gz', compression='gzip')\n",
    "target_df = pd.read_csv('data/version1.4_ours/valid/discharge_target.csv.gz', compression='gzip')"
   ]
  },
  {
   "cell_type": "code",
   "execution_count": 15,
   "metadata": {},
   "outputs": [],
   "source": [
    "combined_df = build_combined_discharge(discharge_df, target_df)"
   ]
  },
  {
   "cell_type": "code",
   "execution_count": 16,
   "metadata": {},
   "outputs": [
    {
     "name": "stdout",
     "output_type": "stream",
     "text": [
      "Removing BHC and DI from the discharge\n"
     ]
    },
    {
     "name": "stderr",
     "output_type": "stream",
     "text": [
      "100%|██████████| 14719/14719 [00:02<00:00, 7124.54it/s]\n"
     ]
    },
    {
     "name": "stdout",
     "output_type": "stream",
     "text": [
      "Extracting features\n"
     ]
    },
    {
     "name": "stderr",
     "output_type": "stream",
     "text": [
      "100%|██████████| 14719/14719 [00:37<00:00, 396.43it/s]\n"
     ]
    },
    {
     "name": "stdout",
     "output_type": "stream",
     "text": [
      "Formating and cleaning sex section\n"
     ]
    },
    {
     "name": "stderr",
     "output_type": "stream",
     "text": [
      "100%|██████████| 14719/14719 [00:00<00:00, 465555.82it/s]\n",
      "100%|██████████| 14719/14719 [00:00<00:00, 22029.75it/s]\n"
     ]
    },
    {
     "name": "stdout",
     "output_type": "stream",
     "text": [
      "Counting tokens in sex section\n"
     ]
    },
    {
     "name": "stderr",
     "output_type": "stream",
     "text": [
      "100%|██████████| 14719/14719 [00:01<00:00, 13252.69it/s]\n"
     ]
    },
    {
     "name": "stdout",
     "output_type": "stream",
     "text": [
      "Formating and cleaning service section\n"
     ]
    },
    {
     "name": "stderr",
     "output_type": "stream",
     "text": [
      "100%|██████████| 14719/14719 [00:00<00:00, 374422.84it/s]\n",
      "100%|██████████| 14719/14719 [00:00<00:00, 25394.13it/s]\n"
     ]
    },
    {
     "name": "stdout",
     "output_type": "stream",
     "text": [
      "Counting tokens in service section\n"
     ]
    },
    {
     "name": "stderr",
     "output_type": "stream",
     "text": [
      "100%|██████████| 14719/14719 [00:00<00:00, 14821.80it/s]\n"
     ]
    },
    {
     "name": "stdout",
     "output_type": "stream",
     "text": [
      "Formating and cleaning allergies section\n"
     ]
    },
    {
     "name": "stderr",
     "output_type": "stream",
     "text": [
      "100%|██████████| 14719/14719 [00:00<00:00, 432007.00it/s]\n",
      "100%|██████████| 14719/14719 [00:00<00:00, 21068.13it/s]\n"
     ]
    },
    {
     "name": "stdout",
     "output_type": "stream",
     "text": [
      "Counting tokens in allergies section\n"
     ]
    },
    {
     "name": "stderr",
     "output_type": "stream",
     "text": [
      "100%|██████████| 14719/14719 [00:01<00:00, 10135.90it/s]\n"
     ]
    },
    {
     "name": "stdout",
     "output_type": "stream",
     "text": [
      "Formating and cleaning chief_complaint section\n"
     ]
    },
    {
     "name": "stderr",
     "output_type": "stream",
     "text": [
      "100%|██████████| 14719/14719 [00:00<00:00, 253684.75it/s]\n",
      "100%|██████████| 14719/14719 [00:00<00:00, 26621.88it/s]\n"
     ]
    },
    {
     "name": "stdout",
     "output_type": "stream",
     "text": [
      "Counting tokens in chief_complaint section\n"
     ]
    },
    {
     "name": "stderr",
     "output_type": "stream",
     "text": [
      "100%|██████████| 14719/14719 [00:01<00:00, 9494.46it/s] \n"
     ]
    },
    {
     "name": "stdout",
     "output_type": "stream",
     "text": [
      "Formating and cleaning major_surgical_procedures section\n"
     ]
    },
    {
     "name": "stderr",
     "output_type": "stream",
     "text": [
      "100%|██████████| 14719/14719 [00:00<00:00, 243209.12it/s]\n",
      "100%|██████████| 14719/14719 [00:00<00:00, 25851.52it/s]\n"
     ]
    },
    {
     "name": "stdout",
     "output_type": "stream",
     "text": [
      "Counting tokens in major_surgical_procedures section\n"
     ]
    },
    {
     "name": "stderr",
     "output_type": "stream",
     "text": [
      "100%|██████████| 14719/14719 [00:01<00:00, 8631.27it/s]\n"
     ]
    },
    {
     "name": "stdout",
     "output_type": "stream",
     "text": [
      "Formating and cleaning history_of_present_illness section\n"
     ]
    },
    {
     "name": "stderr",
     "output_type": "stream",
     "text": [
      "100%|██████████| 14719/14719 [00:00<00:00, 173884.52it/s]\n",
      "100%|██████████| 14719/14719 [00:01<00:00, 13941.05it/s]\n"
     ]
    },
    {
     "name": "stdout",
     "output_type": "stream",
     "text": [
      "Counting tokens in history_of_present_illness section\n"
     ]
    },
    {
     "name": "stderr",
     "output_type": "stream",
     "text": [
      "100%|██████████| 14719/14719 [00:16<00:00, 883.47it/s]\n"
     ]
    },
    {
     "name": "stdout",
     "output_type": "stream",
     "text": [
      "Formating and cleaning past_medical_history section\n"
     ]
    },
    {
     "name": "stderr",
     "output_type": "stream",
     "text": [
      "100%|██████████| 14719/14719 [00:00<00:00, 59511.37it/s]\n",
      "100%|██████████| 14719/14719 [00:00<00:00, 22323.09it/s]\n"
     ]
    },
    {
     "name": "stdout",
     "output_type": "stream",
     "text": [
      "Counting tokens in past_medical_history section\n"
     ]
    },
    {
     "name": "stderr",
     "output_type": "stream",
     "text": [
      "100%|██████████| 14719/14719 [00:05<00:00, 2863.66it/s]\n"
     ]
    },
    {
     "name": "stdout",
     "output_type": "stream",
     "text": [
      "Formating and cleaning social_history section\n"
     ]
    },
    {
     "name": "stderr",
     "output_type": "stream",
     "text": [
      "100%|██████████| 14719/14719 [00:00<00:00, 445547.56it/s]\n",
      "100%|██████████| 14719/14719 [00:00<00:00, 25136.87it/s]\n"
     ]
    },
    {
     "name": "stdout",
     "output_type": "stream",
     "text": [
      "Counting tokens in social_history section\n"
     ]
    },
    {
     "name": "stderr",
     "output_type": "stream",
     "text": [
      "100%|██████████| 14719/14719 [00:01<00:00, 12049.48it/s]\n"
     ]
    },
    {
     "name": "stdout",
     "output_type": "stream",
     "text": [
      "Formating and cleaning family_history section\n"
     ]
    },
    {
     "name": "stderr",
     "output_type": "stream",
     "text": [
      "100%|██████████| 14719/14719 [00:00<00:00, 362653.53it/s]\n",
      "100%|██████████| 14719/14719 [00:00<00:00, 21311.07it/s]\n"
     ]
    },
    {
     "name": "stdout",
     "output_type": "stream",
     "text": [
      "Counting tokens in family_history section\n"
     ]
    },
    {
     "name": "stderr",
     "output_type": "stream",
     "text": [
      "100%|██████████| 14719/14719 [00:02<00:00, 7347.47it/s]\n"
     ]
    },
    {
     "name": "stdout",
     "output_type": "stream",
     "text": [
      "Formating and cleaning physical_exam section\n"
     ]
    },
    {
     "name": "stderr",
     "output_type": "stream",
     "text": [
      "100%|██████████| 14719/14719 [00:00<00:00, 244606.38it/s]\n",
      "100%|██████████| 14719/14719 [00:00<00:00, 16419.61it/s]\n"
     ]
    },
    {
     "name": "stdout",
     "output_type": "stream",
     "text": [
      "Counting tokens in physical_exam section\n"
     ]
    },
    {
     "name": "stderr",
     "output_type": "stream",
     "text": [
      "100%|██████████| 14719/14719 [00:12<00:00, 1164.88it/s]\n"
     ]
    },
    {
     "name": "stdout",
     "output_type": "stream",
     "text": [
      "Formating and cleaning pertinent_results section\n"
     ]
    },
    {
     "name": "stderr",
     "output_type": "stream",
     "text": [
      "100%|██████████| 14719/14719 [00:00<00:00, 55543.77it/s]\n",
      "100%|██████████| 14719/14719 [00:01<00:00, 9042.66it/s]\n"
     ]
    },
    {
     "name": "stdout",
     "output_type": "stream",
     "text": [
      "Counting tokens in pertinent_results section\n"
     ]
    },
    {
     "name": "stderr",
     "output_type": "stream",
     "text": [
      "100%|██████████| 14719/14719 [00:26<00:00, 558.82it/s]\n"
     ]
    },
    {
     "name": "stdout",
     "output_type": "stream",
     "text": [
      "Formating and cleaning medication_on_admission section\n"
     ]
    },
    {
     "name": "stderr",
     "output_type": "stream",
     "text": [
      "100%|██████████| 14719/14719 [00:00<00:00, 287122.64it/s]\n",
      "100%|██████████| 14719/14719 [00:00<00:00, 15326.78it/s]\n"
     ]
    },
    {
     "name": "stdout",
     "output_type": "stream",
     "text": [
      "Counting tokens in medication_on_admission section\n"
     ]
    },
    {
     "name": "stderr",
     "output_type": "stream",
     "text": [
      "100%|██████████| 14719/14719 [00:05<00:00, 2745.91it/s]\n"
     ]
    },
    {
     "name": "stdout",
     "output_type": "stream",
     "text": [
      "Formating and cleaning discharge_medications section\n"
     ]
    },
    {
     "name": "stderr",
     "output_type": "stream",
     "text": [
      "100%|██████████| 14719/14719 [00:00<00:00, 179113.54it/s]\n",
      "100%|██████████| 14719/14719 [00:00<00:00, 17149.35it/s]\n"
     ]
    },
    {
     "name": "stdout",
     "output_type": "stream",
     "text": [
      "Counting tokens in discharge_medications section\n"
     ]
    },
    {
     "name": "stderr",
     "output_type": "stream",
     "text": [
      "100%|██████████| 14719/14719 [00:08<00:00, 1808.19it/s]\n"
     ]
    },
    {
     "name": "stdout",
     "output_type": "stream",
     "text": [
      "Formating and cleaning discharge_disposition section\n"
     ]
    },
    {
     "name": "stderr",
     "output_type": "stream",
     "text": [
      "100%|██████████| 14719/14719 [00:00<00:00, 427863.25it/s]\n",
      "100%|██████████| 14719/14719 [00:00<00:00, 22146.85it/s]\n"
     ]
    },
    {
     "name": "stdout",
     "output_type": "stream",
     "text": [
      "Counting tokens in discharge_disposition section\n"
     ]
    },
    {
     "name": "stderr",
     "output_type": "stream",
     "text": [
      "100%|██████████| 14719/14719 [00:01<00:00, 11429.62it/s]\n"
     ]
    },
    {
     "name": "stdout",
     "output_type": "stream",
     "text": [
      "Formating and cleaning facility section\n"
     ]
    },
    {
     "name": "stderr",
     "output_type": "stream",
     "text": [
      "100%|██████████| 14719/14719 [00:00<00:00, 262693.92it/s]\n",
      "100%|██████████| 14719/14719 [00:00<00:00, 27485.30it/s]\n"
     ]
    },
    {
     "name": "stdout",
     "output_type": "stream",
     "text": [
      "Counting tokens in facility section\n"
     ]
    },
    {
     "name": "stderr",
     "output_type": "stream",
     "text": [
      "100%|██████████| 14719/14719 [00:01<00:00, 9492.83it/s] \n"
     ]
    },
    {
     "name": "stdout",
     "output_type": "stream",
     "text": [
      "Formating and cleaning discharge_diagnosis section\n"
     ]
    },
    {
     "name": "stderr",
     "output_type": "stream",
     "text": [
      "100%|██████████| 14719/14719 [00:00<00:00, 175965.64it/s]\n",
      "100%|██████████| 14719/14719 [00:00<00:00, 24700.24it/s]\n"
     ]
    },
    {
     "name": "stdout",
     "output_type": "stream",
     "text": [
      "Counting tokens in discharge_diagnosis section\n"
     ]
    },
    {
     "name": "stderr",
     "output_type": "stream",
     "text": [
      "100%|██████████| 14719/14719 [00:02<00:00, 5904.01it/s]\n"
     ]
    },
    {
     "name": "stdout",
     "output_type": "stream",
     "text": [
      "Formating and cleaning discharge_condition section\n"
     ]
    },
    {
     "name": "stderr",
     "output_type": "stream",
     "text": [
      "100%|██████████| 14719/14719 [00:00<00:00, 249183.50it/s]\n",
      "100%|██████████| 14719/14719 [00:00<00:00, 25052.41it/s]\n"
     ]
    },
    {
     "name": "stdout",
     "output_type": "stream",
     "text": [
      "Counting tokens in discharge_condition section\n"
     ]
    },
    {
     "name": "stderr",
     "output_type": "stream",
     "text": [
      "100%|██████████| 14719/14719 [00:02<00:00, 5250.84it/s]\n"
     ]
    }
   ],
   "source": [
    "final_df = extract_clean_sections_and_count_tokens(combined_df,section_to_next_section.keys())"
   ]
  },
  {
   "cell_type": "code",
   "execution_count": 55,
   "metadata": {},
   "outputs": [
    {
     "name": "stderr",
     "output_type": "stream",
     "text": [
      "Selecting strategy: 100%|██████████| 14719/14719 [00:56<00:00, 260.00it/s]"
     ]
    },
    {
     "name": "stdout",
     "output_type": "stream",
     "text": [
      "Number of rows that exceed the maximum length: 0/14719\n"
     ]
    },
    {
     "name": "stderr",
     "output_type": "stream",
     "text": [
      "\n"
     ]
    }
   ],
   "source": [
    "prompts_ = select_strategy(final_df, 'BHC', max_length=3000)"
   ]
  },
  {
   "cell_type": "code",
   "execution_count": 52,
   "metadata": {},
   "outputs": [
    {
     "name": "stdout",
     "output_type": "stream",
     "text": [
      "1024\n",
      "False\n"
     ]
    }
   ],
   "source": [
    "bhc_strategy = generate_strategies(bhc_importance_order, removeable_bhc)\n",
    "\n",
    "def has_duplicates(lst):\n",
    "    seen = set()\n",
    "    for sublist in lst:\n",
    "        sublist_tuple = tuple(sublist)  # Convert sublist to tuple, as lists are unhashable\n",
    "        if sublist_tuple in seen:\n",
    "            return True\n",
    "        seen.add(sublist_tuple)\n",
    "    return False\n",
    "\n",
    "print(len(bhc_strategy))\n",
    "print(has_duplicates(bhc_strategy))\n",
    "\n",
    "    "
   ]
  },
  {
   "cell_type": "code",
   "execution_count": 53,
   "metadata": {},
   "outputs": [
    {
     "name": "stdout",
     "output_type": "stream",
     "text": [
      "32\n",
      "True\n"
     ]
    }
   ],
   "source": [
    "di_strategy = generate_strategies(di_importance_order, removeable_di)\n",
    "\n",
    "print(len(di_strategy))\n",
    "print(has_duplicates(di_strategy))\n"
   ]
  }
 ],
 "metadata": {
  "kernelspec": {
   "display_name": "ada3.10",
   "language": "python",
   "name": "python3"
  },
  "language_info": {
   "codemirror_mode": {
    "name": "ipython",
    "version": 3
   },
   "file_extension": ".py",
   "mimetype": "text/x-python",
   "name": "python",
   "nbconvert_exporter": "python",
   "pygments_lexer": "ipython3",
   "version": "3.10.13"
  }
 },
 "nbformat": 4,
 "nbformat_minor": 2
}
