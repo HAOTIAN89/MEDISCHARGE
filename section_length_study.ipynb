{
 "cells": [
  {
   "cell_type": "code",
   "execution_count": 2,
   "metadata": {},
   "outputs": [],
   "source": [
    "import regex as re\n",
    "import pandas as pd\n",
    "from src.utils.preprocessing import *\n",
    "import matplotlib.pyplot as plt\n",
    "import seaborn as sns\n",
    "\n",
    "%load_ext autoreload\n",
    "%autoreload 2"
   ]
  },
  {
   "cell_type": "code",
   "execution_count": 3,
   "metadata": {},
   "outputs": [
    {
     "name": "stdout",
     "output_type": "stream",
     "text": [
      "Removing BHC and DI from the discharge\n"
     ]
    },
    {
     "name": "stderr",
     "output_type": "stream",
     "text": [
      "100%|██████████| 68785/68785 [00:13<00:00, 5260.24it/s]\n"
     ]
    },
    {
     "name": "stdout",
     "output_type": "stream",
     "text": [
      "Extracting features\n"
     ]
    },
    {
     "name": "stderr",
     "output_type": "stream",
     "text": [
      "100%|██████████| 68785/68785 [05:54<00:00, 194.17it/s]\n"
     ]
    },
    {
     "name": "stdout",
     "output_type": "stream",
     "text": [
      "Formating and cleaning sex section\n"
     ]
    },
    {
     "name": "stderr",
     "output_type": "stream",
     "text": [
      "100%|██████████| 68785/68785 [00:00<00:00, 261012.02it/s]\n",
      "100%|██████████| 68785/68785 [00:03<00:00, 18632.21it/s]\n"
     ]
    },
    {
     "name": "stdout",
     "output_type": "stream",
     "text": [
      "Counting tokens in sex section\n"
     ]
    },
    {
     "name": "stderr",
     "output_type": "stream",
     "text": [
      "100%|██████████| 68785/68785 [00:06<00:00, 10889.56it/s]\n"
     ]
    },
    {
     "name": "stdout",
     "output_type": "stream",
     "text": [
      "Formating and cleaning service section\n"
     ]
    },
    {
     "name": "stderr",
     "output_type": "stream",
     "text": [
      "100%|██████████| 68785/68785 [00:00<00:00, 199296.50it/s]\n",
      "100%|██████████| 68785/68785 [00:03<00:00, 18553.05it/s]\n"
     ]
    },
    {
     "name": "stdout",
     "output_type": "stream",
     "text": [
      "Counting tokens in service section\n"
     ]
    },
    {
     "name": "stderr",
     "output_type": "stream",
     "text": [
      "100%|██████████| 68785/68785 [00:06<00:00, 10276.60it/s]\n"
     ]
    },
    {
     "name": "stdout",
     "output_type": "stream",
     "text": [
      "Formating and cleaning allergies section\n"
     ]
    },
    {
     "name": "stderr",
     "output_type": "stream",
     "text": [
      "100%|██████████| 68785/68785 [00:00<00:00, 327213.96it/s]\n",
      "100%|██████████| 68785/68785 [00:03<00:00, 18491.97it/s]\n"
     ]
    },
    {
     "name": "stdout",
     "output_type": "stream",
     "text": [
      "Counting tokens in allergies section\n"
     ]
    },
    {
     "name": "stderr",
     "output_type": "stream",
     "text": [
      "100%|██████████| 68785/68785 [00:12<00:00, 5717.23it/s]\n"
     ]
    },
    {
     "name": "stdout",
     "output_type": "stream",
     "text": [
      "Formating and cleaning chief_complaint section\n"
     ]
    },
    {
     "name": "stderr",
     "output_type": "stream",
     "text": [
      "100%|██████████| 68785/68785 [00:00<00:00, 175740.46it/s]\n",
      "100%|██████████| 68785/68785 [00:06<00:00, 10021.09it/s]\n"
     ]
    },
    {
     "name": "stdout",
     "output_type": "stream",
     "text": [
      "Counting tokens in chief_complaint section\n"
     ]
    },
    {
     "name": "stderr",
     "output_type": "stream",
     "text": [
      "100%|██████████| 68785/68785 [00:13<00:00, 5007.08it/s]\n"
     ]
    },
    {
     "name": "stdout",
     "output_type": "stream",
     "text": [
      "Formating and cleaning major_surgical_procedures section\n"
     ]
    },
    {
     "name": "stderr",
     "output_type": "stream",
     "text": [
      "100%|██████████| 68785/68785 [00:00<00:00, 231535.44it/s]\n",
      "100%|██████████| 68785/68785 [00:04<00:00, 16389.15it/s]\n"
     ]
    },
    {
     "name": "stdout",
     "output_type": "stream",
     "text": [
      "Counting tokens in major_surgical_procedures section\n"
     ]
    },
    {
     "name": "stderr",
     "output_type": "stream",
     "text": [
      "100%|██████████| 68785/68785 [00:12<00:00, 5341.60it/s]\n"
     ]
    },
    {
     "name": "stdout",
     "output_type": "stream",
     "text": [
      "Formating and cleaning history_of_present_illness section\n"
     ]
    },
    {
     "name": "stderr",
     "output_type": "stream",
     "text": [
      "100%|██████████| 68785/68785 [00:00<00:00, 119751.85it/s]\n",
      "100%|██████████| 68785/68785 [00:06<00:00, 9870.80it/s] \n"
     ]
    },
    {
     "name": "stdout",
     "output_type": "stream",
     "text": [
      "Counting tokens in history_of_present_illness section\n"
     ]
    },
    {
     "name": "stderr",
     "output_type": "stream",
     "text": [
      "100%|██████████| 68785/68785 [02:17<00:00, 498.86it/s]\n"
     ]
    },
    {
     "name": "stdout",
     "output_type": "stream",
     "text": [
      "Formating and cleaning past_medical_history section\n"
     ]
    },
    {
     "name": "stderr",
     "output_type": "stream",
     "text": [
      "100%|██████████| 68785/68785 [00:00<00:00, 87639.26it/s] \n",
      "100%|██████████| 68785/68785 [00:05<00:00, 12728.00it/s]\n"
     ]
    },
    {
     "name": "stdout",
     "output_type": "stream",
     "text": [
      "Counting tokens in past_medical_history section\n"
     ]
    },
    {
     "name": "stderr",
     "output_type": "stream",
     "text": [
      "100%|██████████| 68785/68785 [00:41<00:00, 1668.29it/s]\n"
     ]
    },
    {
     "name": "stdout",
     "output_type": "stream",
     "text": [
      "Formating and cleaning social_history section\n"
     ]
    },
    {
     "name": "stderr",
     "output_type": "stream",
     "text": [
      "100%|██████████| 68785/68785 [00:00<00:00, 223709.18it/s]\n",
      "100%|██████████| 68785/68785 [00:04<00:00, 15611.72it/s]\n"
     ]
    },
    {
     "name": "stdout",
     "output_type": "stream",
     "text": [
      "Counting tokens in social_history section\n"
     ]
    },
    {
     "name": "stderr",
     "output_type": "stream",
     "text": [
      "100%|██████████| 68785/68785 [00:11<00:00, 6214.40it/s]\n"
     ]
    },
    {
     "name": "stdout",
     "output_type": "stream",
     "text": [
      "Formating and cleaning family_history section\n"
     ]
    },
    {
     "name": "stderr",
     "output_type": "stream",
     "text": [
      "100%|██████████| 68785/68785 [00:00<00:00, 148334.70it/s]\n",
      "100%|██████████| 68785/68785 [00:05<00:00, 13260.63it/s]\n"
     ]
    },
    {
     "name": "stdout",
     "output_type": "stream",
     "text": [
      "Counting tokens in family_history section\n"
     ]
    },
    {
     "name": "stderr",
     "output_type": "stream",
     "text": [
      "100%|██████████| 68785/68785 [00:15<00:00, 4425.66it/s]\n"
     ]
    },
    {
     "name": "stdout",
     "output_type": "stream",
     "text": [
      "Formating and cleaning physical_exam section\n"
     ]
    },
    {
     "name": "stderr",
     "output_type": "stream",
     "text": [
      "100%|██████████| 68785/68785 [00:01<00:00, 58072.18it/s]\n",
      "100%|██████████| 68785/68785 [00:06<00:00, 9962.86it/s] \n"
     ]
    },
    {
     "name": "stdout",
     "output_type": "stream",
     "text": [
      "Counting tokens in physical_exam section\n"
     ]
    },
    {
     "name": "stderr",
     "output_type": "stream",
     "text": [
      "100%|██████████| 68785/68785 [01:43<00:00, 663.40it/s]\n"
     ]
    },
    {
     "name": "stdout",
     "output_type": "stream",
     "text": [
      "Formating and cleaning pertinent_results section\n"
     ]
    },
    {
     "name": "stderr",
     "output_type": "stream",
     "text": [
      "100%|██████████| 68785/68785 [00:01<00:00, 42355.41it/s]\n",
      "100%|██████████| 68785/68785 [00:12<00:00, 5320.66it/s]\n"
     ]
    },
    {
     "name": "stdout",
     "output_type": "stream",
     "text": [
      "Counting tokens in pertinent_results section\n"
     ]
    },
    {
     "name": "stderr",
     "output_type": "stream",
     "text": [
      "100%|██████████| 68785/68785 [03:28<00:00, 330.29it/s]\n"
     ]
    },
    {
     "name": "stdout",
     "output_type": "stream",
     "text": [
      "Formating and cleaning medication_on_admission section\n"
     ]
    },
    {
     "name": "stderr",
     "output_type": "stream",
     "text": [
      "100%|██████████| 68785/68785 [00:00<00:00, 163358.43it/s]\n",
      "100%|██████████| 68785/68785 [00:05<00:00, 11920.98it/s]\n"
     ]
    },
    {
     "name": "stdout",
     "output_type": "stream",
     "text": [
      "Counting tokens in medication_on_admission section\n"
     ]
    },
    {
     "name": "stderr",
     "output_type": "stream",
     "text": [
      "100%|██████████| 68785/68785 [00:44<00:00, 1548.23it/s]\n"
     ]
    },
    {
     "name": "stdout",
     "output_type": "stream",
     "text": [
      "Formating and cleaning discharge_medications section\n"
     ]
    },
    {
     "name": "stderr",
     "output_type": "stream",
     "text": [
      "100%|██████████| 68785/68785 [00:00<00:00, 138215.75it/s]\n",
      "100%|██████████| 68785/68785 [00:06<00:00, 10794.07it/s]\n"
     ]
    },
    {
     "name": "stdout",
     "output_type": "stream",
     "text": [
      "Counting tokens in discharge_medications section\n"
     ]
    },
    {
     "name": "stderr",
     "output_type": "stream",
     "text": [
      "100%|██████████| 68785/68785 [01:06<00:00, 1033.58it/s]\n"
     ]
    },
    {
     "name": "stdout",
     "output_type": "stream",
     "text": [
      "Formating and cleaning discharge_disposition section\n"
     ]
    },
    {
     "name": "stderr",
     "output_type": "stream",
     "text": [
      "100%|██████████| 68785/68785 [00:00<00:00, 215235.41it/s]\n",
      "100%|██████████| 68785/68785 [00:05<00:00, 11619.83it/s]\n"
     ]
    },
    {
     "name": "stdout",
     "output_type": "stream",
     "text": [
      "Counting tokens in discharge_disposition section\n"
     ]
    },
    {
     "name": "stderr",
     "output_type": "stream",
     "text": [
      "100%|██████████| 68785/68785 [00:09<00:00, 6940.50it/s]\n"
     ]
    },
    {
     "name": "stdout",
     "output_type": "stream",
     "text": [
      "Formating and cleaning facility section\n"
     ]
    },
    {
     "name": "stderr",
     "output_type": "stream",
     "text": [
      "100%|██████████| 68785/68785 [00:00<00:00, 270423.60it/s]\n",
      "100%|██████████| 68785/68785 [00:05<00:00, 11730.55it/s]\n"
     ]
    },
    {
     "name": "stdout",
     "output_type": "stream",
     "text": [
      "Counting tokens in facility section\n"
     ]
    },
    {
     "name": "stderr",
     "output_type": "stream",
     "text": [
      "100%|██████████| 68785/68785 [00:08<00:00, 7939.05it/s]\n"
     ]
    },
    {
     "name": "stdout",
     "output_type": "stream",
     "text": [
      "Formating and cleaning discharge_diagnosis section\n"
     ]
    },
    {
     "name": "stderr",
     "output_type": "stream",
     "text": [
      "100%|██████████| 68785/68785 [00:00<00:00, 190268.20it/s]\n",
      "100%|██████████| 68785/68785 [00:04<00:00, 15671.60it/s]\n"
     ]
    },
    {
     "name": "stdout",
     "output_type": "stream",
     "text": [
      "Counting tokens in discharge_diagnosis section\n"
     ]
    },
    {
     "name": "stderr",
     "output_type": "stream",
     "text": [
      "100%|██████████| 68785/68785 [00:17<00:00, 3847.80it/s]\n"
     ]
    },
    {
     "name": "stdout",
     "output_type": "stream",
     "text": [
      "Formating and cleaning discharge_condition section\n"
     ]
    },
    {
     "name": "stderr",
     "output_type": "stream",
     "text": [
      "100%|██████████| 68785/68785 [00:00<00:00, 186145.72it/s]\n",
      "100%|██████████| 68785/68785 [00:04<00:00, 15538.70it/s]\n"
     ]
    },
    {
     "name": "stdout",
     "output_type": "stream",
     "text": [
      "Counting tokens in discharge_condition section\n"
     ]
    },
    {
     "name": "stderr",
     "output_type": "stream",
     "text": [
      "100%|██████████| 68785/68785 [00:21<00:00, 3146.81it/s]\n"
     ]
    }
   ],
   "source": [
    "discharge_df = pd.read_csv('data/version1.4_ours/train/discharge.csv.gz', compression='gzip')\n",
    "target_df = pd.read_csv('data/version1.4_ours/train/discharge_target.csv.gz', compression='gzip')\n",
    "combined_df = build_combined_discharge(discharge_df, target_df)\n",
    "final_df = extract_clean_sections_and_count_tokens(combined_df,section_to_next_section.keys())\n",
    "\n"
   ]
  },
  {
   "cell_type": "code",
   "execution_count": 4,
   "metadata": {},
   "outputs": [
    {
     "name": "stderr",
     "output_type": "stream",
     "text": [
      "100%|██████████| 68785/68785 [03:47<00:00, 302.08it/s]\n",
      "100%|██████████| 68785/68785 [01:31<00:00, 748.00it/s]\n"
     ]
    }
   ],
   "source": [
    "final_df['brief_hospital_course_tokens'] = final_df['brief_hospital_course'].progress_apply(get_token_count)\n",
    "final_df['discharge_instructions_tokens'] = final_df['discharge_instructions'].progress_apply(get_token_count)"
   ]
  },
  {
   "cell_type": "code",
   "execution_count": 5,
   "metadata": {},
   "outputs": [],
   "source": [
    "sections_to_consider_bhc = [\n",
    "                'sex',\n",
    "                'service',\n",
    "                'allergies',\n",
    "                'chief_complaint',\n",
    "                'major_surgical_procedures',\n",
    "                'history_of_present_illness',\n",
    "                'past_medical_history',\n",
    "                'social_history',\n",
    "                'family_history',\n",
    "                'pertinent_results',\n",
    "                'physical_exam'\n",
    "            ]\n",
    "\n",
    "sections_to_consider_di = [\n",
    "                'sex',\n",
    "                'service',\n",
    "                'chief_complaint',\n",
    "                'history_of_present_illness',\n",
    "                'physical_exam',\n",
    "                'medication_on_admission',\n",
    "                'discharge_medications',\n",
    "                'discharge_disposition',\n",
    "                'discharge_diagnosis',\n",
    "                'discharge_condition'\n",
    "            ]"
   ]
  },
  {
   "cell_type": "code",
   "execution_count": 6,
   "metadata": {},
   "outputs": [],
   "source": [
    "final_df['all_sections_tokens_bhc'] = final_df[[f\"{section}_tokens\" for section in sections_to_consider_bhc]].sum(axis=1) + final_df['brief_hospital_course_tokens']\n",
    "final_df['all_sections_tokens_di'] = final_df[[f\"{section}_tokens\" for section in sections_to_consider_di]].sum(axis=1) + final_df['discharge_instructions_tokens']\n"
   ]
  },
  {
   "cell_type": "code",
   "execution_count": 7,
   "metadata": {},
   "outputs": [
    {
     "data": {
      "image/png": "[encoded data removed]",
      "text/plain": [
       "<Figure size 800x400 with 1 Axes>"
      ]
     },
     "metadata": {},
     "output_type": "display_data"
    },
    {
     "name": "stdout",
     "output_type": "stream",
     "text": [
      "Percentage under 4000 tokens: 73.86% i.e 50807 out of 68785\n"
     ]
    }
   ],
   "source": [
    "plt.figure(figsize=(8, 4))\n",
    "sns.histplot(final_df['all_sections_tokens_bhc'], kde=True, bins=20)\n",
    "plt.title(f'Distribution of bhc input + output tokens')\n",
    "plt.show()\n",
    "\n",
    "max_tok = 3980\n",
    "\n",
    "print(f\"Percentage under {max_tok + 20} tokens: {100 * (final_df['all_sections_tokens_bhc'] < max_tok).sum() / len(final_df):.2f}% i.e {len(final_df[final_df['all_sections_tokens_bhc'] < max_tok])} out of {len(final_df)}\")\n",
    "\n"
   ]
  },
  {
   "cell_type": "code",
   "execution_count": 8,
   "metadata": {},
   "outputs": [
    {
     "data": {
      "image/png": "[encoded data removed]",
      "text/plain": [
       "<Figure size 800x400 with 1 Axes>"
      ]
     },
     "metadata": {},
     "output_type": "display_data"
    },
    {
     "name": "stdout",
     "output_type": "stream",
     "text": [
      "Percentage under 4000 tokens: 99.40% i.e 68371 out of 68785\n"
     ]
    }
   ],
   "source": [
    "plt.figure(figsize=(8, 4))\n",
    "sns.histplot(final_df['all_sections_tokens_di'], kde=True, bins=20)\n",
    "plt.title(f'Distribution of di input + output tokens')\n",
    "plt.show()\n",
    "\n",
    "max_tok = 3980\n",
    "\n",
    "print(f\"Percentage under {max_tok + 20} tokens: {100 * (final_df['all_sections_tokens_di'] < max_tok).sum() / len(final_df):.2f}% i.e {len(final_df[final_df['all_sections_tokens_di'] < max_tok])} out of {len(final_df)}\")"
   ]
  }
 ],
 "metadata": {
  "kernelspec": {
   "display_name": ".venv",
   "language": "python",
   "name": "python3"
  },
  "language_info": {
   "codemirror_mode": {
    "name": "ipython",
    "version": 3
   },
   "file_extension": ".py",
   "mimetype": "text/x-python",
   "name": "python",
   "nbconvert_exporter": "python",
   "pygments_lexer": "ipython3",
   "version": "3.10.13"
  }
 },
 "nbformat": 4,
 "nbformat_minor": 2
}
