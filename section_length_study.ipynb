{
 "cells": [
  {
   "cell_type": "code",
   "execution_count": 1,
   "metadata": {},
   "outputs": [],
   "source": [
    "import regex as re\n",
    "import pandas as pd\n",
    "from src.utils.preprocessing import *\n",
    "import matplotlib.pyplot as plt\n",
    "import seaborn as sns\n",
    "\n",
    "%load_ext autoreload\n",
    "%autoreload 2"
   ]
  },
  {
   "cell_type": "code",
   "execution_count": 3,
   "metadata": {},
   "outputs": [
    {
     "name": "stdout",
     "output_type": "stream",
     "text": [
      "Removing BHC and DI from the discharge\n"
     ]
    },
    {
     "name": "stderr",
     "output_type": "stream",
     "text": [
      "100%|██████████| 39447/39447 [00:04<00:00, 8195.96it/s]\n"
     ]
    },
    {
     "name": "stdout",
     "output_type": "stream",
     "text": [
      "Extracting features\n"
     ]
    },
    {
     "name": "stderr",
     "output_type": "stream",
     "text": [
      "100%|██████████| 39447/39447 [01:33<00:00, 421.40it/s]\n"
     ]
    },
    {
     "name": "stdout",
     "output_type": "stream",
     "text": [
      "Formating and cleaning sex section\n"
     ]
    },
    {
     "name": "stderr",
     "output_type": "stream",
     "text": [
      "100%|██████████| 39447/39447 [00:00<00:00, 273417.25it/s]\n",
      "100%|██████████| 39447/39447 [00:01<00:00, 28071.54it/s]\n"
     ]
    },
    {
     "name": "stdout",
     "output_type": "stream",
     "text": [
      "Counting tokens in sex section\n"
     ]
    },
    {
     "name": "stderr",
     "output_type": "stream",
     "text": [
      "100%|██████████| 39447/39447 [00:02<00:00, 14956.21it/s]\n"
     ]
    },
    {
     "name": "stdout",
     "output_type": "stream",
     "text": [
      "Formating and cleaning service section\n"
     ]
    },
    {
     "name": "stderr",
     "output_type": "stream",
     "text": [
      "100%|██████████| 39447/39447 [00:00<00:00, 418047.40it/s]\n",
      "100%|██████████| 39447/39447 [00:01<00:00, 27525.51it/s]\n"
     ]
    },
    {
     "name": "stdout",
     "output_type": "stream",
     "text": [
      "Counting tokens in service section\n"
     ]
    },
    {
     "name": "stderr",
     "output_type": "stream",
     "text": [
      "100%|██████████| 39447/39447 [00:02<00:00, 13862.71it/s]\n"
     ]
    },
    {
     "name": "stdout",
     "output_type": "stream",
     "text": [
      "Formating and cleaning allergies section\n"
     ]
    },
    {
     "name": "stderr",
     "output_type": "stream",
     "text": [
      "100%|██████████| 39447/39447 [00:00<00:00, 434318.36it/s]\n",
      "100%|██████████| 39447/39447 [00:01<00:00, 24971.40it/s]\n"
     ]
    },
    {
     "name": "stdout",
     "output_type": "stream",
     "text": [
      "Counting tokens in allergies section\n"
     ]
    },
    {
     "name": "stderr",
     "output_type": "stream",
     "text": [
      "100%|██████████| 39447/39447 [00:04<00:00, 8732.94it/s] \n"
     ]
    },
    {
     "name": "stdout",
     "output_type": "stream",
     "text": [
      "Formating and cleaning chief_complaint section\n"
     ]
    },
    {
     "name": "stderr",
     "output_type": "stream",
     "text": [
      "100%|██████████| 39447/39447 [00:00<00:00, 100266.59it/s]\n",
      "100%|██████████| 39447/39447 [00:01<00:00, 23874.21it/s]\n"
     ]
    },
    {
     "name": "stdout",
     "output_type": "stream",
     "text": [
      "Counting tokens in chief_complaint section\n"
     ]
    },
    {
     "name": "stderr",
     "output_type": "stream",
     "text": [
      "100%|██████████| 39447/39447 [00:04<00:00, 8374.58it/s] \n"
     ]
    },
    {
     "name": "stdout",
     "output_type": "stream",
     "text": [
      "Formating and cleaning major_surgical_procedures section\n"
     ]
    },
    {
     "name": "stderr",
     "output_type": "stream",
     "text": [
      "100%|██████████| 39447/39447 [00:00<00:00, 364584.25it/s]\n",
      "100%|██████████| 39447/39447 [00:03<00:00, 12772.43it/s]\n"
     ]
    },
    {
     "name": "stdout",
     "output_type": "stream",
     "text": [
      "Counting tokens in major_surgical_procedures section\n"
     ]
    },
    {
     "name": "stderr",
     "output_type": "stream",
     "text": [
      "100%|██████████| 39447/39447 [00:04<00:00, 8693.29it/s]\n"
     ]
    },
    {
     "name": "stdout",
     "output_type": "stream",
     "text": [
      "Formating and cleaning history_of_present_illness section\n"
     ]
    },
    {
     "name": "stderr",
     "output_type": "stream",
     "text": [
      "100%|██████████| 39447/39447 [00:00<00:00, 253639.67it/s]\n",
      "100%|██████████| 39447/39447 [00:02<00:00, 17926.98it/s]\n"
     ]
    },
    {
     "name": "stdout",
     "output_type": "stream",
     "text": [
      "Counting tokens in history_of_present_illness section\n"
     ]
    },
    {
     "name": "stderr",
     "output_type": "stream",
     "text": [
      "100%|██████████| 39447/39447 [00:50<00:00, 776.36it/s] \n"
     ]
    },
    {
     "name": "stdout",
     "output_type": "stream",
     "text": [
      "Formating and cleaning past_medical_history section\n"
     ]
    },
    {
     "name": "stderr",
     "output_type": "stream",
     "text": [
      "100%|██████████| 39447/39447 [00:00<00:00, 106401.89it/s]\n",
      "100%|██████████| 39447/39447 [00:02<00:00, 14332.67it/s]\n"
     ]
    },
    {
     "name": "stdout",
     "output_type": "stream",
     "text": [
      "Counting tokens in past_medical_history section\n"
     ]
    },
    {
     "name": "stderr",
     "output_type": "stream",
     "text": [
      "100%|██████████| 39447/39447 [00:14<00:00, 2692.71it/s]\n"
     ]
    },
    {
     "name": "stdout",
     "output_type": "stream",
     "text": [
      "Formating and cleaning social_history section\n"
     ]
    },
    {
     "name": "stderr",
     "output_type": "stream",
     "text": [
      "100%|██████████| 39447/39447 [00:00<00:00, 276415.61it/s]\n",
      "100%|██████████| 39447/39447 [00:01<00:00, 26861.63it/s]\n"
     ]
    },
    {
     "name": "stdout",
     "output_type": "stream",
     "text": [
      "Counting tokens in social_history section\n"
     ]
    },
    {
     "name": "stderr",
     "output_type": "stream",
     "text": [
      "100%|██████████| 39447/39447 [00:03<00:00, 11975.61it/s]\n"
     ]
    },
    {
     "name": "stdout",
     "output_type": "stream",
     "text": [
      "Formating and cleaning family_history section\n"
     ]
    },
    {
     "name": "stderr",
     "output_type": "stream",
     "text": [
      "100%|██████████| 39447/39447 [00:00<00:00, 340500.03it/s]\n",
      "100%|██████████| 39447/39447 [00:01<00:00, 25710.05it/s]\n"
     ]
    },
    {
     "name": "stdout",
     "output_type": "stream",
     "text": [
      "Counting tokens in family_history section\n"
     ]
    },
    {
     "name": "stderr",
     "output_type": "stream",
     "text": [
      "100%|██████████| 39447/39447 [00:05<00:00, 6833.87it/s]\n"
     ]
    },
    {
     "name": "stdout",
     "output_type": "stream",
     "text": [
      "Formating and cleaning physical_exam section\n"
     ]
    },
    {
     "name": "stderr",
     "output_type": "stream",
     "text": [
      "100%|██████████| 39447/39447 [00:00<00:00, 181259.64it/s]\n",
      "100%|██████████| 39447/39447 [00:02<00:00, 16355.83it/s]\n"
     ]
    },
    {
     "name": "stdout",
     "output_type": "stream",
     "text": [
      "Counting tokens in physical_exam section\n"
     ]
    },
    {
     "name": "stderr",
     "output_type": "stream",
     "text": [
      "100%|██████████| 39447/39447 [00:34<00:00, 1143.97it/s]\n"
     ]
    },
    {
     "name": "stdout",
     "output_type": "stream",
     "text": [
      "Formating and cleaning pertinent_results section\n"
     ]
    },
    {
     "name": "stderr",
     "output_type": "stream",
     "text": [
      "100%|██████████| 39447/39447 [00:00<00:00, 132416.41it/s]\n",
      "100%|██████████| 39447/39447 [00:04<00:00, 9506.65it/s]\n"
     ]
    },
    {
     "name": "stdout",
     "output_type": "stream",
     "text": [
      "Counting tokens in pertinent_results section\n"
     ]
    },
    {
     "name": "stderr",
     "output_type": "stream",
     "text": [
      "100%|██████████| 39447/39447 [01:04<00:00, 610.15it/s]\n"
     ]
    },
    {
     "name": "stdout",
     "output_type": "stream",
     "text": [
      "Formating and cleaning medication_on_admission section\n"
     ]
    },
    {
     "name": "stderr",
     "output_type": "stream",
     "text": [
      "100%|██████████| 39447/39447 [00:00<00:00, 273559.20it/s]\n",
      "100%|██████████| 39447/39447 [00:01<00:00, 21017.93it/s]\n"
     ]
    },
    {
     "name": "stdout",
     "output_type": "stream",
     "text": [
      "Counting tokens in medication_on_admission section\n"
     ]
    },
    {
     "name": "stderr",
     "output_type": "stream",
     "text": [
      "100%|██████████| 39447/39447 [00:14<00:00, 2771.06it/s]\n"
     ]
    },
    {
     "name": "stdout",
     "output_type": "stream",
     "text": [
      "Formating and cleaning discharge_medications section\n"
     ]
    },
    {
     "name": "stderr",
     "output_type": "stream",
     "text": [
      "100%|██████████| 39447/39447 [00:00<00:00, 185057.31it/s]\n",
      "100%|██████████| 39447/39447 [00:02<00:00, 17374.76it/s]\n"
     ]
    },
    {
     "name": "stdout",
     "output_type": "stream",
     "text": [
      "Counting tokens in discharge_medications section\n"
     ]
    },
    {
     "name": "stderr",
     "output_type": "stream",
     "text": [
      "100%|██████████| 39447/39447 [00:23<00:00, 1688.37it/s]\n"
     ]
    },
    {
     "name": "stdout",
     "output_type": "stream",
     "text": [
      "Formating and cleaning discharge_disposition section\n"
     ]
    },
    {
     "name": "stderr",
     "output_type": "stream",
     "text": [
      "100%|██████████| 39447/39447 [00:00<00:00, 278175.57it/s]\n",
      "100%|██████████| 39447/39447 [00:01<00:00, 25001.68it/s]\n"
     ]
    },
    {
     "name": "stdout",
     "output_type": "stream",
     "text": [
      "Counting tokens in discharge_disposition section\n"
     ]
    },
    {
     "name": "stderr",
     "output_type": "stream",
     "text": [
      "100%|██████████| 39447/39447 [00:03<00:00, 10828.68it/s]\n"
     ]
    },
    {
     "name": "stdout",
     "output_type": "stream",
     "text": [
      "Formating and cleaning facility section\n"
     ]
    },
    {
     "name": "stderr",
     "output_type": "stream",
     "text": [
      "100%|██████████| 39447/39447 [00:00<00:00, 147627.04it/s]\n",
      "100%|██████████| 39447/39447 [00:01<00:00, 26183.77it/s]\n"
     ]
    },
    {
     "name": "stdout",
     "output_type": "stream",
     "text": [
      "Counting tokens in facility section\n"
     ]
    },
    {
     "name": "stderr",
     "output_type": "stream",
     "text": [
      "100%|██████████| 39447/39447 [00:03<00:00, 12725.54it/s]\n"
     ]
    },
    {
     "name": "stdout",
     "output_type": "stream",
     "text": [
      "Formating and cleaning discharge_diagnosis section\n"
     ]
    },
    {
     "name": "stderr",
     "output_type": "stream",
     "text": [
      "100%|██████████| 39447/39447 [00:00<00:00, 284176.07it/s]\n",
      "100%|██████████| 39447/39447 [00:01<00:00, 24242.30it/s]\n"
     ]
    },
    {
     "name": "stdout",
     "output_type": "stream",
     "text": [
      "Counting tokens in discharge_diagnosis section\n"
     ]
    },
    {
     "name": "stderr",
     "output_type": "stream",
     "text": [
      "100%|██████████| 39447/39447 [00:05<00:00, 6614.65it/s]\n"
     ]
    },
    {
     "name": "stdout",
     "output_type": "stream",
     "text": [
      "Formating and cleaning discharge_condition section\n"
     ]
    },
    {
     "name": "stderr",
     "output_type": "stream",
     "text": [
      "100%|██████████| 39447/39447 [00:00<00:00, 325384.30it/s]\n",
      "100%|██████████| 39447/39447 [00:01<00:00, 25807.79it/s]\n"
     ]
    },
    {
     "name": "stdout",
     "output_type": "stream",
     "text": [
      "Counting tokens in discharge_condition section\n"
     ]
    },
    {
     "name": "stderr",
     "output_type": "stream",
     "text": [
      "100%|██████████| 39447/39447 [00:08<00:00, 4818.43it/s]\n"
     ]
    }
   ],
   "source": [
    "discharge_df = pd.read_csv('data/version1.4_filtered/valid/discharge.csv.gz', compression='gzip')\n",
    "target_df = pd.read_csv('data/version1.4_filtered/train/discharge_target.csv.gz', compression='gzip')\n",
    "combined_df = build_combined_discharge(discharge_df, target_df)\n",
    "final_df = extract_clean_sections_and_count_tokens(combined_df,section_to_next_section.keys())\n",
    "\n"
   ]
  },
  {
   "cell_type": "code",
   "execution_count": 4,
   "metadata": {},
   "outputs": [
    {
     "name": "stderr",
     "output_type": "stream",
     "text": [
      "100%|██████████| 39447/39447 [01:07<00:00, 583.99it/s]\n",
      "100%|██████████| 39447/39447 [00:38<00:00, 1020.32it/s]\n"
     ]
    }
   ],
   "source": [
    "final_df['brief_hospital_course_tokens'] = final_df['brief_hospital_course'].progress_apply(get_token_count)\n",
    "final_df['discharge_instructions_tokens'] = final_df['discharge_instructions'].progress_apply(get_token_count)"
   ]
  },
  {
   "cell_type": "code",
   "execution_count": 48,
   "metadata": {},
   "outputs": [],
   "source": [
    "sections_to_consider_bhc = [\n",
    "                'sex',\n",
    "                'service',\n",
    "                'allergies',\n",
    "                'chief_complaint',\n",
    "                'major_surgical_procedures',\n",
    "                'history_of_present_illness',\n",
    "                'past_medical_history',\n",
    "                'social_history',\n",
    "                'family_history',\n",
    "                #'pertinent_results',\n",
    "                'physical_exam',\n",
    "                'medication_on_admission',\n",
    "            ]\n",
    "\n",
    "sections_to_consider_di = [\n",
    "                'sex',\n",
    "                'service',\n",
    "                'chief_complaint',\n",
    "                'history_of_present_illness',\n",
    "                'physical_exam',\n",
    "                'brief_hospital_course',\n",
    "                'medication_on_admission',\n",
    "                'discharge_medications',\n",
    "                'discharge_disposition',\n",
    "                'discharge_diagnosis',\n",
    "                'discharge_condition',\n",
    "            ]"
   ]
  },
  {
   "cell_type": "code",
   "execution_count": 49,
   "metadata": {},
   "outputs": [],
   "source": [
    "final_df['all_sections_tokens_bhc'] = final_df[[f\"{section}_tokens\" for section in sections_to_consider_bhc]].sum(axis=1) + final_df['brief_hospital_course_tokens']\n",
    "final_df['all_sections_tokens_di'] = final_df[[f\"{section}_tokens\" for section in sections_to_consider_di]].sum(axis=1) + final_df['discharge_instructions_tokens']\n"
   ]
  },
  {
   "cell_type": "code",
   "execution_count": 50,
   "metadata": {},
   "outputs": [
    {
     "data": {
      "image/png": "[encoded data removed]",
      "text/plain": [
       "<Figure size 800x400 with 1 Axes>"
      ]
     },
     "metadata": {},
     "output_type": "display_data"
    },
    {
     "name": "stdout",
     "output_type": "stream",
     "text": [
      "Percentage under 4000 tokens: 96.82% i.e 38192 out of 39447\n"
     ]
    }
   ],
   "source": [
    "plt.figure(figsize=(8, 4))\n",
    "sns.histplot(final_df['all_sections_tokens_bhc'], kde=True, bins=20)\n",
    "plt.title(f'Distribution of bhc input + output tokens')\n",
    "plt.show()\n",
    "\n",
    "max_tok = 3980\n",
    "\n",
    "print(f\"Percentage under {max_tok + 20} tokens: {100 * (final_df['all_sections_tokens_bhc'] < max_tok).sum() / len(final_df):.2f}% i.e {len(final_df[final_df['all_sections_tokens_bhc'] < max_tok])} out of {len(final_df)}\")\n",
    "\n"
   ]
  },
  {
   "cell_type": "code",
   "execution_count": 12,
   "metadata": {},
   "outputs": [
    {
     "data": {
      "image/png": "[encoded data removed]",
      "text/plain": [
       "<Figure size 800x400 with 1 Axes>"
      ]
     },
     "metadata": {},
     "output_type": "display_data"
    },
    {
     "name": "stdout",
     "output_type": "stream",
     "text": [
      "Percentage under 7970 tokens: 99.97% i.e 39437 out of 39447\n"
     ]
    }
   ],
   "source": [
    "plt.figure(figsize=(8, 4))\n",
    "sns.histplot(final_df['all_sections_tokens_di'], kde=True, bins=20)\n",
    "plt.title(f'Distribution of di input + output tokens')\n",
    "plt.show()\n",
    "\n",
    "max_tok = 7950\n",
    "\n",
    "print(f\"Percentage under {max_tok + 20} tokens: {100 * (final_df['all_sections_tokens_di'] < max_tok).sum() / len(final_df):.2f}% i.e {len(final_df[final_df['all_sections_tokens_di'] < max_tok])} out of {len(final_df)}\")"
   ]
  }
 ],
 "metadata": {
  "kernelspec": {
   "display_name": ".venv",
   "language": "python",
   "name": "python3"
  },
  "language_info": {
   "codemirror_mode": {
    "name": "ipython",
    "version": 3
   },
   "file_extension": ".py",
   "mimetype": "text/x-python",
   "name": "python",
   "nbconvert_exporter": "python",
   "pygments_lexer": "ipython3",
   "version": "3.10.13"
  }
 },
 "nbformat": 4,
 "nbformat_minor": 2
}
