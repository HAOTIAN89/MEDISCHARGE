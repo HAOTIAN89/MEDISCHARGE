{
 "cells": [
  {
   "cell_type": "code",
   "execution_count": 5,
   "metadata": {},
   "outputs": [],
   "source": [
    "import pandas as pd"
   ]
  },
  {
   "cell_type": "code",
   "execution_count": 6,
   "metadata": {},
   "outputs": [],
   "source": [
    "outputs = pd.read_csv('../data/infered/di_short_7b_infered.csv')"
   ]
  },
  {
   "cell_type": "code",
   "execution_count": 9,
   "metadata": {},
   "outputs": [
    {
     "data": {
      "text/plain": [
       "'Dear Ms. ___,\\n\\nYou were admitted to the hospital for shortness of breath and \\nmild chest pain. While in the hospital we received an EKG and \\nblood work which suggested that your pain was not coming from \\nyour heart. Your shortness of breath is likely from a COPD \\nattack and we gave you steroids and breathing treatments for \\nyour symptoms. \\n\\nYou have a follow up appointment with Dr. ___ as detailed \\nbelow. We are also sending you home with a short course of \\nsteroids for your COPD. Your other medications are detailed in \\nyour discharge medication list.\\n\\nIt was a pleasure taking care of you at ___.\\n\\nSincerely,\\nYour ___ Care Team'"
      ]
     },
     "metadata": {},
     "output_type": "display_data"
    }
   ],
   "source": [
    "display(outputs['gold'][6])"
   ]
  },
  {
   "cell_type": "code",
   "execution_count": 13,
   "metadata": {},
   "outputs": [
    {
     "data": {
      "text/plain": [
       "'Dear Ms. ___,\\n\\nYou were admitted to the hospital for shortness of breath and \\nmild chest pain. While in the hospital we received an EKG and \\nblood work which suggested that your pain was not coming from \\nyour heart. Your shortness of breath is likely from a COPD \\nattack and we gave you steroids and breathing treatments for \\nyour symptoms. \\n\\nYou have a follow up appointment with Dr. ___ as detailed \\nbelow. We are also sending you home with a short course of \\nsteroids for your COPD. Your other medications are detailed in \\nyour discharge medication list.\\n\\nIt was a pleasure taking care of you at ___.\\n\\nSincerely,\\nYour ___ Care Team'"
      ]
     },
     "metadata": {},
     "output_type": "display_data"
    }
   ],
   "source": [
    "display(outputs['gold'][6])"
   ]
  },
  {
   "cell_type": "code",
   "execution_count": 14,
   "metadata": {},
   "outputs": [
    {
     "data": {
      "text/plain": [
       "\"Mr. ___ were admitted to ___ with a nose bleed and found \\nto have very low platelets and white blood cells. These are the \\ncells the help ___ form blood clots and fight infection. We \\nthink this occurred in response to the medication ___ were \\ntaking for gout, probenecid, which may have caused your body to \\nform antibodies to your own platelets. ___ were seen by the \\nHematologists and a bone marrow biopsy performed which showed \\ntoxic insult such as related to a drug.  ___ were treated with \\nplatelets to keep ___ from bleeding spontaneously and ___ were \\nstarted on prednisone to suppress your body from attacking its \\nplatelets.  Your platelets started to improve, and then on your \\nlast hospital day ___ were also given immunoglobulins to help \\nboost the immune system. \\n\\n___ SHOULD TELL ALL DOCTORS THAT ___ ARE ALLERGIC TO PROBENECID \\nAND THAT IT MAKES YOUR WHITE BLOOD CELLS AND PLATELETS LOW. \\n\\n___ were treated for a pneumonia with IV antibiotics for 5 days \\nand will take two more days of antibiotics at home.  Your \\nbreathing remained stable and ___ didn't have any fevers.\\n\\nYour nose stopped bleeding with the packing and that was removed \\non ___.  ___ were given some afrin to help suppress bleeding and \\n___ were also given saline nasal spray to use to keep the \\nnostrils moist.  ___ can use that 4 times a day, spraying ___ \\ntimes in each nostril.  ___ will follow up with the ears, nose \\nand throat doctor (___).  \\n\\n___ were given a new drug for prevention of gout flares called \\nallopurinol.  ___ should take 300 mg daily.  Dr. ___ give \\n___ further prescriptions for flares of gout.\""
      ]
     },
     "metadata": {},
     "output_type": "display_data"
    }
   ],
   "source": [
    "display(outputs['gold'][45])"
   ]
  },
  {
   "cell_type": "code",
   "execution_count": 15,
   "metadata": {},
   "outputs": [
    {
     "data": {
      "text/plain": [
       "'You were admitted for a nose bleed, which stopped with packing.  \\nYou also had low white blood cell and platelet counts.  This was \\nlikely due to an adverse reaction to probenicid, which you should \\nnever take again.  You received platelet transfusions and steroids \\nand your counts improved.'"
      ]
     },
     "metadata": {},
     "output_type": "display_data"
    }
   ],
   "source": [
    "display(outputs['generated'][45])"
   ]
  }
 ],
 "metadata": {
  "kernelspec": {
   "display_name": ".venv",
   "language": "python",
   "name": "python3"
  },
  "language_info": {
   "codemirror_mode": {
    "name": "ipython",
    "version": 3
   },
   "file_extension": ".py",
   "mimetype": "text/x-python",
   "name": "python",
   "nbconvert_exporter": "python",
   "pygments_lexer": "ipython3",
   "version": "3.11.5"
  }
 },
 "nbformat": 4,
 "nbformat_minor": 2
}
