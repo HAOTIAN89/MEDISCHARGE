{
 "cells": [
  {
   "cell_type": "code",
   "execution_count": 1,
   "metadata": {},
   "outputs": [],
   "source": [
    "from transformers import AutoTokenizer"
   ]
  },
  {
   "cell_type": "code",
   "execution_count": 5,
   "metadata": {},
   "outputs": [
    {
     "data": {
      "application/vnd.jupyter.widget-view+json": {
       "model_id": "ac23fa6759f544c2b9e542953e9c5a24",
       "version_major": 2,
       "version_minor": 0
      },
      "text/plain": [
       "tokenizer_config.json:   0%|          | 0.00/776 [00:00<?, ?B/s]"
      ]
     },
     "metadata": {},
     "output_type": "display_data"
    },
    {
     "data": {
      "application/vnd.jupyter.widget-view+json": {
       "model_id": "364a12d7fdcd402a911fc1f00c553aba",
       "version_major": 2,
       "version_minor": 0
      },
      "text/plain": [
       "tokenizer.model:   0%|          | 0.00/500k [00:00<?, ?B/s]"
      ]
     },
     "metadata": {},
     "output_type": "display_data"
    },
    {
     "data": {
      "application/vnd.jupyter.widget-view+json": {
       "model_id": "c9cdab494e9a4c1a871c0af132d8141e",
       "version_major": 2,
       "version_minor": 0
      },
      "text/plain": [
       "tokenizer.json:   0%|          | 0.00/1.84M [00:00<?, ?B/s]"
      ]
     },
     "metadata": {},
     "output_type": "display_data"
    },
    {
     "data": {
      "application/vnd.jupyter.widget-view+json": {
       "model_id": "b1db90d4af7d4853bca40ba0044cea0e",
       "version_major": 2,
       "version_minor": 0
      },
      "text/plain": [
       "special_tokens_map.json:   0%|          | 0.00/414 [00:00<?, ?B/s]"
      ]
     },
     "metadata": {},
     "output_type": "display_data"
    }
   ],
   "source": [
    "model1 = \"codellama/CodeLlama-7b-hf\"\n",
    "model2 = \"meta-llama/Llama-2-13b-hf\"\n",
    "access_token = \"<your huggingface access token>\"\n",
    "tokenizer = AutoTokenizer.from_pretrained(model2, token=access_token)"
   ]
  },
  {
   "cell_type": "code",
   "execution_count": 7,
   "metadata": {},
   "outputs": [
    {
     "data": {
      "text/html": [
       "<div>\n",
       "<style scoped>\n",
       "    .dataframe tbody tr th:only-of-type {\n",
       "        vertical-align: middle;\n",
       "    }\n",
       "\n",
       "    .dataframe tbody tr th {\n",
       "        vertical-align: top;\n",
       "    }\n",
       "\n",
       "    .dataframe thead th {\n",
       "        text-align: right;\n",
       "    }\n",
       "</style>\n",
       "<table border=\"1\" class=\"dataframe\">\n",
       "  <thead>\n",
       "    <tr style=\"text-align: right;\">\n",
       "      <th></th>\n",
       "      <th>hadm_id</th>\n",
       "      <th>text</th>\n",
       "      <th>discharge_instructions</th>\n",
       "      <th>brief_hospital_course</th>\n",
       "      <th>input_original_text</th>\n",
       "      <th>input_hospital_text</th>\n",
       "      <th>input_instructions_text</th>\n",
       "    </tr>\n",
       "  </thead>\n",
       "  <tbody>\n",
       "    <tr>\n",
       "      <th>0</th>\n",
       "      <td>22841357</td>\n",
       "      <td>\\nName:  ___                     Unit No:   _...</td>\n",
       "      <td>Dear ___,\\n\\n___ was a pleasure to take care o...</td>\n",
       "      <td>___ with HIV on HAART, HCV cirrhosis with asci...</td>\n",
       "      <td>\\nName:  ___                     Unit No:   _...</td>\n",
       "      <td>Sex: \\nF\\n \\nAllergies: \\nPercocet\\n \\nChief C...</td>\n",
       "      <td>Summary of Brief House Course \\n\\nMedications ...</td>\n",
       "    </tr>\n",
       "    <tr>\n",
       "      <th>1</th>\n",
       "      <td>22927623</td>\n",
       "      <td>\\nName:  ___                 Unit No:   ___\\n...</td>\n",
       "      <td>Dear Ms. ___,\\n\\nYou were hospitalized at ___....</td>\n",
       "      <td>Ms. ___ is a ___ with history of GERD who pres...</td>\n",
       "      <td>\\nName:  ___                 Unit No:   ___\\n...</td>\n",
       "      <td>Sex: \\nF\\n \\nAllergies: \\nomeprazole\\n \\nChief...</td>\n",
       "      <td>Summary of Brief House Course \\n\\nMedications ...</td>\n",
       "    </tr>\n",
       "    <tr>\n",
       "      <th>2</th>\n",
       "      <td>21738619</td>\n",
       "      <td>\\nName:  ___                   Unit No:   ___...</td>\n",
       "      <td>Dear ___, \\n\\n___ were seen in the ED for ongo...</td>\n",
       "      <td>___ Female with PMH significant for depression...</td>\n",
       "      <td>\\nName:  ___                   Unit No:   ___...</td>\n",
       "      <td>Sex: \\nF\\n \\nAllergies: \\nSulfa (Sulfonamide A...</td>\n",
       "      <td>Summary of Brief House Course \\n\\nMedications ...</td>\n",
       "    </tr>\n",
       "    <tr>\n",
       "      <th>3</th>\n",
       "      <td>25849114</td>\n",
       "      <td>\\nName:  ___                   Unit No:   ___...</td>\n",
       "      <td>Dear Ms. ___,\\nIt was a pleasure taking part i...</td>\n",
       "      <td>Ms. ___ is a ___ with metastatic cancer of unk...</td>\n",
       "      <td>\\nName:  ___                   Unit No:   ___...</td>\n",
       "      <td>Sex: \\nF\\n \\nAllergies: \\nSulfa (Sulfonamide A...</td>\n",
       "      <td>Summary of Brief House Course \\n\\nMedications ...</td>\n",
       "    </tr>\n",
       "    <tr>\n",
       "      <th>4</th>\n",
       "      <td>29654838</td>\n",
       "      <td>\\nName:  ___          Unit No:   ___\\n \\nAdmi...</td>\n",
       "      <td>Dear Ms. ___, \\n\\nYou were admitted for shortn...</td>\n",
       "      <td>___ woman with h/o hypertension, hypelipidemia...</td>\n",
       "      <td>\\nName:  ___          Unit No:   ___\\n \\nAdmi...</td>\n",
       "      <td>Sex: \\nF\\n \\nAllergies: \\nNo Known Allergies /...</td>\n",
       "      <td>Summary of Brief House Course \\n\\nMedications ...</td>\n",
       "    </tr>\n",
       "  </tbody>\n",
       "</table>\n",
       "</div>"
      ],
      "text/plain": [
       "    hadm_id                                               text  \\\n",
       "0  22841357   \\nName:  ___                     Unit No:   _...   \n",
       "1  22927623   \\nName:  ___                 Unit No:   ___\\n...   \n",
       "2  21738619   \\nName:  ___                   Unit No:   ___...   \n",
       "3  25849114   \\nName:  ___                   Unit No:   ___...   \n",
       "4  29654838   \\nName:  ___          Unit No:   ___\\n \\nAdmi...   \n",
       "\n",
       "                              discharge_instructions  \\\n",
       "0  Dear ___,\\n\\n___ was a pleasure to take care o...   \n",
       "1  Dear Ms. ___,\\n\\nYou were hospitalized at ___....   \n",
       "2  Dear ___, \\n\\n___ were seen in the ED for ongo...   \n",
       "3  Dear Ms. ___,\\nIt was a pleasure taking part i...   \n",
       "4  Dear Ms. ___, \\n\\nYou were admitted for shortn...   \n",
       "\n",
       "                               brief_hospital_course  \\\n",
       "0  ___ with HIV on HAART, HCV cirrhosis with asci...   \n",
       "1  Ms. ___ is a ___ with history of GERD who pres...   \n",
       "2  ___ Female with PMH significant for depression...   \n",
       "3  Ms. ___ is a ___ with metastatic cancer of unk...   \n",
       "4  ___ woman with h/o hypertension, hypelipidemia...   \n",
       "\n",
       "                                 input_original_text  \\\n",
       "0   \\nName:  ___                     Unit No:   _...   \n",
       "1   \\nName:  ___                 Unit No:   ___\\n...   \n",
       "2   \\nName:  ___                   Unit No:   ___...   \n",
       "3   \\nName:  ___                   Unit No:   ___...   \n",
       "4   \\nName:  ___          Unit No:   ___\\n \\nAdmi...   \n",
       "\n",
       "                                 input_hospital_text  \\\n",
       "0  Sex: \\nF\\n \\nAllergies: \\nPercocet\\n \\nChief C...   \n",
       "1  Sex: \\nF\\n \\nAllergies: \\nomeprazole\\n \\nChief...   \n",
       "2  Sex: \\nF\\n \\nAllergies: \\nSulfa (Sulfonamide A...   \n",
       "3  Sex: \\nF\\n \\nAllergies: \\nSulfa (Sulfonamide A...   \n",
       "4  Sex: \\nF\\n \\nAllergies: \\nNo Known Allergies /...   \n",
       "\n",
       "                             input_instructions_text  \n",
       "0  Summary of Brief House Course \\n\\nMedications ...  \n",
       "1  Summary of Brief House Course \\n\\nMedications ...  \n",
       "2  Summary of Brief House Course \\n\\nMedications ...  \n",
       "3  Summary of Brief House Course \\n\\nMedications ...  \n",
       "4  Summary of Brief House Course \\n\\nMedications ...  "
      ]
     },
     "execution_count": 7,
     "metadata": {},
     "output_type": "execute_result"
    }
   ],
   "source": [
    "import pandas as pd\n",
    "\n",
    "combined_discharges_df = pd.read_csv('combined_discharge.csv.gz', compression='gzip')\n",
    "\n",
    "combined_discharges_df.head()"
   ]
  },
  {
   "cell_type": "code",
   "execution_count": 17,
   "metadata": {},
   "outputs": [],
   "source": [
    "def tokenize_sentences(text):\n",
    "    output = tokenizer(text, return_tensors=\"pt\")\n",
    "    return output['input_ids'].shape[1]+1   #+1 for the EOS token "
   ]
  },
  {
   "cell_type": "code",
   "execution_count": 19,
   "metadata": {},
   "outputs": [],
   "source": [
    "combined_discharges_df['discharge_instructions_token_count'] = combined_discharges_df['discharge_instructions'].apply(tokenize_sentences)"
   ]
  },
  {
   "cell_type": "code",
   "execution_count": 21,
   "metadata": {},
   "outputs": [],
   "source": [
    "combined_discharges_df['brief_hospital_course_token_count'] = combined_discharges_df['brief_hospital_course'].apply(tokenize_sentences)"
   ]
  },
  {
   "cell_type": "code",
   "execution_count": 22,
   "metadata": {},
   "outputs": [],
   "source": [
    "combined_discharges_df['discharge_instructions_input_token_count'] = combined_discharges_df['input_instructions_text'].apply(tokenize_sentences)"
   ]
  },
  {
   "cell_type": "code",
   "execution_count": 23,
   "metadata": {},
   "outputs": [],
   "source": [
    "combined_discharges_df['brief_hospital_course_input_token_count'] = combined_discharges_df['input_hospital_text'].apply(tokenize_sentences)"
   ]
  },
  {
   "cell_type": "code",
   "execution_count": 29,
   "metadata": {},
   "outputs": [
    {
     "data": {
      "text/html": [
       "<div>\n",
       "<style scoped>\n",
       "    .dataframe tbody tr th:only-of-type {\n",
       "        vertical-align: middle;\n",
       "    }\n",
       "\n",
       "    .dataframe tbody tr th {\n",
       "        vertical-align: top;\n",
       "    }\n",
       "\n",
       "    .dataframe thead th {\n",
       "        text-align: right;\n",
       "    }\n",
       "</style>\n",
       "<table border=\"1\" class=\"dataframe\">\n",
       "  <thead>\n",
       "    <tr style=\"text-align: right;\">\n",
       "      <th></th>\n",
       "      <th>hadm_id</th>\n",
       "      <th>text</th>\n",
       "      <th>discharge_instructions</th>\n",
       "      <th>brief_hospital_course</th>\n",
       "      <th>input_original_text</th>\n",
       "      <th>input_hospital_text</th>\n",
       "      <th>input_instructions_text</th>\n",
       "      <th>discharge_instructions_token_count</th>\n",
       "      <th>brief_hospital_course_token_count</th>\n",
       "      <th>discharge_instructions_input_token_count</th>\n",
       "      <th>brief_hospital_course_input_token_count</th>\n",
       "    </tr>\n",
       "  </thead>\n",
       "  <tbody>\n",
       "    <tr>\n",
       "      <th>0</th>\n",
       "      <td>22841357</td>\n",
       "      <td>\\nName:  ___                     Unit No:   _...</td>\n",
       "      <td>Dear ___,\\n\\n___ was a pleasure to take care o...</td>\n",
       "      <td>___ with HIV on HAART, HCV cirrhosis with asci...</td>\n",
       "      <td>\\nName:  ___                     Unit No:   _...</td>\n",
       "      <td>Sex: \\nF\\n \\nAllergies: \\nPercocet\\n \\nChief C...</td>\n",
       "      <td>Summary of Brief House Course \\n\\nMedications ...</td>\n",
       "      <td>221</td>\n",
       "      <td>1124</td>\n",
       "      <td>592</td>\n",
       "      <td>1308</td>\n",
       "    </tr>\n",
       "    <tr>\n",
       "      <th>1</th>\n",
       "      <td>22927623</td>\n",
       "      <td>\\nName:  ___                 Unit No:   ___\\n...</td>\n",
       "      <td>Dear Ms. ___,\\n\\nYou were hospitalized at ___....</td>\n",
       "      <td>Ms. ___ is a ___ with history of GERD who pres...</td>\n",
       "      <td>\\nName:  ___                 Unit No:   ___\\n...</td>\n",
       "      <td>Sex: \\nF\\n \\nAllergies: \\nomeprazole\\n \\nChief...</td>\n",
       "      <td>Summary of Brief House Course \\n\\nMedications ...</td>\n",
       "      <td>113</td>\n",
       "      <td>134</td>\n",
       "      <td>193</td>\n",
       "      <td>969</td>\n",
       "    </tr>\n",
       "    <tr>\n",
       "      <th>2</th>\n",
       "      <td>21738619</td>\n",
       "      <td>\\nName:  ___                   Unit No:   ___...</td>\n",
       "      <td>Dear ___, \\n\\n___ were seen in the ED for ongo...</td>\n",
       "      <td>___ Female with PMH significant for depression...</td>\n",
       "      <td>\\nName:  ___                   Unit No:   ___...</td>\n",
       "      <td>Sex: \\nF\\n \\nAllergies: \\nSulfa (Sulfonamide A...</td>\n",
       "      <td>Summary of Brief House Course \\n\\nMedications ...</td>\n",
       "      <td>178</td>\n",
       "      <td>551</td>\n",
       "      <td>662</td>\n",
       "      <td>1882</td>\n",
       "    </tr>\n",
       "    <tr>\n",
       "      <th>3</th>\n",
       "      <td>25849114</td>\n",
       "      <td>\\nName:  ___                   Unit No:   ___...</td>\n",
       "      <td>Dear Ms. ___,\\nIt was a pleasure taking part i...</td>\n",
       "      <td>Ms. ___ is a ___ with metastatic cancer of unk...</td>\n",
       "      <td>\\nName:  ___                   Unit No:   ___...</td>\n",
       "      <td>Sex: \\nF\\n \\nAllergies: \\nSulfa (Sulfonamide A...</td>\n",
       "      <td>Summary of Brief House Course \\n\\nMedications ...</td>\n",
       "      <td>261</td>\n",
       "      <td>113</td>\n",
       "      <td>747</td>\n",
       "      <td>1782</td>\n",
       "    </tr>\n",
       "    <tr>\n",
       "      <th>4</th>\n",
       "      <td>29654838</td>\n",
       "      <td>\\nName:  ___          Unit No:   ___\\n \\nAdmi...</td>\n",
       "      <td>Dear Ms. ___, \\n\\nYou were admitted for shortn...</td>\n",
       "      <td>___ woman with h/o hypertension, hypelipidemia...</td>\n",
       "      <td>\\nName:  ___          Unit No:   ___\\n \\nAdmi...</td>\n",
       "      <td>Sex: \\nF\\n \\nAllergies: \\nNo Known Allergies /...</td>\n",
       "      <td>Summary of Brief House Course \\n\\nMedications ...</td>\n",
       "      <td>334</td>\n",
       "      <td>935</td>\n",
       "      <td>1387</td>\n",
       "      <td>1606</td>\n",
       "    </tr>\n",
       "    <tr>\n",
       "      <th>5</th>\n",
       "      <td>26913865</td>\n",
       "      <td>\\nName:  ___          Unit No:   ___\\n \\nAdmi...</td>\n",
       "      <td>Dear Ms. ___,\\n\\nIt was a pleasure caring for ...</td>\n",
       "      <td>___ female with ___, HTN, diabetes, CKD presen...</td>\n",
       "      <td>\\nName:  ___          Unit No:   ___\\n \\nAdmi...</td>\n",
       "      <td>Sex: \\nF\\n \\nAllergies: \\nNo Known Allergies /...</td>\n",
       "      <td>Summary of Brief House Course \\n\\nMedications ...</td>\n",
       "      <td>177</td>\n",
       "      <td>894</td>\n",
       "      <td>840</td>\n",
       "      <td>1204</td>\n",
       "    </tr>\n",
       "    <tr>\n",
       "      <th>6</th>\n",
       "      <td>25242409</td>\n",
       "      <td>\\nName:  ___          Unit No:   ___\\n \\nAdmi...</td>\n",
       "      <td>Dear ___,\\n\\nIt was a pleasure caring for you ...</td>\n",
       "      <td>Outpatient Providers: ___ with PMHx significan...</td>\n",
       "      <td>\\nName:  ___          Unit No:   ___\\n \\nAdmi...</td>\n",
       "      <td>Sex: \\nF\\n \\nAllergies: \\nNo Known Allergies /...</td>\n",
       "      <td>Summary of Brief House Course \\n\\nMedications ...</td>\n",
       "      <td>285</td>\n",
       "      <td>1459</td>\n",
       "      <td>812</td>\n",
       "      <td>1652</td>\n",
       "    </tr>\n",
       "    <tr>\n",
       "      <th>7</th>\n",
       "      <td>25911675</td>\n",
       "      <td>\\nName:  ___          Unit No:   ___\\n \\nAdmi...</td>\n",
       "      <td>Dear ___,\\n\\nIt was a pleasure caring for you....</td>\n",
       "      <td>Ms. ___ is a ___ year old woman with a past me...</td>\n",
       "      <td>\\nName:  ___          Unit No:   ___\\n \\nAdmi...</td>\n",
       "      <td>Sex: \\nF\\n \\nAllergies: \\nNo Known Allergies /...</td>\n",
       "      <td>Summary of Brief House Course \\n\\nMedications ...</td>\n",
       "      <td>145</td>\n",
       "      <td>401</td>\n",
       "      <td>1824</td>\n",
       "      <td>1587</td>\n",
       "    </tr>\n",
       "    <tr>\n",
       "      <th>8</th>\n",
       "      <td>29659838</td>\n",
       "      <td>\\nName:  ___          Unit No:   ___\\n \\nAdmi...</td>\n",
       "      <td>Mrs. ___, \\n\\n___ were admitted to ___ for tre...</td>\n",
       "      <td>___ year-old female with history of hypertensi...</td>\n",
       "      <td>\\nName:  ___          Unit No:   ___\\n \\nAdmi...</td>\n",
       "      <td>Sex: \\nF\\n \\nAllergies: \\nNo Known Allergies /...</td>\n",
       "      <td>Summary of Brief House Course \\n\\nMedications ...</td>\n",
       "      <td>111</td>\n",
       "      <td>1180</td>\n",
       "      <td>1045</td>\n",
       "      <td>2280</td>\n",
       "    </tr>\n",
       "    <tr>\n",
       "      <th>9</th>\n",
       "      <td>24597018</td>\n",
       "      <td>\\nName:  ___              Unit No:   ___\\n \\n...</td>\n",
       "      <td>Have a friend/family member check your incisi...</td>\n",
       "      <td>Mrs. ___ presented to the ___ Emergency Depart...</td>\n",
       "      <td>\\nName:  ___              Unit No:   ___\\n \\n...</td>\n",
       "      <td>Sex: \\nF\\n \\nAllergies: \\nPenicillins\\n \\nChie...</td>\n",
       "      <td>Summary of Brief House Course \\n\\nMedications ...</td>\n",
       "      <td>322</td>\n",
       "      <td>735</td>\n",
       "      <td>752</td>\n",
       "      <td>1102</td>\n",
       "    </tr>\n",
       "  </tbody>\n",
       "</table>\n",
       "</div>"
      ],
      "text/plain": [
       "    hadm_id                                               text  \\\n",
       "0  22841357   \\nName:  ___                     Unit No:   _...   \n",
       "1  22927623   \\nName:  ___                 Unit No:   ___\\n...   \n",
       "2  21738619   \\nName:  ___                   Unit No:   ___...   \n",
       "3  25849114   \\nName:  ___                   Unit No:   ___...   \n",
       "4  29654838   \\nName:  ___          Unit No:   ___\\n \\nAdmi...   \n",
       "5  26913865   \\nName:  ___          Unit No:   ___\\n \\nAdmi...   \n",
       "6  25242409   \\nName:  ___          Unit No:   ___\\n \\nAdmi...   \n",
       "7  25911675   \\nName:  ___          Unit No:   ___\\n \\nAdmi...   \n",
       "8  29659838   \\nName:  ___          Unit No:   ___\\n \\nAdmi...   \n",
       "9  24597018   \\nName:  ___              Unit No:   ___\\n \\n...   \n",
       "\n",
       "                              discharge_instructions  \\\n",
       "0  Dear ___,\\n\\n___ was a pleasure to take care o...   \n",
       "1  Dear Ms. ___,\\n\\nYou were hospitalized at ___....   \n",
       "2  Dear ___, \\n\\n___ were seen in the ED for ongo...   \n",
       "3  Dear Ms. ___,\\nIt was a pleasure taking part i...   \n",
       "4  Dear Ms. ___, \\n\\nYou were admitted for shortn...   \n",
       "5  Dear Ms. ___,\\n\\nIt was a pleasure caring for ...   \n",
       "6  Dear ___,\\n\\nIt was a pleasure caring for you ...   \n",
       "7  Dear ___,\\n\\nIt was a pleasure caring for you....   \n",
       "8  Mrs. ___, \\n\\n___ were admitted to ___ for tre...   \n",
       "9  Have a friend/family member check your incisi...   \n",
       "\n",
       "                               brief_hospital_course  \\\n",
       "0  ___ with HIV on HAART, HCV cirrhosis with asci...   \n",
       "1  Ms. ___ is a ___ with history of GERD who pres...   \n",
       "2  ___ Female with PMH significant for depression...   \n",
       "3  Ms. ___ is a ___ with metastatic cancer of unk...   \n",
       "4  ___ woman with h/o hypertension, hypelipidemia...   \n",
       "5  ___ female with ___, HTN, diabetes, CKD presen...   \n",
       "6  Outpatient Providers: ___ with PMHx significan...   \n",
       "7  Ms. ___ is a ___ year old woman with a past me...   \n",
       "8  ___ year-old female with history of hypertensi...   \n",
       "9  Mrs. ___ presented to the ___ Emergency Depart...   \n",
       "\n",
       "                                 input_original_text  \\\n",
       "0   \\nName:  ___                     Unit No:   _...   \n",
       "1   \\nName:  ___                 Unit No:   ___\\n...   \n",
       "2   \\nName:  ___                   Unit No:   ___...   \n",
       "3   \\nName:  ___                   Unit No:   ___...   \n",
       "4   \\nName:  ___          Unit No:   ___\\n \\nAdmi...   \n",
       "5   \\nName:  ___          Unit No:   ___\\n \\nAdmi...   \n",
       "6   \\nName:  ___          Unit No:   ___\\n \\nAdmi...   \n",
       "7   \\nName:  ___          Unit No:   ___\\n \\nAdmi...   \n",
       "8   \\nName:  ___          Unit No:   ___\\n \\nAdmi...   \n",
       "9   \\nName:  ___              Unit No:   ___\\n \\n...   \n",
       "\n",
       "                                 input_hospital_text  \\\n",
       "0  Sex: \\nF\\n \\nAllergies: \\nPercocet\\n \\nChief C...   \n",
       "1  Sex: \\nF\\n \\nAllergies: \\nomeprazole\\n \\nChief...   \n",
       "2  Sex: \\nF\\n \\nAllergies: \\nSulfa (Sulfonamide A...   \n",
       "3  Sex: \\nF\\n \\nAllergies: \\nSulfa (Sulfonamide A...   \n",
       "4  Sex: \\nF\\n \\nAllergies: \\nNo Known Allergies /...   \n",
       "5  Sex: \\nF\\n \\nAllergies: \\nNo Known Allergies /...   \n",
       "6  Sex: \\nF\\n \\nAllergies: \\nNo Known Allergies /...   \n",
       "7  Sex: \\nF\\n \\nAllergies: \\nNo Known Allergies /...   \n",
       "8  Sex: \\nF\\n \\nAllergies: \\nNo Known Allergies /...   \n",
       "9  Sex: \\nF\\n \\nAllergies: \\nPenicillins\\n \\nChie...   \n",
       "\n",
       "                             input_instructions_text  \\\n",
       "0  Summary of Brief House Course \\n\\nMedications ...   \n",
       "1  Summary of Brief House Course \\n\\nMedications ...   \n",
       "2  Summary of Brief House Course \\n\\nMedications ...   \n",
       "3  Summary of Brief House Course \\n\\nMedications ...   \n",
       "4  Summary of Brief House Course \\n\\nMedications ...   \n",
       "5  Summary of Brief House Course \\n\\nMedications ...   \n",
       "6  Summary of Brief House Course \\n\\nMedications ...   \n",
       "7  Summary of Brief House Course \\n\\nMedications ...   \n",
       "8  Summary of Brief House Course \\n\\nMedications ...   \n",
       "9  Summary of Brief House Course \\n\\nMedications ...   \n",
       "\n",
       "   discharge_instructions_token_count  brief_hospital_course_token_count  \\\n",
       "0                                 221                               1124   \n",
       "1                                 113                                134   \n",
       "2                                 178                                551   \n",
       "3                                 261                                113   \n",
       "4                                 334                                935   \n",
       "5                                 177                                894   \n",
       "6                                 285                               1459   \n",
       "7                                 145                                401   \n",
       "8                                 111                               1180   \n",
       "9                                 322                                735   \n",
       "\n",
       "   discharge_instructions_input_token_count  \\\n",
       "0                                       592   \n",
       "1                                       193   \n",
       "2                                       662   \n",
       "3                                       747   \n",
       "4                                      1387   \n",
       "5                                       840   \n",
       "6                                       812   \n",
       "7                                      1824   \n",
       "8                                      1045   \n",
       "9                                       752   \n",
       "\n",
       "   brief_hospital_course_input_token_count  \n",
       "0                                     1308  \n",
       "1                                      969  \n",
       "2                                     1882  \n",
       "3                                     1782  \n",
       "4                                     1606  \n",
       "5                                     1204  \n",
       "6                                     1652  \n",
       "7                                     1587  \n",
       "8                                     2280  \n",
       "9                                     1102  "
      ]
     },
     "execution_count": 29,
     "metadata": {},
     "output_type": "execute_result"
    }
   ],
   "source": [
    "combined_discharges_df.head(10)"
   ]
  },
  {
   "cell_type": "code",
   "execution_count": 24,
   "metadata": {},
   "outputs": [],
   "source": [
    "import matplotlib.pyplot as plt"
   ]
  },
  {
   "cell_type": "code",
   "execution_count": 28,
   "metadata": {},
   "outputs": [
    {
     "data": {
      "image/png": "[encoded data removed]",
      "text/plain": [
       "<Figure size 640x480 with 1 Axes>"
      ]
     },
     "metadata": {},
     "output_type": "display_data"
    }
   ],
   "source": [
    "value_counts = combined_discharges_df['brief_hospital_course_input_token_count'].value_counts()\n",
    "\n",
    "plt.bar(value_counts.index, value_counts.values)\n",
    "plt.xlabel('values')\n",
    "plt.ylabel('counts')\n",
    "plt.title('brief_hospital_course Input Token Count Distribution')\n",
    "plt.show()"
   ]
  },
  {
   "cell_type": "code",
   "execution_count": 26,
   "metadata": {},
   "outputs": [
    {
     "data": {
      "image/png": "[encoded data removed]",
      "text/plain": [
       "<Figure size 640x480 with 1 Axes>"
      ]
     },
     "metadata": {},
     "output_type": "display_data"
    }
   ],
   "source": [
    "value_counts = combined_discharges_df['discharge_instructions_input_token_count'].value_counts()\n",
    "\n",
    "plt.bar(value_counts.index, value_counts.values)\n",
    "plt.xlabel('values')\n",
    "plt.ylabel('counts')\n",
    "plt.title('discharge_instructions Input Token Count Distribution')\n",
    "plt.show()"
   ]
  },
  {
   "cell_type": "code",
   "execution_count": 30,
   "metadata": {},
   "outputs": [
    {
     "data": {
      "image/png": "[encoded data removed]",
      "text/plain": [
       "<Figure size 640x480 with 1 Axes>"
      ]
     },
     "metadata": {},
     "output_type": "display_data"
    }
   ],
   "source": [
    "value_counts = (combined_discharges_df['brief_hospital_course_input_token_count'] + combined_discharges_df['brief_hospital_course_token_count']).value_counts()\n",
    "\n",
    "plt.bar(value_counts.index, value_counts.values)\n",
    "plt.xlabel('values')\n",
    "plt.ylabel('counts')\n",
    "plt.title('(brief_hospital_course + its input) Token Count Distribution')\n",
    "plt.show()"
   ]
  },
  {
   "cell_type": "code",
   "execution_count": 31,
   "metadata": {},
   "outputs": [
    {
     "data": {
      "image/png": "[encoded data removed]",
      "text/plain": [
       "<Figure size 640x480 with 1 Axes>"
      ]
     },
     "metadata": {},
     "output_type": "display_data"
    }
   ],
   "source": [
    "value_counts = (combined_discharges_df['discharge_instructions_input_token_count'] + combined_discharges_df['discharge_instructions_token_count']).value_counts()\n",
    "\n",
    "plt.bar(value_counts.index, value_counts.values)\n",
    "plt.xlabel('values')\n",
    "plt.ylabel('counts')\n",
    "plt.title('(discharge_instructions + its input) Token Count Distribution')\n",
    "plt.show()"
   ]
  },
  {
   "cell_type": "code",
   "execution_count": 33,
   "metadata": {},
   "outputs": [],
   "source": [
    "# save the combined discharge dataframe\n",
    "combined_discharges_df.to_csv('combined_discharge_with_token_count.csv.gz', index=False, compression='gzip')"
   ]
  },
  {
   "cell_type": "code",
   "execution_count": null,
   "metadata": {},
   "outputs": [],
   "source": []
  }
 ],
 "metadata": {
  "kernelspec": {
   "display_name": "extract",
   "language": "python",
   "name": "python3"
  },
  "language_info": {
   "codemirror_mode": {
    "name": "ipython",
    "version": 3
   },
   "file_extension": ".py",
   "mimetype": "text/x-python",
   "name": "python",
   "nbconvert_exporter": "python",
   "pygments_lexer": "ipython3",
   "version": "3.9.18"
  }
 },
 "nbformat": 4,
 "nbformat_minor": 2
}
