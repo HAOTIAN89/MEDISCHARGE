{
 "cells": [
  {
   "cell_type": "code",
   "execution_count": 1,
   "metadata": {},
   "outputs": [],
   "source": [
    "import sys\n",
    "sys.path.append('../')\n",
    "\n",
    "import regex as re\n",
    "import pandas as pd\n",
    "from src.utils.preprocessing import (load_data,\n",
    "                                    save_data,\n",
    "                                    build_combined_discharge,\n",
    "                                    get_bhc_input,\n",
    "                                    extract_clean_inputs,\n",
    "                                    remove_unecessary_tokens)\n",
    "\n",
    "from src.utils.token_count import get_token_list, get_token_count, plot_token_count\n",
    "from src.utils.format_change import dataframe_to_jsonl\n",
    "from tqdm import tqdm\n",
    "tqdm.pandas()\n",
    "\n",
    "%load_ext autoreload\n",
    "%autoreload 2"
   ]
  },
  {
   "cell_type": "code",
   "execution_count": 2,
   "metadata": {},
   "outputs": [],
   "source": [
    "data_path = '../data/'"
   ]
  },
  {
   "cell_type": "code",
   "execution_count": 9,
   "metadata": {},
   "outputs": [
    {
     "name": "stdout",
     "output_type": "stream",
     "text": [
      "68785\n",
      "14719\n"
     ]
    }
   ],
   "source": [
    "train_discharge = load_data(data_path + 'train/discharge.csv.gz')\n",
    "train_targets = load_data(data_path + 'train/discharge_target.csv.gz')\n",
    "train_combined_discharge = build_combined_discharge(train_discharge, train_targets)\n",
    "\n",
    "valid_discharge = load_data(data_path + 'valid/discharge.csv.gz')\n",
    "valid_targets = load_data(data_path + 'valid/discharge_target.csv.gz') \n",
    "valid_combined_discharge = build_combined_discharge(valid_discharge, valid_targets)\n",
    "\n",
    "print(len(train_combined_discharge))\n",
    "print(len(valid_combined_discharge))"
   ]
  },
  {
   "cell_type": "markdown",
   "metadata": {},
   "source": [
    "**Stage1: First cleaning by meaningful extraction**\n",
    "i.e. keep and organize relevent sections without looking to much in details\n",
    "\n",
    "**Stage2 :Removing some not-such-important sections**\n",
    "- Remove `social_history` and `family_history`\n",
    "\n",
    "**Stage3 cleaning of specific token groups**\n",
    "- Replacing 2 or more `__` by only one `_`\n",
    "- Replacing at least 2 `======` by `\\n`\n",
    "\n",
    "**Stage4 adding the key behind the BHC section of input_of_di**\n",
    "\n",
    "**Stage5 adding the prompt to the input**\n",
    "\n",
    "**Stage6 filtering out the samples longer than 2k**\n",
    "\n",
    "**Stage7 loading into the jsonl files**"
   ]
  },
  {
   "cell_type": "code",
   "execution_count": 4,
   "metadata": {},
   "outputs": [
    {
     "name": "stderr",
     "output_type": "stream",
     "text": [
      "100%|██████████| 68785/68785 [00:43<00:00, 1582.76it/s]\n",
      "100%|██████████| 14719/14719 [00:09<00:00, 1556.95it/s]\n"
     ]
    }
   ],
   "source": [
    "clean2_bhc_train_input = extract_clean_inputs(train_combined_discharge,\n",
    "                        features_to_include=[\n",
    "                                'sex',\n",
    "                                'allergies',\n",
    "                                'chief_complaint',\n",
    "                                'major_surgical_procedures',\n",
    "                                'history_of_present_illness',\n",
    "                                'past_medical_history',\n",
    "                                'physical_exam',\n",
    "                                'pertinent_results',\n",
    "                            ])\n",
    "\n",
    "clean2_bhc_valid_input = extract_clean_inputs(valid_combined_discharge,\n",
    "                        features_to_include=[\n",
    "                                'sex',\n",
    "                                'allergies',\n",
    "                                'chief_complaint',\n",
    "                                'major_surgical_procedures',\n",
    "                                'history_of_present_illness',\n",
    "                                'past_medical_history',\n",
    "                                'physical_exam',\n",
    "                                'pertinent_results',\n",
    "                            ])"
   ]
  },
  {
   "cell_type": "code",
   "execution_count": 5,
   "metadata": {},
   "outputs": [
    {
     "name": "stderr",
     "output_type": "stream",
     "text": [
      "100%|██████████| 68785/68785 [00:04<00:00, 15702.80it/s]\n",
      "100%|██████████| 14719/14719 [00:00<00:00, 15552.42it/s]\n"
     ]
    }
   ],
   "source": [
    "clean2_di_train_input = extract_clean_inputs(train_combined_discharge,\n",
    "                        features_to_include=[\n",
    "                                'medication_on_admission',\n",
    "                                'discharge_medications',\n",
    "                                'discharge_disposition',\n",
    "                                'discharge_diagnosis',\n",
    "                                'discharge_condition',\n",
    "                            ])\n",
    "\n",
    "clean2_di_valid_input = extract_clean_inputs(valid_combined_discharge,\n",
    "                        features_to_include=[\n",
    "                                'medication_on_admission',\n",
    "                                'discharge_medications',\n",
    "                                'discharge_disposition',\n",
    "                                'discharge_diagnosis',\n",
    "                                'discharge_condition',\n",
    "                            ])"
   ]
  },
  {
   "cell_type": "code",
   "execution_count": 10,
   "metadata": {},
   "outputs": [],
   "source": [
    "system_prompt1 = \"You are a medical assistant. Your task is to write the brief hospital course corresponding to the following hospital discharge.\\n\\n\"\n",
    "system_prompt2 = \"You are a medical assistant. Your task is to write the discharge instructions corresponding to the following hospital discharge.\\n\\n\""
   ]
  },
  {
   "cell_type": "code",
   "execution_count": 12,
   "metadata": {},
   "outputs": [
    {
     "name": "stderr",
     "output_type": "stream",
     "text": [
      "100%|██████████| 68785/68785 [00:42<00:00, 1611.26it/s]\n",
      "100%|██████████| 14719/14719 [00:09<00:00, 1608.74it/s]\n",
      "100%|██████████| 68785/68785 [01:23<00:00, 820.95it/s] \n",
      "100%|██████████| 68785/68785 [02:58<00:00, 384.77it/s]\n",
      "100%|██████████| 68785/68785 [00:51<00:00, 1341.69it/s]\n",
      "100%|██████████| 68785/68785 [02:43<00:00, 421.78it/s]\n",
      "100%|██████████| 14719/14719 [00:18<00:00, 779.19it/s]\n",
      "100%|██████████| 14719/14719 [00:37<00:00, 388.48it/s]\n",
      "100%|██████████| 14719/14719 [00:11<00:00, 1334.12it/s]\n",
      "100%|██████████| 14719/14719 [00:34<00:00, 423.97it/s]\n"
     ]
    }
   ],
   "source": [
    "# add the clean2_bhc/di_train_input and clean2_bhc/di_valid_input to the original dataframes as the new columns\n",
    "train_combined_discharge['input_of_bhc'] = clean2_bhc_train_input\n",
    "valid_combined_discharge['input_of_bhc'] = clean2_bhc_valid_input\n",
    "train_combined_discharge['input_of_di'] = clean2_di_train_input\n",
    "valid_combined_discharge['input_of_di'] = clean2_di_valid_input\n",
    "\n",
    "# remove the unecessary tokens from the input_of_bhc and input_of_di\n",
    "train_combined_discharge['input_of_bhc'] = train_combined_discharge['input_of_bhc'].progress_apply(remove_unecessary_tokens)\n",
    "valid_combined_discharge['input_of_bhc'] = valid_combined_discharge['input_of_bhc'].progress_apply(remove_unecessary_tokens)\n",
    "\n",
    "# add some key words into the input_of_di\n",
    "train_combined_discharge['input_of_di'] = \"Brief Hospital Course:\\n\" + train_combined_discharge['brief_hospital_course'] + \"\\n\\n\" + clean2_di_train_input\n",
    "valid_combined_discharge['input_of_di'] = \"Brief Hospital Course:\\n\" + valid_combined_discharge['brief_hospital_course'] + \"\\n\\n\" + clean2_di_valid_input\n",
    "\n",
    "# add the system prompt into the input_of_bhc and input_of_di\n",
    "train_combined_discharge['input_of_bhc'] = system_prompt1 + train_combined_discharge['input_of_bhc']\n",
    "valid_combined_discharge['input_of_bhc'] = system_prompt1 + valid_combined_discharge['input_of_bhc']\n",
    "train_combined_discharge['input_of_di'] = system_prompt2 + train_combined_discharge['input_of_di']\n",
    "valid_combined_discharge['input_of_di'] = system_prompt2 + valid_combined_discharge['input_of_di']\n",
    "\n",
    "# count the number of tokens in train_combined_discharge\n",
    "train_combined_discharge['bhc_token_count'] = train_combined_discharge['brief_hospital_course'].progress_apply(get_token_count)\n",
    "train_combined_discharge['input_of_bhc_token_count'] = train_combined_discharge['input_of_bhc'].progress_apply(get_token_count)\n",
    "train_combined_discharge['di_token_count'] = train_combined_discharge['discharge_instructions'].progress_apply(get_token_count)\n",
    "train_combined_discharge['input_of_di_token_count'] = train_combined_discharge['input_of_di'].progress_apply(get_token_count)\n",
    "\n",
    "# count the number of tokens in valid_combined_discharge\n",
    "valid_combined_discharge['bhc_token_count'] = valid_combined_discharge['brief_hospital_course'].progress_apply(get_token_count)\n",
    "valid_combined_discharge['input_of_bhc_token_count'] = valid_combined_discharge['input_of_bhc'].progress_apply(get_token_count)\n",
    "valid_combined_discharge['di_token_count'] = valid_combined_discharge['discharge_instructions'].progress_apply(get_token_count)\n",
    "valid_combined_discharge['input_of_di_token_count'] = valid_combined_discharge['input_of_di'].progress_apply(get_token_count)"
   ]
  },
  {
   "cell_type": "code",
   "execution_count": 46,
   "metadata": {},
   "outputs": [
    {
     "name": "stdout",
     "output_type": "stream",
     "text": [
      "the percentage of the bhc train set remaining after filtering: 0.46239732499818276\n",
      "the percentage of the bhc valid set remaining after filtering: 0.46463754331136625\n",
      "the percentage of the di train set remaining after filtering: 0.7097041506142328\n",
      "the percentage of the di valid set remaining after filtering: 0.714111012976425\n"
     ]
    }
   ],
   "source": [
    "bhc_train_df = pd.DataFrame()\n",
    "bhc_valid_df = pd.DataFrame()\n",
    "di_train_df = pd.DataFrame()\n",
    "di_valid_df = pd.DataFrame()\n",
    "\n",
    "bhc_train_df = train_combined_discharge[train_combined_discharge['input_of_bhc_token_count'] + train_combined_discharge['bhc_token_count'] < 2048]\n",
    "bhc_valid_df = valid_combined_discharge[valid_combined_discharge['input_of_bhc_token_count'] + valid_combined_discharge['bhc_token_count'] < 2048]\n",
    "di_train_df = train_combined_discharge[train_combined_discharge['input_of_di_token_count'] + train_combined_discharge['di_token_count'] < 2048]\n",
    "di_valid_df = valid_combined_discharge[valid_combined_discharge['input_of_di_token_count'] + valid_combined_discharge['di_token_count'] < 2048]\n",
    "\n",
    "print('the percentage of the bhc train set remaining after filtering:', len(bhc_train_df)/len(train_combined_discharge))\n",
    "print('the percentage of the bhc valid set remaining after filtering:', len(bhc_valid_df)/len(valid_combined_discharge))\n",
    "print('the percentage of the di train set remaining after filtering:', len(di_train_df)/len(train_combined_discharge))\n",
    "print('the percentage of the di valid set remaining after filtering:', len(di_valid_df)/len(valid_combined_discharge))"
   ]
  },
  {
   "cell_type": "code",
   "execution_count": 47,
   "metadata": {},
   "outputs": [
    {
     "name": "stderr",
     "output_type": "stream",
     "text": [
      "31806it [00:03, 8488.72it/s]\n",
      "48817it [00:05, 8954.77it/s]\n",
      "6839it [00:00, 8849.23it/s]\n",
      "10511it [00:01, 8800.50it/s]\n"
     ]
    }
   ],
   "source": [
    "BHC_train_dataset = data_path + 'train/BHC_train_dataset.jsonl'\n",
    "DI_train_dataset = data_path + 'train/DI_train_dataset.jsonl'\n",
    "BHC_valid_dataset = data_path + 'valid/BHC_valid_dataset.jsonl'\n",
    "DI_valid_dataset = data_path + 'valid/DI_valid_dataset.jsonl'\n",
    "\n",
    "dataframe_to_jsonl(bhc_train_df, attributes=['input_of_bhc', 'brief_hospital_course'], keys=['prompt', 'gold'], file_path=BHC_train_dataset)\n",
    "dataframe_to_jsonl(di_train_df, attributes=['input_of_di', 'discharge_instructions'], keys=['prompt', 'gold'], file_path=DI_train_dataset)\n",
    "dataframe_to_jsonl(bhc_valid_df, attributes=['input_of_bhc', 'brief_hospital_course'], keys=['prompt', 'gold'], file_path=BHC_valid_dataset)\n",
    "dataframe_to_jsonl(di_valid_df, attributes=['input_of_di', 'discharge_instructions'], keys=['prompt', 'gold'], file_path=DI_valid_dataset)"
   ]
  }
 ],
 "metadata": {
  "kernelspec": {
   "display_name": "extract",
   "language": "python",
   "name": "python3"
  },
  "language_info": {
   "codemirror_mode": {
    "name": "ipython",
    "version": 3
   },
   "file_extension": ".py",
   "mimetype": "text/x-python",
   "name": "python",
   "nbconvert_exporter": "python",
   "pygments_lexer": "ipython3",
   "version": "3.9.18"
  }
 },
 "nbformat": 4,
 "nbformat_minor": 2
}
