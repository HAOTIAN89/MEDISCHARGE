{
 "cells": [
  {
   "cell_type": "code",
   "execution_count": 2,
   "metadata": {},
   "outputs": [],
   "source": [
    "import sys\n",
    "sys.path.append('../')\n",
    "\n",
    "import regex as re\n",
    "import pandas as pd\n",
    "from src.utils.preprocessing import (load_data,\n",
    "                                    save_data,\n",
    "                                    build_combined_discharge,\n",
    "                                    get_bhc_input,\n",
    "                                    extract_clean_inputs,\n",
    "                                    remove_unecessary_tokens)\n",
    "\n",
    "from src.utils.token_count import get_token_list, get_token_count, plot_token_count\n",
    "from tqdm import tqdm\n",
    "tqdm.pandas()\n",
    "\n",
    "%load_ext autoreload\n",
    "%autoreload 2"
   ]
  },
  {
   "cell_type": "code",
   "execution_count": 3,
   "metadata": {},
   "outputs": [],
   "source": [
    "data_path = '../data/'"
   ]
  },
  {
   "cell_type": "code",
   "execution_count": 4,
   "metadata": {},
   "outputs": [],
   "source": [
    "train_discharge = load_data(data_path + 'train/discharge.csv.gz')\n",
    "train_targets = load_data(data_path + 'train/discharge_target.csv.gz')\n",
    "train_combined_discharge = build_combined_discharge(train_discharge, train_targets)"
   ]
  },
  {
   "cell_type": "code",
   "execution_count": 5,
   "metadata": {},
   "outputs": [],
   "source": [
    "valid_discharge = load_data(data_path + 'valid/discharge.csv.gz')\n",
    "valid_targets = load_data(data_path + 'valid/discharge_target.csv.gz') \n",
    "valid_combined_discharge = build_combined_discharge(valid_discharge, valid_targets)"
   ]
  },
  {
   "cell_type": "code",
   "execution_count": 6,
   "metadata": {},
   "outputs": [],
   "source": [
    "new_train_combined_discharge = pd.concat([train_combined_discharge, valid_combined_discharge], axis=0).reset_index(drop=True)"
   ]
  },
  {
   "cell_type": "code",
   "execution_count": 7,
   "metadata": {},
   "outputs": [
    {
     "name": "stdout",
     "output_type": "stream",
     "text": [
      "68785\n",
      "14719\n",
      "83504\n"
     ]
    }
   ],
   "source": [
    "print(len(train_combined_discharge))\n",
    "print(len(valid_combined_discharge))\n",
    "print(len(new_train_combined_discharge))"
   ]
  },
  {
   "cell_type": "markdown",
   "metadata": {},
   "source": [
    "**Stage1: First cleaning by meaningful extraction**\n",
    "i.e. keep and organize relevent sections without looking to much in details"
   ]
  },
  {
   "cell_type": "code",
   "execution_count": 54,
   "metadata": {},
   "outputs": [
    {
     "name": "stderr",
     "output_type": "stream",
     "text": [
      "  0%|          | 0/83504 [00:00<?, ?it/s]"
     ]
    },
    {
     "name": "stderr",
     "output_type": "stream",
     "text": [
      "100%|██████████| 83504/83504 [00:56<00:00, 1480.17it/s]\n"
     ]
    }
   ],
   "source": [
    "clean1_bhc_input = extract_clean_inputs(new_train_combined_discharge,\n",
    "                        features_to_include=[\n",
    "                                'sex',\n",
    "                                'allergies',\n",
    "                                'chief_complaint',\n",
    "                                'major_surgical_procedures',\n",
    "                                'history_of_present_illness',\n",
    "                                'past_medical_history',\n",
    "                                'social_history',\n",
    "                                'family_history',\n",
    "                                'physical_exam',\n",
    "                                'pertinent_results',\n",
    "                            ])"
   ]
  },
  {
   "cell_type": "code",
   "execution_count": 60,
   "metadata": {},
   "outputs": [
    {
     "name": "stdout",
     "output_type": "stream",
     "text": [
      "Sex: \n",
      "F\n",
      " \n",
      "Allergies: \n",
      "No Known Allergies / Adverse Drug Reactions\n",
      " \n",
      "Chief Complaint: \n",
      "Shortness of breath\n",
      "\n",
      "Major Surgical or Invasive Procedure: \n",
      "None\n",
      "\n",
      "History of Present Illness: \n",
      "___ yo woman with h/o hypertension, hyperlipidemia, diabetes \n",
      "mellitus on insulin therapy, h/o cerebellar-medullary stroke in \n",
      "___, CKD stage III-IV presenting with fatigue and dyspnea on \n",
      "exertion (DOE) for a few weeks, markedly worse this morning. \n",
      "Over the past few weeks, the patient noted DOE and shortness of \n",
      "breath (SOB) even at rest. She has also felt more tired than \n",
      "usual. She notes no respiratory issues like this before. She \n",
      "cannot walk up stair due to DOE, and feels SOB after only a \n",
      "short distance. She is unsure how long the episodes last, but \n",
      "states that her breathing improves with albuterol which she gets \n",
      "from her husband. She had a bad cough around a month ago, but \n",
      "denies any recent fevers, chills, or night sweats. No chest \n",
      "pain, nausea, or dizziness.\n",
      "\n",
      "Past Medical History: \n",
      "1. CAD RISK FACTORS: +Diabetes, +Dyslipidemia, +Hypertension\n",
      "2. CARDIAC HISTORY: \n",
      "MI in ___\n",
      "3. OTHER PAST MEDICAL HISTORY:  \n",
      "Hypertension\n",
      "Hyperlipidemia\n",
      "Diabetes mellitus on insulin therapy\n",
      "h/o cerebellar-medullary stroke in ___\n",
      "CKD stage III-IV\n",
      "PVD\n",
      "\n",
      "Social History: \n",
      "___\n",
      "\n",
      "Family History: \n",
      "Denies cardiac family history. Family hx of DM and HTN; \n",
      "otherwise non-contributory.\n",
      "\n",
      "Physical Exam: \n",
      "Admission exam:\n",
      "GENERAL- Oriented x3. Mood, affect appropriate.\n",
      "VS- T= 98.1 BP= 200/103 HR= 65 RR= 26 O2 sat= 100% on RA\n",
      "HEENT- NCAT. Sclera anicteric. PERRL, EOMI. Conjunctiva were \n",
      "pink, no pallor or cyanosis of the oral mucosa. No xanthalesma.\n",
      "NECK- JVD to angle of mandible\n",
      "CARDIAC- RR, normal S1, S2. No murmurs, rubs or gallops. No \n",
      "thrills, lifts.\n",
      "LUNGS- Kyphosis. Resp were labored, mild exp wheezes \n",
      "bilaterally.\n",
      "ABDOMEN- Soft, non-tender, not distended. Abd aorta not enlarged \n",
      "by palpation. No abdominal bruits.\n",
      "EXTREMITIES- No clubbing, cyanosis or edema. No femoral bruits.\n",
      "SKIN- No stasis dermatitis, ulcers, scars, or xanthomas.\n",
      "NEURO- CNII-XII grossly intact. Strength ___ in LEs and UEs. \n",
      "Diminished sensation along lateral aspect of left leg to light \n",
      "touch\n",
      "\n",
      "Pertinent Results: \n",
      "Admission Labs\n",
      "___ 01:18PM BLOOD WBC-6.4# RBC-3.15* Hgb-9.5* Hct-30.1* \n",
      "MCV-96 MCH-30.1 MCHC-31.5 RDW-14.1 Plt ___\n",
      "___ 01:18PM BLOOD Glucose-150* UreaN-33* Creat-1.6* Na-144 \n",
      "K-4.8 Cl-111* HCO3-18* AnGap-20\n",
      "___ 01:18PM BLOOD CK(CPK)-245*\n",
      "___ 01:18PM BLOOD cTropnT-0.05*\n",
      "___ 01:18PM BLOOD CK-MB-6 proBNP-4571*\n",
      "___ 03:56AM BLOOD Calcium-9.4 Phos-4.9* Mg-2.0 Cholest-230*\n",
      "\n",
      "Pertinent Labs\n",
      "___ 06:09AM BLOOD WBC-4.3 RBC-3.27* Hgb-9.9* Hct-31.4* \n",
      "MCV-96 MCH-30.4 MCHC-31.6 RDW-14.5 Plt ___\n",
      "___ 06:09AM BLOOD Glucose-138* UreaN-31* Creat-1.4* Na-144 \n",
      "K-4.3 Cl-107 HCO3-26 AnGap-15\n",
      "\n",
      "___ 06:09AM BLOOD ALT-20 AST-17\n",
      "___ 03:56AM BLOOD Triglyc-97 HDL-65 CHOL/HD-3.5 \n",
      "LDLcalc-146*\n",
      "___ 03:56AM BLOOD %HbA1c-8.1* eAG-186*\n",
      "\n",
      "___ 01:18PM BLOOD CK(CPK)-245* CK-MB-6 cTropnT-0.05*\n",
      "___ 08:43PM BLOOD CK(CPK)-198  CK-MB-5 cTropnT-0.03*\n",
      "___ 03:56AM BLOOD CK(CPK)-173  CK-MB-5 cTropnT-0.04*\n",
      "___ 06:09AM BLOOD                      cTropnT-0.01\n",
      "\n",
      "___ 01:18PM proBNP-4571*\n",
      "\n",
      "ECG ___  7:56:06 ___  \n",
      "Baseline artifact. Sinus rhythm. The Q-T interval is 400 \n",
      "milliseconds. Q waves in leads V1-V2 with ST-T wave \n",
      "abnormalities extending to lead V6. Consider prior anterior \n",
      "myocardial infarction. Since the previous tracing of ___ \n",
      "atrial premature beats are not seen. The Q-T interval is \n",
      "shorter. ST-T wave abnormalities are less prominent.  \n"
     ]
    }
   ],
   "source": [
    "print(clean1_bhc_input[4])"
   ]
  },
  {
   "cell_type": "code",
   "execution_count": 35,
   "metadata": {},
   "outputs": [
    {
     "name": "stderr",
     "output_type": "stream",
     "text": [
      "100%|██████████| 83504/83504 [01:47<00:00, 773.20it/s] \n",
      "100%|██████████| 83504/83504 [01:05<00:00, 1271.70it/s]\n"
     ]
    }
   ],
   "source": [
    "new_train_combined_discharge['bhc_token_count'] = new_train_combined_discharge['brief_hospital_course'].progress_apply(get_token_count)\n",
    "new_train_combined_discharge['di_token_count'] = new_train_combined_discharge['discharge_instructions'].progress_apply(get_token_count)"
   ]
  },
  {
   "cell_type": "code",
   "execution_count": 8,
   "metadata": {},
   "outputs": [
    {
     "data": {
      "text/html": [
       "<div>\n",
       "<style scoped>\n",
       "    .dataframe tbody tr th:only-of-type {\n",
       "        vertical-align: middle;\n",
       "    }\n",
       "\n",
       "    .dataframe tbody tr th {\n",
       "        vertical-align: top;\n",
       "    }\n",
       "\n",
       "    .dataframe thead th {\n",
       "        text-align: right;\n",
       "    }\n",
       "</style>\n",
       "<table border=\"1\" class=\"dataframe\">\n",
       "  <thead>\n",
       "    <tr style=\"text-align: right;\">\n",
       "      <th></th>\n",
       "      <th>hadm_id</th>\n",
       "      <th>text</th>\n",
       "      <th>discharge_instructions</th>\n",
       "      <th>brief_hospital_course</th>\n",
       "    </tr>\n",
       "  </thead>\n",
       "  <tbody>\n",
       "    <tr>\n",
       "      <th>0</th>\n",
       "      <td>22841357</td>\n",
       "      <td>\\nName:  ___                     Unit No:   _...</td>\n",
       "      <td>Dear ___,\\n\\n___ was a pleasure to take care o...</td>\n",
       "      <td>___ with HIV on HAART, HCV cirrhosis with asci...</td>\n",
       "    </tr>\n",
       "    <tr>\n",
       "      <th>1</th>\n",
       "      <td>22927623</td>\n",
       "      <td>\\nName:  ___                 Unit No:   ___\\n...</td>\n",
       "      <td>Dear Ms. ___,\\n\\nYou were hospitalized at ___....</td>\n",
       "      <td>Ms. ___ is a ___ with history of GERD who pres...</td>\n",
       "    </tr>\n",
       "    <tr>\n",
       "      <th>2</th>\n",
       "      <td>21738619</td>\n",
       "      <td>\\nName:  ___                   Unit No:   ___...</td>\n",
       "      <td>Dear ___, \\n\\n___ were seen in the ED for ongo...</td>\n",
       "      <td>___ Female with PMH significant for depression...</td>\n",
       "    </tr>\n",
       "    <tr>\n",
       "      <th>3</th>\n",
       "      <td>25849114</td>\n",
       "      <td>\\nName:  ___                   Unit No:   ___...</td>\n",
       "      <td>Dear Ms. ___,\\nIt was a pleasure taking part i...</td>\n",
       "      <td>Ms. ___ is a ___ with metastatic cancer of unk...</td>\n",
       "    </tr>\n",
       "    <tr>\n",
       "      <th>4</th>\n",
       "      <td>29654838</td>\n",
       "      <td>\\nName:  ___          Unit No:   ___\\n \\nAdmi...</td>\n",
       "      <td>Dear Ms. ___, \\n\\nYou were admitted for shortn...</td>\n",
       "      <td>___ woman with h/o hypertension, hypelipidemia...</td>\n",
       "    </tr>\n",
       "    <tr>\n",
       "      <th>...</th>\n",
       "      <td>...</td>\n",
       "      <td>...</td>\n",
       "      <td>...</td>\n",
       "      <td>...</td>\n",
       "    </tr>\n",
       "    <tr>\n",
       "      <th>83494</th>\n",
       "      <td>28863685</td>\n",
       "      <td>\\nName:  ___                    Unit No:   __...</td>\n",
       "      <td>Dear Mr. ___,\\n\\nYou were admitted to ___ beca...</td>\n",
       "      <td>Mr. ___ is a ___ year old gentleman with advan...</td>\n",
       "    </tr>\n",
       "    <tr>\n",
       "      <th>83495</th>\n",
       "      <td>23271921</td>\n",
       "      <td>\\nName:  ___                    Unit No:   __...</td>\n",
       "      <td>You were admitted after evaluation for symptom...</td>\n",
       "      <td>The patient had a course postoperatively that ...</td>\n",
       "    </tr>\n",
       "    <tr>\n",
       "      <th>83496</th>\n",
       "      <td>25278362</td>\n",
       "      <td>\\nName:  ___                      Unit No:   ...</td>\n",
       "      <td>Dr. ___ was a pleasure taking care of you at _...</td>\n",
       "      <td>___ y/o M with recent diagnosis of Hodgkin's L...</td>\n",
       "    </tr>\n",
       "    <tr>\n",
       "      <th>83497</th>\n",
       "      <td>23014132</td>\n",
       "      <td>\\nName:  ___              Unit No:   ___\\n \\n...</td>\n",
       "      <td>Dear Mr. ___,\\n\\nWHY WERE YOU ADMITTED TO THE ...</td>\n",
       "      <td>___ y/o M with history of bladder cancer, lymp...</td>\n",
       "    </tr>\n",
       "    <tr>\n",
       "      <th>83498</th>\n",
       "      <td>27817292</td>\n",
       "      <td>\\nName:  ___              Unit No:   ___\\n \\n...</td>\n",
       "      <td>Dear Mr. ___,\\n\\nIt was a pleasure caring for ...</td>\n",
       "      <td>Mr. ___ is a ___ M with unclear PMH and recent...</td>\n",
       "    </tr>\n",
       "  </tbody>\n",
       "</table>\n",
       "<p>83499 rows × 4 columns</p>\n",
       "</div>"
      ],
      "text/plain": [
       "        hadm_id                                               text  \\\n",
       "0      22841357   \\nName:  ___                     Unit No:   _...   \n",
       "1      22927623   \\nName:  ___                 Unit No:   ___\\n...   \n",
       "2      21738619   \\nName:  ___                   Unit No:   ___...   \n",
       "3      25849114   \\nName:  ___                   Unit No:   ___...   \n",
       "4      29654838   \\nName:  ___          Unit No:   ___\\n \\nAdmi...   \n",
       "...         ...                                                ...   \n",
       "83494  28863685   \\nName:  ___                    Unit No:   __...   \n",
       "83495  23271921   \\nName:  ___                    Unit No:   __...   \n",
       "83496  25278362   \\nName:  ___                      Unit No:   ...   \n",
       "83497  23014132   \\nName:  ___              Unit No:   ___\\n \\n...   \n",
       "83498  27817292   \\nName:  ___              Unit No:   ___\\n \\n...   \n",
       "\n",
       "                                  discharge_instructions  \\\n",
       "0      Dear ___,\\n\\n___ was a pleasure to take care o...   \n",
       "1      Dear Ms. ___,\\n\\nYou were hospitalized at ___....   \n",
       "2      Dear ___, \\n\\n___ were seen in the ED for ongo...   \n",
       "3      Dear Ms. ___,\\nIt was a pleasure taking part i...   \n",
       "4      Dear Ms. ___, \\n\\nYou were admitted for shortn...   \n",
       "...                                                  ...   \n",
       "83494  Dear Mr. ___,\\n\\nYou were admitted to ___ beca...   \n",
       "83495  You were admitted after evaluation for symptom...   \n",
       "83496  Dr. ___ was a pleasure taking care of you at _...   \n",
       "83497  Dear Mr. ___,\\n\\nWHY WERE YOU ADMITTED TO THE ...   \n",
       "83498  Dear Mr. ___,\\n\\nIt was a pleasure caring for ...   \n",
       "\n",
       "                                   brief_hospital_course  \n",
       "0      ___ with HIV on HAART, HCV cirrhosis with asci...  \n",
       "1      Ms. ___ is a ___ with history of GERD who pres...  \n",
       "2      ___ Female with PMH significant for depression...  \n",
       "3      Ms. ___ is a ___ with metastatic cancer of unk...  \n",
       "4      ___ woman with h/o hypertension, hypelipidemia...  \n",
       "...                                                  ...  \n",
       "83494  Mr. ___ is a ___ year old gentleman with advan...  \n",
       "83495  The patient had a course postoperatively that ...  \n",
       "83496  ___ y/o M with recent diagnosis of Hodgkin's L...  \n",
       "83497  ___ y/o M with history of bladder cancer, lymp...  \n",
       "83498  Mr. ___ is a ___ M with unclear PMH and recent...  \n",
       "\n",
       "[83499 rows x 4 columns]"
      ]
     },
     "execution_count": 8,
     "metadata": {},
     "output_type": "execute_result"
    }
   ],
   "source": [
    "new_train_combined_discharge.head(-5)"
   ]
  },
  {
   "cell_type": "code",
   "execution_count": 13,
   "metadata": {},
   "outputs": [
    {
     "data": {
      "image/png": "[encoded data removed]",
      "text/plain": [
       "<Figure size 640x480 with 1 Axes>"
      ]
     },
     "metadata": {},
     "output_type": "display_data"
    },
    {
     "data": {
      "image/png": "[encoded data removed]",
      "text/plain": [
       "<Figure size 640x480 with 1 Axes>"
      ]
     },
     "metadata": {},
     "output_type": "display_data"
    }
   ],
   "source": [
    "plot_token_count(new_train_combined_discharge['bhc_token_count'], 'Cleaned stage1 BHC Token Count (Train set)')\n",
    "plot_token_count(new_train_combined_discharge['di_token_count'], 'Cleaned stage1 DI Token Count (Train set)')"
   ]
  },
  {
   "cell_type": "code",
   "execution_count": 11,
   "metadata": {},
   "outputs": [
    {
     "data": {
      "text/plain": [
       "0    Sex: \\nF\\n \\nAllergies: \\nPercocet\\n \\nChief C...\n",
       "1    Sex: \\nF\\n \\nAllergies: \\nomeprazole\\n \\nChief...\n",
       "2    Sex: \\nF\\n \\nAllergies: \\nSulfa (Sulfonamide A...\n",
       "3    Sex: \\nF\\n \\nAllergies: \\nSulfa (Sulfonamide A...\n",
       "4    Sex: \\nF\\n \\nAllergies: \\nNo Known Allergies /...\n",
       "Name: text, dtype: object"
      ]
     },
     "execution_count": 11,
     "metadata": {},
     "output_type": "execute_result"
    }
   ],
   "source": [
    "clean1_bhc_input.head()"
   ]
  },
  {
   "cell_type": "code",
   "execution_count": 15,
   "metadata": {},
   "outputs": [],
   "source": [
    "clean_1_bhc_input_token_count = clean1_bhc_input.progress_apply(get_token_count)\n",
    "plot_token_count(clean_1_bhc_input_token_count,\n",
    "                 'Cleaned stage1 BHC Input Token Count (Train set)')\n",
    "plot_token_count(clean_1_bhc_input_token_count + new_train_combined_discharge['bhc_token_count'] ,\n",
    "                 'Cleaned stage1 BHC Input+Output Token Count (Train set)')"
   ]
  },
  {
   "cell_type": "markdown",
   "metadata": {},
   "source": [
    "**Stage2 :Removing some not-such-important sections**\n",
    "- Remove `social_history` and `family_history`"
   ]
  },
  {
   "cell_type": "code",
   "execution_count": 9,
   "metadata": {},
   "outputs": [
    {
     "name": "stderr",
     "output_type": "stream",
     "text": [
      "  0%|          | 0/83504 [00:00<?, ?it/s]"
     ]
    },
    {
     "name": "stderr",
     "output_type": "stream",
     "text": [
      "100%|██████████| 83504/83504 [00:52<00:00, 1585.45it/s]\n"
     ]
    }
   ],
   "source": [
    "clean2_bhc_input = extract_clean_inputs(new_train_combined_discharge,\n",
    "                        features_to_include=[\n",
    "                                'sex',\n",
    "                                'allergies',\n",
    "                                'chief_complaint',\n",
    "                                'major_surgical_procedures',\n",
    "                                'history_of_present_illness',\n",
    "                                'past_medical_history',\n",
    "                                #'social_history',\n",
    "                                #'family_history',\n",
    "                                'physical_exam',\n",
    "                                'pertinent_results',\n",
    "                            ])"
   ]
  },
  {
   "cell_type": "code",
   "execution_count": 55,
   "metadata": {},
   "outputs": [
    {
     "name": "stdout",
     "output_type": "stream",
     "text": [
      "Sex: \n",
      "F\n",
      " \n",
      "Allergies: \n",
      "No Known Allergies / Adverse Drug Reactions\n",
      " \n",
      "Chief Complaint: \n",
      "Shortness of breath\n",
      "\n",
      "Major Surgical or Invasive Procedure: \n",
      "None\n",
      "\n",
      "History of Present Illness: \n",
      "___ yo woman with h/o hypertension, hyperlipidemia, diabetes \n",
      "mellitus on insulin therapy, h/o cerebellar-medullary stroke in \n",
      "___, CKD stage III-IV presenting with fatigue and dyspnea on \n",
      "exertion (DOE) for a few weeks, markedly worse this morning. \n",
      "Over the past few weeks, the patient noted DOE and shortness of \n",
      "breath (SOB) even at rest. She has also felt more tired than \n",
      "usual. She notes no respiratory issues like this before. She \n",
      "cannot walk up stair due to DOE, and feels SOB after only a \n",
      "short distance. She is unsure how long the episodes last, but \n",
      "states that her breathing improves with albuterol which she gets \n",
      "from her husband. She had a bad cough around a month ago, but \n",
      "denies any recent fevers, chills, or night sweats. No chest \n",
      "pain, nausea, or dizziness.\n",
      "\n",
      "Past Medical History: \n",
      "1. CAD RISK FACTORS: +Diabetes, +Dyslipidemia, +Hypertension\n",
      "2. CARDIAC HISTORY: \n",
      "MI in ___\n",
      "3. OTHER PAST MEDICAL HISTORY:  \n",
      "Hypertension\n",
      "Hyperlipidemia\n",
      "Diabetes mellitus on insulin therapy\n",
      "h/o cerebellar-medullary stroke in ___\n",
      "CKD stage III-IV\n",
      "PVD\n",
      "\n",
      "Physical Exam: \n",
      "Admission exam:\n",
      "GENERAL- Oriented x3. Mood, affect appropriate.\n",
      "VS- T= 98.1 BP= 200/103 HR= 65 RR= 26 O2 sat= 100% on RA\n",
      "HEENT- NCAT. Sclera anicteric. PERRL, EOMI. Conjunctiva were \n",
      "pink, no pallor or cyanosis of the oral mucosa. No xanthalesma.\n",
      "NECK- JVD to angle of mandible\n",
      "CARDIAC- RR, normal S1, S2. No murmurs, rubs or gallops. No \n",
      "thrills, lifts.\n",
      "LUNGS- Kyphosis. Resp were labored, mild exp wheezes \n",
      "bilaterally.\n",
      "ABDOMEN- Soft, non-tender, not distended. Abd aorta not enlarged \n",
      "by palpation. No abdominal bruits.\n",
      "EXTREMITIES- No clubbing, cyanosis or edema. No femoral bruits.\n",
      "SKIN- No stasis dermatitis, ulcers, scars, or xanthomas.\n",
      "NEURO- CNII-XII grossly intact. Strength ___ in LEs and UEs. \n",
      "Diminished sensation along lateral aspect of left leg to light \n",
      "touch\n",
      "\n",
      "Pertinent Results: \n",
      "Admission Labs\n",
      "___ 01:18PM BLOOD WBC-6.4# RBC-3.15* Hgb-9.5* Hct-30.1* \n",
      "MCV-96 MCH-30.1 MCHC-31.5 RDW-14.1 Plt ___\n",
      "___ 01:18PM BLOOD Glucose-150* UreaN-33* Creat-1.6* Na-144 \n",
      "K-4.8 Cl-111* HCO3-18* AnGap-20\n",
      "___ 01:18PM BLOOD CK(CPK)-245*\n",
      "___ 01:18PM BLOOD cTropnT-0.05*\n",
      "___ 01:18PM BLOOD CK-MB-6 proBNP-4571*\n",
      "___ 03:56AM BLOOD Calcium-9.4 Phos-4.9* Mg-2.0 Cholest-230*\n",
      "\n",
      "Pertinent Labs\n",
      "___ 06:09AM BLOOD WBC-4.3 RBC-3.27* Hgb-9.9* Hct-31.4* \n",
      "MCV-96 MCH-30.4 MCHC-31.6 RDW-14.5 Plt ___\n",
      "___ 06:09AM BLOOD Glucose-138* UreaN-31* Creat-1.4* Na-144 \n",
      "K-4.3 Cl-107 HCO3-26 AnGap-15\n",
      "\n",
      "___ 06:09AM BLOOD ALT-20 AST-17\n",
      "___ 03:56AM BLOOD Triglyc-97 HDL-65 CHOL/HD-3.5 \n",
      "LDLcalc-146*\n",
      "___ 03:56AM BLOOD %HbA1c-8.1* eAG-186*\n",
      "\n",
      "___ 01:18PM BLOOD CK(CPK)-245* CK-MB-6 cTropnT-0.05*\n",
      "___ 08:43PM BLOOD CK(CPK)-198  CK-MB-5 cTropnT-0.03*\n",
      "___ 03:56AM BLOOD CK(CPK)-173  CK-MB-5 cTropnT-0.04*\n",
      "___ 06:09AM BLOOD                      cTropnT-0.01\n",
      "\n",
      "___ 01:18PM proBNP-4571*\n",
      "\n",
      "ECG ___  7:56:06 ___  \n",
      "Baseline artifact. Sinus rhythm. The Q-T interval is 400 \n",
      "milliseconds. Q waves in leads V1-V2 with ST-T wave \n",
      "abnormalities extending to lead V6. Consider prior anterior \n",
      "myocardial infarction. Since the previous tracing of ___ \n",
      "atrial premature beats are not seen. The Q-T interval is \n",
      "shorter. ST-T wave abnormalities are less prominent.  \n"
     ]
    }
   ],
   "source": [
    "print(clean2_bhc_input[4])"
   ]
  },
  {
   "cell_type": "code",
   "execution_count": 15,
   "metadata": {},
   "outputs": [
    {
     "name": "stderr",
     "output_type": "stream",
     "text": [
      "100%|██████████| 83504/83504 [01:55<00:00, 725.06it/s]\n",
      "100%|██████████| 83504/83504 [01:05<00:00, 1266.23it/s]\n",
      "100%|██████████| 83504/83504 [03:51<00:00, 360.66it/s]\n"
     ]
    }
   ],
   "source": [
    "# add the clean2_bhc_input to the new_train_combined_discharge as a new column\n",
    "new_train_combined_discharge['input_of_bhc'] = clean2_bhc_input\n",
    "new_train_combined_discharge['bhc_token_count'] = new_train_combined_discharge['brief_hospital_course'].progress_apply(get_token_count)\n",
    "new_train_combined_discharge['di_token_count'] = new_train_combined_discharge['discharge_instructions'].progress_apply(get_token_count)\n",
    "new_train_combined_discharge['input_of_bhc_token_count'] = new_train_combined_discharge['input_of_bhc'].progress_apply(get_token_count)"
   ]
  },
  {
   "cell_type": "code",
   "execution_count": 17,
   "metadata": {},
   "outputs": [
    {
     "data": {
      "text/html": [
       "<div>\n",
       "<style scoped>\n",
       "    .dataframe tbody tr th:only-of-type {\n",
       "        vertical-align: middle;\n",
       "    }\n",
       "\n",
       "    .dataframe tbody tr th {\n",
       "        vertical-align: top;\n",
       "    }\n",
       "\n",
       "    .dataframe thead th {\n",
       "        text-align: right;\n",
       "    }\n",
       "</style>\n",
       "<table border=\"1\" class=\"dataframe\">\n",
       "  <thead>\n",
       "    <tr style=\"text-align: right;\">\n",
       "      <th></th>\n",
       "      <th>hadm_id</th>\n",
       "      <th>text</th>\n",
       "      <th>discharge_instructions</th>\n",
       "      <th>brief_hospital_course</th>\n",
       "      <th>input_of_bhc</th>\n",
       "      <th>bhc_token_count</th>\n",
       "      <th>di_token_count</th>\n",
       "      <th>input_of_bhc_token_count</th>\n",
       "    </tr>\n",
       "  </thead>\n",
       "  <tbody>\n",
       "    <tr>\n",
       "      <th>0</th>\n",
       "      <td>22841357</td>\n",
       "      <td>\\nName:  ___                     Unit No:   _...</td>\n",
       "      <td>Dear ___,\\n\\n___ was a pleasure to take care o...</td>\n",
       "      <td>___ with HIV on HAART, HCV cirrhosis with asci...</td>\n",
       "      <td>Sex: \\nF\\n \\nAllergies: \\nPercocet\\n \\nChief C...</td>\n",
       "      <td>1123</td>\n",
       "      <td>220</td>\n",
       "      <td>1227</td>\n",
       "    </tr>\n",
       "    <tr>\n",
       "      <th>1</th>\n",
       "      <td>22927623</td>\n",
       "      <td>\\nName:  ___                 Unit No:   ___\\n...</td>\n",
       "      <td>Dear Ms. ___,\\n\\nYou were hospitalized at ___....</td>\n",
       "      <td>Ms. ___ is a ___ with history of GERD who pres...</td>\n",
       "      <td>Sex: \\nF\\n \\nAllergies: \\nomeprazole\\n \\nChief...</td>\n",
       "      <td>133</td>\n",
       "      <td>112</td>\n",
       "      <td>938</td>\n",
       "    </tr>\n",
       "    <tr>\n",
       "      <th>2</th>\n",
       "      <td>21738619</td>\n",
       "      <td>\\nName:  ___                   Unit No:   ___...</td>\n",
       "      <td>Dear ___, \\n\\n___ were seen in the ED for ongo...</td>\n",
       "      <td>___ Female with PMH significant for depression...</td>\n",
       "      <td>Sex: \\nF\\n \\nAllergies: \\nSulfa (Sulfonamide A...</td>\n",
       "      <td>550</td>\n",
       "      <td>177</td>\n",
       "      <td>1861</td>\n",
       "    </tr>\n",
       "    <tr>\n",
       "      <th>3</th>\n",
       "      <td>25849114</td>\n",
       "      <td>\\nName:  ___                   Unit No:   ___...</td>\n",
       "      <td>Dear Ms. ___,\\nIt was a pleasure taking part i...</td>\n",
       "      <td>Ms. ___ is a ___ with metastatic cancer of unk...</td>\n",
       "      <td>Sex: \\nF\\n \\nAllergies: \\nSulfa (Sulfonamide A...</td>\n",
       "      <td>112</td>\n",
       "      <td>260</td>\n",
       "      <td>1730</td>\n",
       "    </tr>\n",
       "    <tr>\n",
       "      <th>4</th>\n",
       "      <td>29654838</td>\n",
       "      <td>\\nName:  ___          Unit No:   ___\\n \\nAdmi...</td>\n",
       "      <td>Dear Ms. ___, \\n\\nYou were admitted for shortn...</td>\n",
       "      <td>___ woman with h/o hypertension, hypelipidemia...</td>\n",
       "      <td>Sex: \\nF\\n \\nAllergies: \\nNo Known Allergies /...</td>\n",
       "      <td>934</td>\n",
       "      <td>333</td>\n",
       "      <td>1563</td>\n",
       "    </tr>\n",
       "  </tbody>\n",
       "</table>\n",
       "</div>"
      ],
      "text/plain": [
       "    hadm_id                                               text  \\\n",
       "0  22841357   \\nName:  ___                     Unit No:   _...   \n",
       "1  22927623   \\nName:  ___                 Unit No:   ___\\n...   \n",
       "2  21738619   \\nName:  ___                   Unit No:   ___...   \n",
       "3  25849114   \\nName:  ___                   Unit No:   ___...   \n",
       "4  29654838   \\nName:  ___          Unit No:   ___\\n \\nAdmi...   \n",
       "\n",
       "                              discharge_instructions  \\\n",
       "0  Dear ___,\\n\\n___ was a pleasure to take care o...   \n",
       "1  Dear Ms. ___,\\n\\nYou were hospitalized at ___....   \n",
       "2  Dear ___, \\n\\n___ were seen in the ED for ongo...   \n",
       "3  Dear Ms. ___,\\nIt was a pleasure taking part i...   \n",
       "4  Dear Ms. ___, \\n\\nYou were admitted for shortn...   \n",
       "\n",
       "                               brief_hospital_course  \\\n",
       "0  ___ with HIV on HAART, HCV cirrhosis with asci...   \n",
       "1  Ms. ___ is a ___ with history of GERD who pres...   \n",
       "2  ___ Female with PMH significant for depression...   \n",
       "3  Ms. ___ is a ___ with metastatic cancer of unk...   \n",
       "4  ___ woman with h/o hypertension, hypelipidemia...   \n",
       "\n",
       "                                        input_of_bhc  bhc_token_count  \\\n",
       "0  Sex: \\nF\\n \\nAllergies: \\nPercocet\\n \\nChief C...             1123   \n",
       "1  Sex: \\nF\\n \\nAllergies: \\nomeprazole\\n \\nChief...              133   \n",
       "2  Sex: \\nF\\n \\nAllergies: \\nSulfa (Sulfonamide A...              550   \n",
       "3  Sex: \\nF\\n \\nAllergies: \\nSulfa (Sulfonamide A...              112   \n",
       "4  Sex: \\nF\\n \\nAllergies: \\nNo Known Allergies /...              934   \n",
       "\n",
       "   di_token_count  input_of_bhc_token_count  \n",
       "0             220                      1227  \n",
       "1             112                       938  \n",
       "2             177                      1861  \n",
       "3             260                      1730  \n",
       "4             333                      1563  "
      ]
     },
     "execution_count": 17,
     "metadata": {},
     "output_type": "execute_result"
    }
   ],
   "source": [
    "new_train_combined_discharge.head()"
   ]
  },
  {
   "cell_type": "code",
   "execution_count": 16,
   "metadata": {},
   "outputs": [
    {
     "data": {
      "image/png": "[encoded data removed]",
      "text/plain": [
       "<Figure size 640x480 with 1 Axes>"
      ]
     },
     "metadata": {},
     "output_type": "display_data"
    }
   ],
   "source": [
    "plot_token_count(new_train_combined_discharge['bhc_token_count'] + new_train_combined_discharge['input_of_bhc_token_count'] , 'BHC Input+Output Token Count (Train set)')"
   ]
  },
  {
   "cell_type": "markdown",
   "metadata": {},
   "source": [
    "**Stage3 cleaning of specific token groups**\n",
    "- Replacing 2 or more `__` by only one `_`\n",
    "- Replacing at least 2 `======` by `\\n`"
   ]
  },
  {
   "cell_type": "code",
   "execution_count": 20,
   "metadata": {},
   "outputs": [
    {
     "name": "stderr",
     "output_type": "stream",
     "text": [
      "100%|██████████| 83504/83504 [00:53<00:00, 1561.41it/s]\n"
     ]
    }
   ],
   "source": [
    "new_train_combined_discharge['input_of_bhc'] = new_train_combined_discharge['input_of_bhc'].progress_apply(remove_unecessary_tokens)"
   ]
  },
  {
   "cell_type": "code",
   "execution_count": 21,
   "metadata": {},
   "outputs": [
    {
     "name": "stderr",
     "output_type": "stream",
     "text": [
      "100%|██████████| 83504/83504 [03:40<00:00, 378.32it/s]\n"
     ]
    }
   ],
   "source": [
    "new_train_combined_discharge['input_of_bhc_token_count'] = new_train_combined_discharge['input_of_bhc'].progress_apply(get_token_count)"
   ]
  },
  {
   "cell_type": "code",
   "execution_count": 22,
   "metadata": {},
   "outputs": [
    {
     "data": {
      "image/png": "[encoded data removed]",
      "text/plain": [
       "<Figure size 640x480 with 1 Axes>"
      ]
     },
     "metadata": {},
     "output_type": "display_data"
    }
   ],
   "source": [
    "plot_token_count(new_train_combined_discharge['bhc_token_count'] + new_train_combined_discharge['input_of_bhc_token_count'] , 'BHC Input+Output Token Count (Train set)')"
   ]
  },
  {
   "cell_type": "code",
   "execution_count": 24,
   "metadata": {},
   "outputs": [
    {
     "name": "stdout",
     "output_type": "stream",
     "text": [
      "0.05342259053458517\n"
     ]
    }
   ],
   "source": [
    "# coumpute the percentage of the samples that its input_of_bhc_token_count+bhc_token_count is more than 4096\n",
    "print(len(new_train_combined_discharge[new_train_combined_discharge['bhc_token_count'] + new_train_combined_discharge['input_of_bhc_token_count'] > 4096]) / len(new_train_combined_discharge))"
   ]
  },
  {
   "cell_type": "markdown",
   "metadata": {},
   "source": [
    "**Stage4 adding the prompt to the input**"
   ]
  },
  {
   "cell_type": "markdown",
   "metadata": {},
   "source": [
    "### Construct the Discharge_instruction dataset"
   ]
  },
  {
   "cell_type": "markdown",
   "metadata": {},
   "source": [
    "**Stage1: First cleaning by meaningful extraction**\n",
    "i.e. keep and organize relevent sections without looking to much in details"
   ]
  },
  {
   "cell_type": "code",
   "execution_count": 25,
   "metadata": {},
   "outputs": [
    {
     "name": "stderr",
     "output_type": "stream",
     "text": [
      "100%|██████████| 83504/83504 [00:05<00:00, 15451.18it/s]\n"
     ]
    }
   ],
   "source": [
    "clean1_di_input = extract_clean_inputs(new_train_combined_discharge,\n",
    "                        features_to_include=[\n",
    "                                'medication_on_admission',\n",
    "                                'discharge_medications',\n",
    "                                'discharge_disposition',\n",
    "                                'discharge_diagnosis',\n",
    "                                'discharge_condition',\n",
    "                            ])"
   ]
  },
  {
   "cell_type": "code",
   "execution_count": 33,
   "metadata": {},
   "outputs": [
    {
     "name": "stdout",
     "output_type": "stream",
     "text": [
      "Medications on Admission: \n",
      "The Preadmission Medication list may be inaccurate and requires \n",
      "futher investigation.\n",
      "1. Allopurinol ___ mg PO EVERY OTHER DAY \n",
      "2. Aspirin 81 mg PO DAILY \n",
      "3. Atorvastatin 80 mg PO QPM \n",
      "4. Carvedilol 12.5 mg PO BID \n",
      "5. Lisinopril 40 mg PO DAILY \n",
      "6. Multivitamins 1 TAB PO DAILY \n",
      "7. NIFEdipine CR 30 mg PO BID \n",
      "8. Vitamin D ___ UNIT PO DAILY \n",
      "9. Docusate Sodium 100 mg PO BID \n",
      "10. Gabapentin 100 mg PO QHS neuropathic pain \n",
      "11. Pantoprazole 40 mg PO Q12H \n",
      "12. Senna 8.6 mg PO BID constipation \n",
      "13. Warfarin 4 mg PO 3X/WEEK (___) \n",
      "14. Nitroglycerin SL 0.3 mg SL Q5MIN:PRN chest pain \n",
      "15. Furosemide 20 mg PO DAILY \n",
      "16. Polyethylene Glycol 17 g PO DAILY \n",
      "17. Acetaminophen 325-650 mg PO Q6H:PRN pain or fever \n",
      "18. Warfarin 3 mg PO 4X/WEEK (___) \n",
      "19. 70/30 30 Units Dinner\n",
      "\n",
      " \n",
      "Discharge Medications: \n",
      "1. Acetaminophen 325-650 mg PO Q6H:PRN pain or fever \n",
      "RX *acetaminophen 325 mg ___ tablet(s) by mouth Q6H:PRN Disp \n",
      "#*120 Tablet Refills:*0\n",
      "2. Aspirin 81 mg PO DAILY \n",
      "RX *aspirin 81 mg 1 tablet(s) by mouth daily Disp #*30 Tablet \n",
      "Refills:*0\n",
      "3. Atorvastatin 80 mg PO QPM \n",
      "RX *atorvastatin 80 mg 1 tablet(s) by mouth QPM Disp #*30 Tablet \n",
      "Refills:*0\n",
      "4. Carvedilol 12.5 mg PO BID \n",
      "RX *carvedilol 12.5 mg 1 tablet(s) by mouth twice a day Disp \n",
      "#*60 Tablet Refills:*0\n",
      "5. Docusate Sodium 100 mg PO BID \n",
      "RX *docusate sodium 100 mg 1 capsule(s) by mouth twice a day \n",
      "Disp #*60 Capsule Refills:*0\n",
      "6. Gabapentin 100 mg PO QHS neuropathic pain \n",
      "RX *gabapentin 100 mg 1 capsule(s) by mouth at bedtime Disp #*30 \n",
      "Capsule Refills:*0\n",
      "7. Lisinopril 40 mg PO DAILY \n",
      "RX *lisinopril 40 mg 1 tablet(s) by mouth daily Disp #*30 Tablet \n",
      "Refills:*0\n",
      "8. Multivitamins 1 TAB PO DAILY \n",
      "RX *multivitamin  1 capsule(s) by mouth daily Disp #*30 Capsule \n",
      "Refills:*0\n",
      "9. NIFEdipine CR 30 mg PO BID \n",
      "RX *nifedipine 30 mg 1 tablet(s) by mouth twice a day Disp #*60 \n",
      "Tablet Refills:*0\n",
      "10. Nitroglycerin SL 0.3 mg SL Q5MIN:PRN chest pain \n",
      "RX *nitroglycerin [Nitrostat] 0.3 mg 1 tablet(s) sublingually \n",
      "Q5MIN:PRN Disp #*10 Tablet Refills:*0\n",
      "11. Pantoprazole 40 mg PO Q12H \n",
      "RX *pantoprazole 40 mg 1 tablet(s) by mouth every twelve (12) \n",
      "hours Disp #*60 Tablet Refills:*0\n",
      "12. Polyethylene Glycol 17 g PO DAILY \n",
      "RX *polyethylene glycol 3350 17 gram/dose 1 powder(s) by mouth \n",
      "daily Refills:*0\n",
      "13. Senna 8.6 mg PO BID constipation \n",
      "RX *sennosides [senna] 8.6 mg 1 capsule by mouth twice a day \n",
      "Disp #*60 Capsule Refills:*0\n",
      "14. Vitamin D ___ UNIT PO DAILY \n",
      "RX *ergocalciferol (vitamin D2) 2,000 unit 1 tablet(s) by mouth \n",
      "daily Disp #*30 Tablet Refills:*0\n",
      "15. Warfarin 4 mg PO 3X/WEEK (___) \n",
      "RX *warfarin 4 mg 1 tablet(s) by mouth 3X/WEEK Disp #*30 Tablet \n",
      "Refills:*0\n",
      "16. Warfarin 3 mg PO 4X/WEEK (___) \n",
      "RX *warfarin 3 mg 1 tablet(s) by mouth 4X/WEEK Disp #*30 Tablet \n",
      "Refills:*0\n",
      "17. Furosemide 20 mg PO DAILY \n",
      "RX *furosemide 20 mg 1 tablet(s) by mouth daily Disp #*30 Tablet \n",
      "Refills:*0\n",
      "18. Allopurinol ___ mg PO EVERY OTHER DAY \n",
      "RX *allopurinol ___ mg 1 tablet(s) by mouth EVERY OTHER DAY Disp \n",
      "#*30 Tablet Refills:*0\n",
      "19. 70/30 30 Units Dinner\n",
      "RX *insulin NPH and regular human [Humulin 70/30 KwikPen] 100 \n",
      "unit/mL (70-30) 30 units SC Take 30 Units before DINER Disp #*2 \n",
      "Package Refills:*0\n",
      "\n",
      " \n",
      "Discharge Disposition: \n",
      "Home With Service\n",
      " \n",
      "Facility:\n",
      "___\n",
      " \n",
      "Discharge Diagnosis: \n",
      "Primary diagnosis:\n",
      "Anemia\n",
      "Congestive heart failure exacerbation\n",
      "\n",
      "Secondary diagnosis:\n",
      "Hypertension \n",
      "DMII on insulin \n",
      "Coronary artery disease \n",
      "Stage IV chronic kidney disease\n",
      "Deep vein thrombosis\n",
      "\n",
      " \n",
      "Discharge Condition: \n",
      "Mental Status: Clear and coherent.\n",
      "Level of Consciousness: Alert and interactive.\n",
      "Activity Status: Ambulatory - requires assistance or aid (walker \n",
      "or cane).\n",
      "\n",
      " \n",
      "\n"
     ]
    }
   ],
   "source": [
    "print(clean1_di_input[7])"
   ]
  },
  {
   "cell_type": "code",
   "execution_count": 34,
   "metadata": {},
   "outputs": [
    {
     "name": "stdout",
     "output_type": "stream",
     "text": [
      "Dear ___,\n",
      "\n",
      "It was a pleasure caring for you. You were admitted to the \n",
      "hospital with fatigue, chest pain, and shortness of breath. You \n",
      "were found to have too few red blood cells (anemia). We gave you \n",
      "blood, and your symptoms improved. Additionally, you were found \n",
      "to have too much fluid in your legs and lungs. We treated you \n",
      "with a diuretic, which helped eliminate the fluid. \n",
      "\n",
      "Weigh yourself every morning, call MD if weight goes up more \n",
      "than 3 lbs.\n",
      "\n",
      "Sincerely,\n",
      "Your ___ Team\n"
     ]
    }
   ],
   "source": [
    "print(new_train_combined_discharge['discharge_instructions'][7])"
   ]
  },
  {
   "cell_type": "code",
   "execution_count": 79,
   "metadata": {},
   "outputs": [],
   "source": [
    "new_train_combined_discharge['input_of_di'] = \"Brief Hospital Course:\\n\" + new_train_combined_discharge['brief_hospital_course'] + \"\\n\\n\" + clean1_di_input"
   ]
  },
  {
   "cell_type": "code",
   "execution_count": 80,
   "metadata": {},
   "outputs": [
    {
     "data": {
      "text/html": [
       "<div>\n",
       "<style scoped>\n",
       "    .dataframe tbody tr th:only-of-type {\n",
       "        vertical-align: middle;\n",
       "    }\n",
       "\n",
       "    .dataframe tbody tr th {\n",
       "        vertical-align: top;\n",
       "    }\n",
       "\n",
       "    .dataframe thead th {\n",
       "        text-align: right;\n",
       "    }\n",
       "</style>\n",
       "<table border=\"1\" class=\"dataframe\">\n",
       "  <thead>\n",
       "    <tr style=\"text-align: right;\">\n",
       "      <th></th>\n",
       "      <th>hadm_id</th>\n",
       "      <th>text</th>\n",
       "      <th>discharge_instructions</th>\n",
       "      <th>brief_hospital_course</th>\n",
       "      <th>input_of_bhc</th>\n",
       "      <th>bhc_token_count</th>\n",
       "      <th>di_token_count</th>\n",
       "      <th>input_of_bhc_token_count</th>\n",
       "      <th>input_of_di</th>\n",
       "      <th>input_of_di_token_count</th>\n",
       "    </tr>\n",
       "  </thead>\n",
       "  <tbody>\n",
       "    <tr>\n",
       "      <th>0</th>\n",
       "      <td>22841357</td>\n",
       "      <td>\\nName:  ___                     Unit No:   _...</td>\n",
       "      <td>Dear ___,\\n\\n___ was a pleasure to take care o...</td>\n",
       "      <td>___ with HIV on HAART, HCV cirrhosis with asci...</td>\n",
       "      <td>sex: \\nF\\n \\nallergies: \\npercocet\\n \\nchief c...</td>\n",
       "      <td>1123</td>\n",
       "      <td>220</td>\n",
       "      <td>1171</td>\n",
       "      <td>Brief Hospital Course:\\n___ with HIV on HAART,...</td>\n",
       "      <td>1708</td>\n",
       "    </tr>\n",
       "    <tr>\n",
       "      <th>1</th>\n",
       "      <td>22927623</td>\n",
       "      <td>\\nName:  ___                 Unit No:   ___\\n...</td>\n",
       "      <td>Dear Ms. ___,\\n\\nYou were hospitalized at ___....</td>\n",
       "      <td>Ms. ___ is a ___ with history of GERD who pres...</td>\n",
       "      <td>sex: \\nF\\n \\nallergies: \\nomeprazole\\n \\nchief...</td>\n",
       "      <td>133</td>\n",
       "      <td>112</td>\n",
       "      <td>908</td>\n",
       "      <td>Brief Hospital Course:\\nMs. ___ is a ___ with ...</td>\n",
       "      <td>318</td>\n",
       "    </tr>\n",
       "    <tr>\n",
       "      <th>2</th>\n",
       "      <td>21738619</td>\n",
       "      <td>\\nName:  ___                   Unit No:   ___...</td>\n",
       "      <td>Dear ___, \\n\\n___ were seen in the ED for ongo...</td>\n",
       "      <td>___ Female with PMH significant for depression...</td>\n",
       "      <td>sex: \\nF\\n \\nallergies: \\nsulfa (sulfonamide a...</td>\n",
       "      <td>550</td>\n",
       "      <td>177</td>\n",
       "      <td>1830</td>\n",
       "      <td>Brief Hospital Course:\\n___ Female with PMH si...</td>\n",
       "      <td>1203</td>\n",
       "    </tr>\n",
       "    <tr>\n",
       "      <th>3</th>\n",
       "      <td>25849114</td>\n",
       "      <td>\\nName:  ___                   Unit No:   ___...</td>\n",
       "      <td>Dear Ms. ___,\\nIt was a pleasure taking part i...</td>\n",
       "      <td>Ms. ___ is a ___ with metastatic cancer of unk...</td>\n",
       "      <td>sex: \\nF\\n \\nallergies: \\nsulfa (sulfonamide a...</td>\n",
       "      <td>112</td>\n",
       "      <td>260</td>\n",
       "      <td>1698</td>\n",
       "      <td>Brief Hospital Course:\\nMs. ___ is a ___ with ...</td>\n",
       "      <td>853</td>\n",
       "    </tr>\n",
       "    <tr>\n",
       "      <th>4</th>\n",
       "      <td>29654838</td>\n",
       "      <td>\\nName:  ___          Unit No:   ___\\n \\nAdmi...</td>\n",
       "      <td>Dear Ms. ___, \\n\\nYou were admitted for shortn...</td>\n",
       "      <td>___ woman with h/o hypertension, hypelipidemia...</td>\n",
       "      <td>sex: \\nF\\n \\nallergies: \\nno known allergies /...</td>\n",
       "      <td>934</td>\n",
       "      <td>333</td>\n",
       "      <td>1527</td>\n",
       "      <td>Brief Hospital Course:\\n___ woman with h/o hyp...</td>\n",
       "      <td>2314</td>\n",
       "    </tr>\n",
       "  </tbody>\n",
       "</table>\n",
       "</div>"
      ],
      "text/plain": [
       "    hadm_id                                               text  \\\n",
       "0  22841357   \\nName:  ___                     Unit No:   _...   \n",
       "1  22927623   \\nName:  ___                 Unit No:   ___\\n...   \n",
       "2  21738619   \\nName:  ___                   Unit No:   ___...   \n",
       "3  25849114   \\nName:  ___                   Unit No:   ___...   \n",
       "4  29654838   \\nName:  ___          Unit No:   ___\\n \\nAdmi...   \n",
       "\n",
       "                              discharge_instructions  \\\n",
       "0  Dear ___,\\n\\n___ was a pleasure to take care o...   \n",
       "1  Dear Ms. ___,\\n\\nYou were hospitalized at ___....   \n",
       "2  Dear ___, \\n\\n___ were seen in the ED for ongo...   \n",
       "3  Dear Ms. ___,\\nIt was a pleasure taking part i...   \n",
       "4  Dear Ms. ___, \\n\\nYou were admitted for shortn...   \n",
       "\n",
       "                               brief_hospital_course  \\\n",
       "0  ___ with HIV on HAART, HCV cirrhosis with asci...   \n",
       "1  Ms. ___ is a ___ with history of GERD who pres...   \n",
       "2  ___ Female with PMH significant for depression...   \n",
       "3  Ms. ___ is a ___ with metastatic cancer of unk...   \n",
       "4  ___ woman with h/o hypertension, hypelipidemia...   \n",
       "\n",
       "                                        input_of_bhc  bhc_token_count  \\\n",
       "0  sex: \\nF\\n \\nallergies: \\npercocet\\n \\nchief c...             1123   \n",
       "1  sex: \\nF\\n \\nallergies: \\nomeprazole\\n \\nchief...              133   \n",
       "2  sex: \\nF\\n \\nallergies: \\nsulfa (sulfonamide a...              550   \n",
       "3  sex: \\nF\\n \\nallergies: \\nsulfa (sulfonamide a...              112   \n",
       "4  sex: \\nF\\n \\nallergies: \\nno known allergies /...              934   \n",
       "\n",
       "   di_token_count  input_of_bhc_token_count  \\\n",
       "0             220                      1171   \n",
       "1             112                       908   \n",
       "2             177                      1830   \n",
       "3             260                      1698   \n",
       "4             333                      1527   \n",
       "\n",
       "                                         input_of_di  input_of_di_token_count  \n",
       "0  Brief Hospital Course:\\n___ with HIV on HAART,...                     1708  \n",
       "1  Brief Hospital Course:\\nMs. ___ is a ___ with ...                      318  \n",
       "2  Brief Hospital Course:\\n___ Female with PMH si...                     1203  \n",
       "3  Brief Hospital Course:\\nMs. ___ is a ___ with ...                      853  \n",
       "4  Brief Hospital Course:\\n___ woman with h/o hyp...                     2314  "
      ]
     },
     "execution_count": 80,
     "metadata": {},
     "output_type": "execute_result"
    }
   ],
   "source": [
    "new_train_combined_discharge.head()"
   ]
  },
  {
   "cell_type": "code",
   "execution_count": 82,
   "metadata": {},
   "outputs": [
    {
     "name": "stdout",
     "output_type": "stream",
     "text": [
      "Brief Hospital Course:\n",
      "___ woman with h/o hypertension, hypelipidemia, diabetes \n",
      "mellitus on insulin, cerebellar-medullary stroke in ___, \n",
      "stage ___ CKD followed by Dr ___ presenting with fatigue and \n",
      "DOE for a few weeks, markedly worse the morning of admission. \n",
      "The patient has known diastolic dysfunction. Of note, she has \n",
      "been noncompliant with her medications at home. On arrival to \n",
      "the floor, she required hydralazine 20 mg to bring down her BP. \n",
      "She has likely had elevated BPs at home for a while, which is \n",
      "contributing to her SOB, CHF exacerbation, and secondary demand \n",
      "myonecrosis (hypertensive urgency) with mildly elevated \n",
      "troponin.\n",
      "\n",
      "# CAD: Although she did not have a classic anginal presentation, \n",
      "patient has several risk factors for acute coronary syndrome. \n",
      "Her only symptom was SOB in the setting of elevated BPs \n",
      "attributed to medication noncompliance at home. Her troponin \n",
      "fell from 0.05 at admission to 0.01 at discharge in the setting \n",
      "of renal dysfunction, but there was not a clear rise and fall to \n",
      "suggest an acute infarction from plaque rupture and thrombosis. \n",
      "She was scheduled for an outpatient stress test to evaluate for \n",
      "evidence of ischemia from flow-limiting CAD. We decreased ASA to \n",
      "81 mg from 325 mg daily to decrease the risk of bleeding. Her \n",
      "LDL was found to be 146. We wanted to change her from \n",
      "simvastatin to the more potent atorvastatin (and avoid issues \n",
      "with drug-drug interactions), but her insurance would not cover \n",
      "atorvastatin. She was therefore switched to pravastatin 80 mg at \n",
      "discharge. From a cardiac standpoint, we did not feel that \n",
      "Plavix was necessary for CAD, but her neurologist was contacted \n",
      "and wanted Plavix continued. We had to stop metoprolol due to HR \n",
      "in the ___ during admission even off metoprolol.\n",
      "  \n",
      "# Pump: Last echo in ___ showed low normal LVEF. Her current \n",
      "presentation was consistent with CHF exacerbation with bilateral \n",
      "pleural effusions, dyspnea, and elevated NT-Pro-BNP. Her TTE \n",
      "showed mild-moderate mitral and moderate tricuspid \n",
      "regurgitation, LVEF 50-55%, and pulmonary hypertension. We \n",
      "changed her HCTZ to Lasix 40 mg PO at discharge. This medication \n",
      "can be uptitrated as needed.\n",
      "\n",
      "# Hypertension: The patient's nephrologist, Dr. ___, agreed \n",
      "with our proposed medication adjustments, but recommended \n",
      "staying away from clonidine. There has been a H/O medication \n",
      "non-adherence. Social work was involved in discharge planning, \n",
      "and ___ will be assisting the patient at home. We added \n",
      "lisinopril 20 mg daily, Lasix 40 mg daily and continued \n",
      "nifedipine 120 mg daily. Her atenolol was stopped due to her \n",
      "renal dysfunction, but her metoprolol had to be stopped due to \n",
      "bradycardia. She should continue on once a day medication dosing \n",
      "to help with compliance.\n",
      "\n",
      "# ? COPD: The patient may have a component of COPD as she was \n",
      "wheezing on admission and responded to albuterol. She was given \n",
      "a prescription for albuterol prn.\n",
      "\n",
      "Medications on Admission: \n",
      "ATENOLOL - 100 mg Tablet - 1.5 Tablet(s) by mouth once a day \n",
      "CLONIDINE - 0.1 mg/24 hour Patch Weekly - place on shoulder once \n",
      "a week\n",
      "CLOPIDOGREL [PLAVIX] - 75 mg Tablet - 1 Tablet(s) by mouth once \n",
      "a day generic is available preferable, please call Dr ___ \n",
      "an appointment  \n",
      "FENOFIBRATE MICRONIZED - 134 mg Capsule - 1 Capsule(s) by mouth \n",
      "once a day\n",
      "HYDROCHLOROTHIAZIDE - 25 mg Tablet - 1 (One) Tablet(s) by mouth \n",
      "once a day\n",
      "NIFEDIPINE [NIFEDIAC CC] - 60 mg Tablet Extended Release - 2 \n",
      "Tablet(s) by mouth once a day\n",
      "NITROGLYCERIN [NITROSTAT] - 0.3 mg Tablet, Sublingual - 1 \n",
      "Tablet(s) sublingually sl as needed for prn chest pain may use 3 \n",
      "doses, 5 minutes apart; if no relief, ED visit \n",
      "RANITIDINE HCL - 300 mg Tablet - 1 Tablet(s) by mouth once a day\n",
      "SIMVASTATIN - 80 mg Tablet - 1 Tablet(s) by mouth at bedtime\n",
      "\n",
      "Medications - OTC  \n",
      "ASPIRIN [ENTERIC COATED ASPIRIN] - 325 mg Tablet, Delayed \n",
      "Release (E.C.) - 1 (One) Tablet(s) by mouth once a day\n",
      "INSULIN NPH & REGULAR HUMAN [HUMULIN 70/30] - 100 unit/mL \n",
      "(70-30) Suspension - 30 units at dinner at dinner\n",
      "MULTIVITAMIN - (OTC) - Tablet - 1 Tablet(s) by mouth once a day\n",
      " \n",
      "Discharge Medications: \n",
      "1. clopidogrel 75 mg Tablet Sig: One (1) Tablet PO DAILY \n",
      "(Daily). Disp:*30 Tablet(s)* Refills:*2*\n",
      "2. nitroglycerin 0.4 mg Tablet, Sublingual Sig: One (1) Tablet, \n",
      "Sublingual Sublingual PRN (as needed) as needed for chest pain: \n",
      "may take up to 3 over 15 minutes. Disp:*30 Tablet, \n",
      "Sublingual(s)* Refills:*0*\n",
      "3. multivitamin     Tablet Sig: One (1) Tablet PO DAILY (Daily). \n",
      "Disp:*30 Tablet(s)* Refills:*2*\n",
      "4. ranitidine HCl 150 mg Tablet Sig: Two (2) Tablet PO DAILY \n",
      "(Daily). Disp:*60 Tablet(s)* Refills:*2*\n",
      "5. pravastatin 80 mg Tablet Sig: One (1) Tablet PO DAILY \n",
      "(Daily). Disp:*30 Tablet(s)* Refills:*2*\n",
      "6. aspirin 81 mg Tablet, Chewable Sig: One (1) Tablet, Chewable \n",
      "PO DAILY (Daily). Disp:*30 Tablet, Chewable(s)* Refills:*2*\n",
      "7. lisinopril 20 mg Tablet Sig: One (1) Tablet PO DAILY (Daily). \n",
      "Disp:*30 Tablet(s)* Refills:*2*\n",
      "8. nifedipine 60 mg Tablet Extended Release Sig: Two (2) Tablet \n",
      "Extended Release PO DAILY (Daily). Disp:*30 Tablet Extended \n",
      "Release(s)* Refills:*2*\n",
      "9. furosemide 40 mg Tablet Sig: One (1) Tablet PO DAILY (Daily). \n",
      "Disp:*30 Tablet(s)* Refills:*2*\n",
      "10. insulin NPH & regular human 100 unit/mL (70-30) Insulin Pen \n",
      "Sig: Thirty (30) units Subcutaneous at dinner. Disp:*900 units* \n",
      "Refills:*2*\n",
      "11. albuterol sulfate 90 mcg/actuation HFA Aerosol Inhaler Sig: \n",
      "___ puffs Inhalation every ___ hours as needed for shortness of \n",
      "breath or wheezing. Disp:*1 inhaler* Refills:*1*\n",
      " \n",
      "Discharge Disposition: \n",
      "Home With Service\n",
      " \n",
      "Facility:\n",
      "___\n",
      " \n",
      "Discharge Diagnosis: \n",
      "-Hypertension with hypertensive urgency\n",
      "-Myocardial infarction attributed to demand myonecrosis\n",
      "-Acute on chronic left ventricular diastolic heart failure\n",
      "-Chronic kidney disease, stage ___\n",
      "-Chronic obstructive pulmonary disease\n",
      "-Prior cerebellar-medullary stroke\n",
      "-Hyperlipidemia\n",
      "-Diabetes mellitus requiring insulin therapy\n",
      "-Medication non-adherence\n",
      " \n",
      "Discharge Condition: \n",
      "Mental Status: Clear and coherent.\n",
      "Level of Consciousness: Alert and interactive.\n",
      "Activity Status: Ambulatory - Independent.\n",
      " \n",
      "\n"
     ]
    }
   ],
   "source": [
    "print(new_train_combined_discharge['input_of_di'][4])"
   ]
  },
  {
   "cell_type": "code",
   "execution_count": 43,
   "metadata": {},
   "outputs": [
    {
     "name": "stderr",
     "output_type": "stream",
     "text": [
      "100%|██████████| 83504/83504 [03:30<00:00, 396.02it/s]\n"
     ]
    }
   ],
   "source": [
    "new_train_combined_discharge['input_of_di_token_count'] = new_train_combined_discharge['input_of_di'].progress_apply(get_token_count)"
   ]
  },
  {
   "cell_type": "code",
   "execution_count": 44,
   "metadata": {},
   "outputs": [
    {
     "data": {
      "image/png": "[encoded data removed]",
      "text/plain": [
       "<Figure size 640x480 with 1 Axes>"
      ]
     },
     "metadata": {},
     "output_type": "display_data"
    }
   ],
   "source": [
    "plot_token_count(new_train_combined_discharge['di_token_count'] + new_train_combined_discharge['input_of_di_token_count'] , 'DI Input+Output Token Count (Train set)')"
   ]
  },
  {
   "cell_type": "code",
   "execution_count": 45,
   "metadata": {},
   "outputs": [
    {
     "name": "stdout",
     "output_type": "stream",
     "text": [
      "0.00753257328990228\n"
     ]
    }
   ],
   "source": [
    "print(len(new_train_combined_discharge[new_train_combined_discharge['di_token_count'] + new_train_combined_discharge['input_of_di_token_count'] > 4096]) / len(new_train_combined_discharge))"
   ]
  },
  {
   "cell_type": "code",
   "execution_count": 83,
   "metadata": {},
   "outputs": [],
   "source": [
    "# exchange the columns of the dataframe\n",
    "final_train_combined_discharge = new_train_combined_discharge[['hadm_id', 'text', 'discharge_instructions', 'brief_hospital_course', 'input_of_bhc', 'input_of_di', 'bhc_token_count', 'di_token_count', 'input_of_bhc_token_count', 'input_of_di_token_count']]"
   ]
  },
  {
   "cell_type": "code",
   "execution_count": 84,
   "metadata": {},
   "outputs": [
    {
     "data": {
      "text/html": [
       "<div>\n",
       "<style scoped>\n",
       "    .dataframe tbody tr th:only-of-type {\n",
       "        vertical-align: middle;\n",
       "    }\n",
       "\n",
       "    .dataframe tbody tr th {\n",
       "        vertical-align: top;\n",
       "    }\n",
       "\n",
       "    .dataframe thead th {\n",
       "        text-align: right;\n",
       "    }\n",
       "</style>\n",
       "<table border=\"1\" class=\"dataframe\">\n",
       "  <thead>\n",
       "    <tr style=\"text-align: right;\">\n",
       "      <th></th>\n",
       "      <th>hadm_id</th>\n",
       "      <th>text</th>\n",
       "      <th>discharge_instructions</th>\n",
       "      <th>brief_hospital_course</th>\n",
       "      <th>input_of_bhc</th>\n",
       "      <th>input_of_di</th>\n",
       "      <th>bhc_token_count</th>\n",
       "      <th>di_token_count</th>\n",
       "      <th>input_of_bhc_token_count</th>\n",
       "      <th>input_of_di_token_count</th>\n",
       "    </tr>\n",
       "  </thead>\n",
       "  <tbody>\n",
       "    <tr>\n",
       "      <th>0</th>\n",
       "      <td>22841357</td>\n",
       "      <td>\\nName:  ___                     Unit No:   _...</td>\n",
       "      <td>Dear ___,\\n\\n___ was a pleasure to take care o...</td>\n",
       "      <td>___ with HIV on HAART, HCV cirrhosis with asci...</td>\n",
       "      <td>sex: \\nF\\n \\nallergies: \\npercocet\\n \\nchief c...</td>\n",
       "      <td>Brief Hospital Course:\\n___ with HIV on HAART,...</td>\n",
       "      <td>1123</td>\n",
       "      <td>220</td>\n",
       "      <td>1171</td>\n",
       "      <td>1708</td>\n",
       "    </tr>\n",
       "    <tr>\n",
       "      <th>1</th>\n",
       "      <td>22927623</td>\n",
       "      <td>\\nName:  ___                 Unit No:   ___\\n...</td>\n",
       "      <td>Dear Ms. ___,\\n\\nYou were hospitalized at ___....</td>\n",
       "      <td>Ms. ___ is a ___ with history of GERD who pres...</td>\n",
       "      <td>sex: \\nF\\n \\nallergies: \\nomeprazole\\n \\nchief...</td>\n",
       "      <td>Brief Hospital Course:\\nMs. ___ is a ___ with ...</td>\n",
       "      <td>133</td>\n",
       "      <td>112</td>\n",
       "      <td>908</td>\n",
       "      <td>318</td>\n",
       "    </tr>\n",
       "    <tr>\n",
       "      <th>2</th>\n",
       "      <td>21738619</td>\n",
       "      <td>\\nName:  ___                   Unit No:   ___...</td>\n",
       "      <td>Dear ___, \\n\\n___ were seen in the ED for ongo...</td>\n",
       "      <td>___ Female with PMH significant for depression...</td>\n",
       "      <td>sex: \\nF\\n \\nallergies: \\nsulfa (sulfonamide a...</td>\n",
       "      <td>Brief Hospital Course:\\n___ Female with PMH si...</td>\n",
       "      <td>550</td>\n",
       "      <td>177</td>\n",
       "      <td>1830</td>\n",
       "      <td>1203</td>\n",
       "    </tr>\n",
       "    <tr>\n",
       "      <th>3</th>\n",
       "      <td>25849114</td>\n",
       "      <td>\\nName:  ___                   Unit No:   ___...</td>\n",
       "      <td>Dear Ms. ___,\\nIt was a pleasure taking part i...</td>\n",
       "      <td>Ms. ___ is a ___ with metastatic cancer of unk...</td>\n",
       "      <td>sex: \\nF\\n \\nallergies: \\nsulfa (sulfonamide a...</td>\n",
       "      <td>Brief Hospital Course:\\nMs. ___ is a ___ with ...</td>\n",
       "      <td>112</td>\n",
       "      <td>260</td>\n",
       "      <td>1698</td>\n",
       "      <td>853</td>\n",
       "    </tr>\n",
       "    <tr>\n",
       "      <th>4</th>\n",
       "      <td>29654838</td>\n",
       "      <td>\\nName:  ___          Unit No:   ___\\n \\nAdmi...</td>\n",
       "      <td>Dear Ms. ___, \\n\\nYou were admitted for shortn...</td>\n",
       "      <td>___ woman with h/o hypertension, hypelipidemia...</td>\n",
       "      <td>sex: \\nF\\n \\nallergies: \\nno known allergies /...</td>\n",
       "      <td>Brief Hospital Course:\\n___ woman with h/o hyp...</td>\n",
       "      <td>934</td>\n",
       "      <td>333</td>\n",
       "      <td>1527</td>\n",
       "      <td>2314</td>\n",
       "    </tr>\n",
       "  </tbody>\n",
       "</table>\n",
       "</div>"
      ],
      "text/plain": [
       "    hadm_id                                               text  \\\n",
       "0  22841357   \\nName:  ___                     Unit No:   _...   \n",
       "1  22927623   \\nName:  ___                 Unit No:   ___\\n...   \n",
       "2  21738619   \\nName:  ___                   Unit No:   ___...   \n",
       "3  25849114   \\nName:  ___                   Unit No:   ___...   \n",
       "4  29654838   \\nName:  ___          Unit No:   ___\\n \\nAdmi...   \n",
       "\n",
       "                              discharge_instructions  \\\n",
       "0  Dear ___,\\n\\n___ was a pleasure to take care o...   \n",
       "1  Dear Ms. ___,\\n\\nYou were hospitalized at ___....   \n",
       "2  Dear ___, \\n\\n___ were seen in the ED for ongo...   \n",
       "3  Dear Ms. ___,\\nIt was a pleasure taking part i...   \n",
       "4  Dear Ms. ___, \\n\\nYou were admitted for shortn...   \n",
       "\n",
       "                               brief_hospital_course  \\\n",
       "0  ___ with HIV on HAART, HCV cirrhosis with asci...   \n",
       "1  Ms. ___ is a ___ with history of GERD who pres...   \n",
       "2  ___ Female with PMH significant for depression...   \n",
       "3  Ms. ___ is a ___ with metastatic cancer of unk...   \n",
       "4  ___ woman with h/o hypertension, hypelipidemia...   \n",
       "\n",
       "                                        input_of_bhc  \\\n",
       "0  sex: \\nF\\n \\nallergies: \\npercocet\\n \\nchief c...   \n",
       "1  sex: \\nF\\n \\nallergies: \\nomeprazole\\n \\nchief...   \n",
       "2  sex: \\nF\\n \\nallergies: \\nsulfa (sulfonamide a...   \n",
       "3  sex: \\nF\\n \\nallergies: \\nsulfa (sulfonamide a...   \n",
       "4  sex: \\nF\\n \\nallergies: \\nno known allergies /...   \n",
       "\n",
       "                                         input_of_di  bhc_token_count  \\\n",
       "0  Brief Hospital Course:\\n___ with HIV on HAART,...             1123   \n",
       "1  Brief Hospital Course:\\nMs. ___ is a ___ with ...              133   \n",
       "2  Brief Hospital Course:\\n___ Female with PMH si...              550   \n",
       "3  Brief Hospital Course:\\nMs. ___ is a ___ with ...              112   \n",
       "4  Brief Hospital Course:\\n___ woman with h/o hyp...              934   \n",
       "\n",
       "   di_token_count  input_of_bhc_token_count  input_of_di_token_count  \n",
       "0             220                      1171                     1708  \n",
       "1             112                       908                      318  \n",
       "2             177                      1830                     1203  \n",
       "3             260                      1698                      853  \n",
       "4             333                      1527                     2314  "
      ]
     },
     "execution_count": 84,
     "metadata": {},
     "output_type": "execute_result"
    }
   ],
   "source": [
    "final_train_combined_discharge.head()"
   ]
  },
  {
   "cell_type": "code",
   "execution_count": 85,
   "metadata": {},
   "outputs": [
    {
     "name": "stdout",
     "output_type": "stream",
     "text": [
      "___ woman with h/o hypertension, hypelipidemia, diabetes \n",
      "mellitus on insulin, cerebellar-medullary stroke in ___, \n",
      "stage ___ CKD followed by Dr ___ presenting with fatigue and \n",
      "DOE for a few weeks, markedly worse the morning of admission. \n",
      "The patient has known diastolic dysfunction. Of note, she has \n",
      "been noncompliant with her medications at home. On arrival to \n",
      "the floor, she required hydralazine 20 mg to bring down her BP. \n",
      "She has likely had elevated BPs at home for a while, which is \n",
      "contributing to her SOB, CHF exacerbation, and secondary demand \n",
      "myonecrosis (hypertensive urgency) with mildly elevated \n",
      "troponin.\n",
      "\n",
      "# CAD: Although she did not have a classic anginal presentation, \n",
      "patient has several risk factors for acute coronary syndrome. \n",
      "Her only symptom was SOB in the setting of elevated BPs \n",
      "attributed to medication noncompliance at home. Her troponin \n",
      "fell from 0.05 at admission to 0.01 at discharge in the setting \n",
      "of renal dysfunction, but there was not a clear rise and fall to \n",
      "suggest an acute infarction from plaque rupture and thrombosis. \n",
      "She was scheduled for an outpatient stress test to evaluate for \n",
      "evidence of ischemia from flow-limiting CAD. We decreased ASA to \n",
      "81 mg from 325 mg daily to decrease the risk of bleeding. Her \n",
      "LDL was found to be 146. We wanted to change her from \n",
      "simvastatin to the more potent atorvastatin (and avoid issues \n",
      "with drug-drug interactions), but her insurance would not cover \n",
      "atorvastatin. She was therefore switched to pravastatin 80 mg at \n",
      "discharge. From a cardiac standpoint, we did not feel that \n",
      "Plavix was necessary for CAD, but her neurologist was contacted \n",
      "and wanted Plavix continued. We had to stop metoprolol due to HR \n",
      "in the ___ during admission even off metoprolol.\n",
      "  \n",
      "# Pump: Last echo in ___ showed low normal LVEF. Her current \n",
      "presentation was consistent with CHF exacerbation with bilateral \n",
      "pleural effusions, dyspnea, and elevated NT-Pro-BNP. Her TTE \n",
      "showed mild-moderate mitral and moderate tricuspid \n",
      "regurgitation, LVEF 50-55%, and pulmonary hypertension. We \n",
      "changed her HCTZ to Lasix 40 mg PO at discharge. This medication \n",
      "can be uptitrated as needed.\n",
      "\n",
      "# Hypertension: The patient's nephrologist, Dr. ___, agreed \n",
      "with our proposed medication adjustments, but recommended \n",
      "staying away from clonidine. There has been a H/O medication \n",
      "non-adherence. Social work was involved in discharge planning, \n",
      "and ___ will be assisting the patient at home. We added \n",
      "lisinopril 20 mg daily, Lasix 40 mg daily and continued \n",
      "nifedipine 120 mg daily. Her atenolol was stopped due to her \n",
      "renal dysfunction, but her metoprolol had to be stopped due to \n",
      "bradycardia. She should continue on once a day medication dosing \n",
      "to help with compliance.\n",
      "\n",
      "# ? COPD: The patient may have a component of COPD as she was \n",
      "wheezing on admission and responded to albuterol. She was given \n",
      "a prescription for albuterol prn.\n"
     ]
    }
   ],
   "source": [
    "print(final_train_combined_discharge['brief_hospital_course'][4])"
   ]
  },
  {
   "cell_type": "code",
   "execution_count": 87,
   "metadata": {},
   "outputs": [
    {
     "name": "stdout",
     "output_type": "stream",
     "text": [
      "Brief Hospital Course:\n",
      "___ woman with h/o hypertension, hypelipidemia, diabetes \n",
      "mellitus on insulin, cerebellar-medullary stroke in ___, \n",
      "stage ___ CKD followed by Dr ___ presenting with fatigue and \n",
      "DOE for a few weeks, markedly worse the morning of admission. \n",
      "The patient has known diastolic dysfunction. Of note, she has \n",
      "been noncompliant with her medications at home. On arrival to \n",
      "the floor, she required hydralazine 20 mg to bring down her BP. \n",
      "She has likely had elevated BPs at home for a while, which is \n",
      "contributing to her SOB, CHF exacerbation, and secondary demand \n",
      "myonecrosis (hypertensive urgency) with mildly elevated \n",
      "troponin.\n",
      "\n",
      "# CAD: Although she did not have a classic anginal presentation, \n",
      "patient has several risk factors for acute coronary syndrome. \n",
      "Her only symptom was SOB in the setting of elevated BPs \n",
      "attributed to medication noncompliance at home. Her troponin \n",
      "fell from 0.05 at admission to 0.01 at discharge in the setting \n",
      "of renal dysfunction, but there was not a clear rise and fall to \n",
      "suggest an acute infarction from plaque rupture and thrombosis. \n",
      "She was scheduled for an outpatient stress test to evaluate for \n",
      "evidence of ischemia from flow-limiting CAD. We decreased ASA to \n",
      "81 mg from 325 mg daily to decrease the risk of bleeding. Her \n",
      "LDL was found to be 146. We wanted to change her from \n",
      "simvastatin to the more potent atorvastatin (and avoid issues \n",
      "with drug-drug interactions), but her insurance would not cover \n",
      "atorvastatin. She was therefore switched to pravastatin 80 mg at \n",
      "discharge. From a cardiac standpoint, we did not feel that \n",
      "Plavix was necessary for CAD, but her neurologist was contacted \n",
      "and wanted Plavix continued. We had to stop metoprolol due to HR \n",
      "in the ___ during admission even off metoprolol.\n",
      "  \n",
      "# Pump: Last echo in ___ showed low normal LVEF. Her current \n",
      "presentation was consistent with CHF exacerbation with bilateral \n",
      "pleural effusions, dyspnea, and elevated NT-Pro-BNP. Her TTE \n",
      "showed mild-moderate mitral and moderate tricuspid \n",
      "regurgitation, LVEF 50-55%, and pulmonary hypertension. We \n",
      "changed her HCTZ to Lasix 40 mg PO at discharge. This medication \n",
      "can be uptitrated as needed.\n",
      "\n",
      "# Hypertension: The patient's nephrologist, Dr. ___, agreed \n",
      "with our proposed medication adjustments, but recommended \n",
      "staying away from clonidine. There has been a H/O medication \n",
      "non-adherence. Social work was involved in discharge planning, \n",
      "and ___ will be assisting the patient at home. We added \n",
      "lisinopril 20 mg daily, Lasix 40 mg daily and continued \n",
      "nifedipine 120 mg daily. Her atenolol was stopped due to her \n",
      "renal dysfunction, but her metoprolol had to be stopped due to \n",
      "bradycardia. She should continue on once a day medication dosing \n",
      "to help with compliance.\n",
      "\n",
      "# ? COPD: The patient may have a component of COPD as she was \n",
      "wheezing on admission and responded to albuterol. She was given \n",
      "a prescription for albuterol prn.\n",
      "\n",
      "Medications on Admission: \n",
      "ATENOLOL - 100 mg Tablet - 1.5 Tablet(s) by mouth once a day \n",
      "CLONIDINE - 0.1 mg/24 hour Patch Weekly - place on shoulder once \n",
      "a week\n",
      "CLOPIDOGREL [PLAVIX] - 75 mg Tablet - 1 Tablet(s) by mouth once \n",
      "a day generic is available preferable, please call Dr ___ \n",
      "an appointment  \n",
      "FENOFIBRATE MICRONIZED - 134 mg Capsule - 1 Capsule(s) by mouth \n",
      "once a day\n",
      "HYDROCHLOROTHIAZIDE - 25 mg Tablet - 1 (One) Tablet(s) by mouth \n",
      "once a day\n",
      "NIFEDIPINE [NIFEDIAC CC] - 60 mg Tablet Extended Release - 2 \n",
      "Tablet(s) by mouth once a day\n",
      "NITROGLYCERIN [NITROSTAT] - 0.3 mg Tablet, Sublingual - 1 \n",
      "Tablet(s) sublingually sl as needed for prn chest pain may use 3 \n",
      "doses, 5 minutes apart; if no relief, ED visit \n",
      "RANITIDINE HCL - 300 mg Tablet - 1 Tablet(s) by mouth once a day\n",
      "SIMVASTATIN - 80 mg Tablet - 1 Tablet(s) by mouth at bedtime\n",
      "\n",
      "Medications - OTC  \n",
      "ASPIRIN [ENTERIC COATED ASPIRIN] - 325 mg Tablet, Delayed \n",
      "Release (E.C.) - 1 (One) Tablet(s) by mouth once a day\n",
      "INSULIN NPH & REGULAR HUMAN [HUMULIN 70/30] - 100 unit/mL \n",
      "(70-30) Suspension - 30 units at dinner at dinner\n",
      "MULTIVITAMIN - (OTC) - Tablet - 1 Tablet(s) by mouth once a day\n",
      " \n",
      "Discharge Medications: \n",
      "1. clopidogrel 75 mg Tablet Sig: One (1) Tablet PO DAILY \n",
      "(Daily). Disp:*30 Tablet(s)* Refills:*2*\n",
      "2. nitroglycerin 0.4 mg Tablet, Sublingual Sig: One (1) Tablet, \n",
      "Sublingual Sublingual PRN (as needed) as needed for chest pain: \n",
      "may take up to 3 over 15 minutes. Disp:*30 Tablet, \n",
      "Sublingual(s)* Refills:*0*\n",
      "3. multivitamin     Tablet Sig: One (1) Tablet PO DAILY (Daily). \n",
      "Disp:*30 Tablet(s)* Refills:*2*\n",
      "4. ranitidine HCl 150 mg Tablet Sig: Two (2) Tablet PO DAILY \n",
      "(Daily). Disp:*60 Tablet(s)* Refills:*2*\n",
      "5. pravastatin 80 mg Tablet Sig: One (1) Tablet PO DAILY \n",
      "(Daily). Disp:*30 Tablet(s)* Refills:*2*\n",
      "6. aspirin 81 mg Tablet, Chewable Sig: One (1) Tablet, Chewable \n",
      "PO DAILY (Daily). Disp:*30 Tablet, Chewable(s)* Refills:*2*\n",
      "7. lisinopril 20 mg Tablet Sig: One (1) Tablet PO DAILY (Daily). \n",
      "Disp:*30 Tablet(s)* Refills:*2*\n",
      "8. nifedipine 60 mg Tablet Extended Release Sig: Two (2) Tablet \n",
      "Extended Release PO DAILY (Daily). Disp:*30 Tablet Extended \n",
      "Release(s)* Refills:*2*\n",
      "9. furosemide 40 mg Tablet Sig: One (1) Tablet PO DAILY (Daily). \n",
      "Disp:*30 Tablet(s)* Refills:*2*\n",
      "10. insulin NPH & regular human 100 unit/mL (70-30) Insulin Pen \n",
      "Sig: Thirty (30) units Subcutaneous at dinner. Disp:*900 units* \n",
      "Refills:*2*\n",
      "11. albuterol sulfate 90 mcg/actuation HFA Aerosol Inhaler Sig: \n",
      "___ puffs Inhalation every ___ hours as needed for shortness of \n",
      "breath or wheezing. Disp:*1 inhaler* Refills:*1*\n",
      " \n",
      "Discharge Disposition: \n",
      "Home With Service\n",
      " \n",
      "Facility:\n",
      "___\n",
      " \n",
      "Discharge Diagnosis: \n",
      "-Hypertension with hypertensive urgency\n",
      "-Myocardial infarction attributed to demand myonecrosis\n",
      "-Acute on chronic left ventricular diastolic heart failure\n",
      "-Chronic kidney disease, stage ___\n",
      "-Chronic obstructive pulmonary disease\n",
      "-Prior cerebellar-medullary stroke\n",
      "-Hyperlipidemia\n",
      "-Diabetes mellitus requiring insulin therapy\n",
      "-Medication non-adherence\n",
      " \n",
      "Discharge Condition: \n",
      "Mental Status: Clear and coherent.\n",
      "Level of Consciousness: Alert and interactive.\n",
      "Activity Status: Ambulatory - Independent.\n",
      " \n",
      "\n"
     ]
    }
   ],
   "source": [
    "print(final_train_combined_discharge['input_of_di'][4])"
   ]
  },
  {
   "cell_type": "code",
   "execution_count": 66,
   "metadata": {},
   "outputs": [
    {
     "name": "stdout",
     "output_type": "stream",
     "text": [
      "Dear Ms. ___, \n",
      "\n",
      "You were admitted for shortness of breath. You were found to \n",
      "have elevated blood pressure on admission in the setting of not \n",
      "taking all of your medications regularly. We obtained an \n",
      "echocargiogram of your heart which showed some strain on your \n",
      "heart possibly related to your elevated blood pressures.\n",
      "\n",
      "You will be contacted about an outpatient stress test. This will \n",
      "be completed within the next month.\n",
      "\n",
      "You will be prescribed several new medications as shown below. A \n",
      "visiting nurse ___ come to your home to help with managing your \n",
      "medications. You should dispose of all your home medications and \n",
      "only take the medications shown on this discharge paperwork.\n",
      "\n",
      "Medications:\n",
      "STOP Hydrochlorothiazide\n",
      "STOP Simvastatin\n",
      "STOP Clonidine\n",
      "STOP Atenolol due to low heart rate\n",
      "CHANGE 325mg to 81mg once daily\n",
      "START Lisinopril 20mg once daily\n",
      "START Lasix 40mg once daily\n",
      "START Pravastin 80mg once daily\n",
      "\n",
      "If you experience any chest pain, excessive shortness of breath, \n",
      "or any other symptoms concerning to you, please call or come \n",
      "into the emergency department for further evaluation.\n",
      "\n",
      "Thank you for allowing us at the ___ to participate in your care.\n"
     ]
    }
   ],
   "source": [
    "print(final_train_combined_discharge['discharge_instructions'][4])"
   ]
  },
  {
   "cell_type": "code",
   "execution_count": 88,
   "metadata": {},
   "outputs": [],
   "source": [
    "# save the final_train_combined_discharge\n",
    "save_data(final_train_combined_discharge, data_path + 'train/final_train_combined_discharge.csv.gz')"
   ]
  },
  {
   "cell_type": "code",
   "execution_count": null,
   "metadata": {},
   "outputs": [],
   "source": []
  }
 ],
 "metadata": {
  "kernelspec": {
   "display_name": "extract",
   "language": "python",
   "name": "python3"
  },
  "language_info": {
   "codemirror_mode": {
    "name": "ipython",
    "version": 3
   },
   "file_extension": ".py",
   "mimetype": "text/x-python",
   "name": "python",
   "nbconvert_exporter": "python",
   "pygments_lexer": "ipython3",
   "version": "3.9.18"
  }
 },
 "nbformat": 4,
 "nbformat_minor": 2
}
