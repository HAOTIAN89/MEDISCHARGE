{
 "cells": [
  {
   "cell_type": "code",
   "execution_count": 1,
   "metadata": {},
   "outputs": [],
   "source": [
    "import pandas as pd"
   ]
  },
  {
   "cell_type": "code",
   "execution_count": null,
   "metadata": {},
   "outputs": [],
   "source": [
    "discharges_df = pd.read_csv('data/valid/discharge.csv.gz', compression='gzip')\n",
    "discharges_target_df = pd.read_csv('data/valid/discharge_target.csv.gz', compression='gzip')"
   ]
  },
  {
   "cell_type": "code",
   "execution_count": null,
   "metadata": {},
   "outputs": [],
   "source": [
    "discharges_df.head()"
   ]
  },
  {
   "cell_type": "code",
   "execution_count": null,
   "metadata": {},
   "outputs": [],
   "source": [
    "discharges_target_df.head()"
   ]
  },
  {
   "cell_type": "code",
   "execution_count": null,
   "metadata": {},
   "outputs": [],
   "source": [
    "# merge target infos on [note_id, hadm_id]\n",
    "discharges_df = discharges_df.merge(discharges_target_df[['note_id', 'hadm_id', 'discharge_instructions', 'brief_hospital_course', 'discharge_instructions_word_count', 'brief_hospital_course_word_count']], on=['note_id', 'hadm_id'], how='left', suffixes=(None, ''))"
   ]
  },
  {
   "cell_type": "code",
   "execution_count": 20,
   "metadata": {},
   "outputs": [],
   "source": [
    "data = pd.read_csv('../data/experiments/input/wo_physical_exam.csv.gz', compression='gzip')"
   ]
  },
  {
   "cell_type": "code",
   "execution_count": 21,
   "metadata": {},
   "outputs": [
    {
     "data": {
      "text/html": [
       "<div>\n",
       "<style scoped>\n",
       "    .dataframe tbody tr th:only-of-type {\n",
       "        vertical-align: middle;\n",
       "    }\n",
       "\n",
       "    .dataframe tbody tr th {\n",
       "        vertical-align: top;\n",
       "    }\n",
       "\n",
       "    .dataframe thead th {\n",
       "        text-align: right;\n",
       "    }\n",
       "</style>\n",
       "<table border=\"1\" class=\"dataframe\">\n",
       "  <thead>\n",
       "    <tr style=\"text-align: right;\">\n",
       "      <th></th>\n",
       "      <th>idx</th>\n",
       "      <th>prompt</th>\n",
       "      <th>reference</th>\n",
       "    </tr>\n",
       "  </thead>\n",
       "  <tbody>\n",
       "    <tr>\n",
       "      <th>0</th>\n",
       "      <td>27988844</td>\n",
       "      <td>You are a medical assistant. Your task is to w...</td>\n",
       "      <td>INSTRUCTIONS AFTER ORTHOPAEDIC SURGERY:\\n\\n- Y...</td>\n",
       "    </tr>\n",
       "    <tr>\n",
       "      <th>1</th>\n",
       "      <td>26381316</td>\n",
       "      <td>You are a medical assistant. Your task is to w...</td>\n",
       "      <td>Dear Ms. ___,\\n\\nYou were admitted to ___ for ...</td>\n",
       "    </tr>\n",
       "    <tr>\n",
       "      <th>2</th>\n",
       "      <td>24947999</td>\n",
       "      <td>You are a medical assistant. Your task is to w...</td>\n",
       "      <td>Dear ___,\\n\\n___ were admitted to ___ on ___ w...</td>\n",
       "    </tr>\n",
       "    <tr>\n",
       "      <th>3</th>\n",
       "      <td>27060146</td>\n",
       "      <td>You are a medical assistant. Your task is to w...</td>\n",
       "      <td>Dear ___,\\n\\n___ did you come to the hospital?...</td>\n",
       "    </tr>\n",
       "    <tr>\n",
       "      <th>4</th>\n",
       "      <td>28058085</td>\n",
       "      <td>You are a medical assistant. Your task is to w...</td>\n",
       "      <td>Dear Ms. ___, \\n\\nIt was a pleasure taking car...</td>\n",
       "    </tr>\n",
       "    <tr>\n",
       "      <th>...</th>\n",
       "      <td>...</td>\n",
       "      <td>...</td>\n",
       "      <td>...</td>\n",
       "    </tr>\n",
       "    <tr>\n",
       "      <th>11728</th>\n",
       "      <td>28358701</td>\n",
       "      <td>You are a medical assistant. Your task is to w...</td>\n",
       "      <td>Dear Dr. ___,\\n\\n___ were admitted to ___ beca...</td>\n",
       "    </tr>\n",
       "    <tr>\n",
       "      <th>11729</th>\n",
       "      <td>26946592</td>\n",
       "      <td>You are a medical assistant. Your task is to w...</td>\n",
       "      <td>You were admitted to the hospital for evaluati...</td>\n",
       "    </tr>\n",
       "    <tr>\n",
       "      <th>11730</th>\n",
       "      <td>28526413</td>\n",
       "      <td>You are a medical assistant. Your task is to w...</td>\n",
       "      <td>You were admitted for jaundice. You had a CT s...</td>\n",
       "    </tr>\n",
       "    <tr>\n",
       "      <th>11731</th>\n",
       "      <td>26846592</td>\n",
       "      <td>You are a medical assistant. Your task is to w...</td>\n",
       "      <td>Dear Mr. ___, \\nYou were admitted to the hospi...</td>\n",
       "    </tr>\n",
       "    <tr>\n",
       "      <th>11732</th>\n",
       "      <td>25715748</td>\n",
       "      <td>You are a medical assistant. Your task is to w...</td>\n",
       "      <td>Dear Mr. ___, \\n\\nYou were admitted for monito...</td>\n",
       "    </tr>\n",
       "  </tbody>\n",
       "</table>\n",
       "<p>11733 rows × 3 columns</p>\n",
       "</div>"
      ],
      "text/plain": [
       "            idx                                             prompt  \\\n",
       "0      27988844  You are a medical assistant. Your task is to w...   \n",
       "1      26381316  You are a medical assistant. Your task is to w...   \n",
       "2      24947999  You are a medical assistant. Your task is to w...   \n",
       "3      27060146  You are a medical assistant. Your task is to w...   \n",
       "4      28058085  You are a medical assistant. Your task is to w...   \n",
       "...         ...                                                ...   \n",
       "11728  28358701  You are a medical assistant. Your task is to w...   \n",
       "11729  26946592  You are a medical assistant. Your task is to w...   \n",
       "11730  28526413  You are a medical assistant. Your task is to w...   \n",
       "11731  26846592  You are a medical assistant. Your task is to w...   \n",
       "11732  25715748  You are a medical assistant. Your task is to w...   \n",
       "\n",
       "                                               reference  \n",
       "0      INSTRUCTIONS AFTER ORTHOPAEDIC SURGERY:\\n\\n- Y...  \n",
       "1      Dear Ms. ___,\\n\\nYou were admitted to ___ for ...  \n",
       "2      Dear ___,\\n\\n___ were admitted to ___ on ___ w...  \n",
       "3      Dear ___,\\n\\n___ did you come to the hospital?...  \n",
       "4      Dear Ms. ___, \\n\\nIt was a pleasure taking car...  \n",
       "...                                                  ...  \n",
       "11728  Dear Dr. ___,\\n\\n___ were admitted to ___ beca...  \n",
       "11729  You were admitted to the hospital for evaluati...  \n",
       "11730  You were admitted for jaundice. You had a CT s...  \n",
       "11731  Dear Mr. ___, \\nYou were admitted to the hospi...  \n",
       "11732  Dear Mr. ___, \\n\\nYou were admitted for monito...  \n",
       "\n",
       "[11733 rows x 3 columns]"
      ]
     },
     "execution_count": 21,
     "metadata": {},
     "output_type": "execute_result"
    }
   ],
   "source": [
    "data"
   ]
  }
 ],
 "metadata": {
  "kernelspec": {
   "display_name": "Python 3",
   "language": "python",
   "name": "python3"
  },
  "language_info": {
   "codemirror_mode": {
    "name": "ipython",
    "version": 3
   },
   "file_extension": ".py",
   "mimetype": "text/x-python",
   "name": "python",
   "nbconvert_exporter": "python",
   "pygments_lexer": "ipython3",
   "version": "3.10.13"
  }
 },
 "nbformat": 4,
 "nbformat_minor": 2
}
