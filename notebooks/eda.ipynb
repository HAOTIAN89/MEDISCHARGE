{
 "cells": [
  {
   "cell_type": "code",
   "execution_count": 1,
   "metadata": {},
   "outputs": [],
   "source": [
    "import pandas as pd"
   ]
  },
  {
   "cell_type": "code",
   "execution_count": null,
   "metadata": {},
   "outputs": [],
   "source": [
    "discharges_df = pd.read_csv('data/valid/discharge.csv.gz', compression='gzip')\n",
    "discharges_target_df = pd.read_csv('data/valid/discharge_target.csv.gz', compression='gzip')"
   ]
  },
  {
   "cell_type": "code",
   "execution_count": null,
   "metadata": {},
   "outputs": [],
   "source": [
    "discharges_df.head()"
   ]
  },
  {
   "cell_type": "code",
   "execution_count": null,
   "metadata": {},
   "outputs": [],
   "source": [
    "discharges_target_df.head()"
   ]
  },
  {
   "cell_type": "code",
   "execution_count": null,
   "metadata": {},
   "outputs": [],
   "source": [
    "# merge target infos on [note_id, hadm_id]\n",
    "discharges_df = discharges_df.merge(discharges_target_df[['note_id', 'hadm_id', 'discharge_instructions', 'brief_hospital_course', 'discharge_instructions_word_count', 'brief_hospital_course_word_count']], on=['note_id', 'hadm_id'], how='left', suffixes=(None, ''))"
   ]
  },
  {
   "cell_type": "code",
   "execution_count": 18,
   "metadata": {},
   "outputs": [],
   "source": [
    "data = pd.read_csv('../data/experiments/input/wo_physical_exam.csv.gz', compression='gzip')"
   ]
  },
  {
   "cell_type": "code",
   "execution_count": 20,
   "metadata": {},
   "outputs": [
    {
     "name": "stdout",
     "output_type": "stream",
     "text": [
      "sex: \n",
      "M\n",
      " \n",
      "allergies: \n",
      "morphine / demerol\n",
      " \n",
      "chief complaint: \n",
      "right femoral neck fracture\n",
      "\n",
      "major surgical or invasive procedure: \n",
      "closed reduction, internal fixation with cannulated screws of \n",
      "right femoral neck fracture\n",
      "\n",
      "history of present illness: \n",
      "_ M presents with right femoral neck fracture s/p mechanical \n",
      "fall.  he fell on his right side earlier this morning, with \n",
      "immediate right hip pain and inability to ambulate.  he denies \n",
      "pain elsewhere.  he ambulates without assistance at baseline, \n",
      "but reports he does not walk as much as he used to due to \n",
      "antecedent bilateral hip pain.  he is fairly active and enjoys \n",
      "fishing regularly.\n",
      "\n",
      "past medical history: \n",
      "PMH/PSH:\n",
      "DM\n",
      "HTN \n",
      "COPD\n",
      "claudication\n",
      "carotid stenosis\n",
      "S/p L carotid endarterectomy _\n",
      "\n",
      "social history: \n",
      "_\n",
      "\n",
      "family history: \n",
      "father  CAD/PVD; diabetes - type II \n",
      "mother  chf [OTHER] \n",
      "sister  _ \n",
      "physical exam: \n",
      "\n",
      "\n",
      "pertinent results: \n",
      "\n",
      "medications on admission: \n",
      "\n",
      "discharge medications: \n",
      "\n",
      "discharge disposition: \n",
      "\n",
      "discharge diagnosis: \n",
      "\n",
      "discharge condition: \n",
      "\n"
     ]
    }
   ],
   "source": [
    "print(data['input'][12])"
   ]
  }
 ],
 "metadata": {
  "kernelspec": {
   "display_name": "Python 3",
   "language": "python",
   "name": "python3"
  },
  "language_info": {
   "codemirror_mode": {
    "name": "ipython",
    "version": 3
   },
   "file_extension": ".py",
   "mimetype": "text/x-python",
   "name": "python",
   "nbconvert_exporter": "python",
   "pygments_lexer": "ipython3",
   "version": "3.10.13"
  }
 },
 "nbformat": 4,
 "nbformat_minor": 2
}
