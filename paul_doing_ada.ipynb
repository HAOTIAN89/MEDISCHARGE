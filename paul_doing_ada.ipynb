{
 "cells": [
  {
   "cell_type": "code",
   "execution_count": 1,
   "metadata": {},
   "outputs": [],
   "source": [
    "import regex as re\n",
    "import pandas as pd\n",
    "from src.utils.preprocessing import *\n",
    "import matplotlib.pyplot as plt\n",
    "import seaborn as sns\n",
    "\n",
    "%load_ext autoreload\n",
    "%autoreload 2"
   ]
  },
  {
   "cell_type": "code",
   "execution_count": 2,
   "metadata": {},
   "outputs": [
    {
     "name": "stdout",
     "output_type": "stream",
     "text": [
      "Removing BHC and DI from the discharge\n"
     ]
    },
    {
     "name": "stderr",
     "output_type": "stream",
     "text": [
      "100%|██████████| 10962/10962 [00:01<00:00, 7747.55it/s]\n"
     ]
    },
    {
     "name": "stdout",
     "output_type": "stream",
     "text": [
      "Extracting features\n"
     ]
    },
    {
     "name": "stderr",
     "output_type": "stream",
     "text": [
      "100%|██████████| 10962/10962 [00:39<00:00, 280.46it/s]\n"
     ]
    },
    {
     "name": "stdout",
     "output_type": "stream",
     "text": [
      "Formating and cleaning sex section\n"
     ]
    },
    {
     "name": "stderr",
     "output_type": "stream",
     "text": [
      "100%|██████████| 10962/10962 [00:00<00:00, 445933.37it/s]\n",
      "100%|██████████| 10962/10962 [00:00<00:00, 12467.33it/s]\n"
     ]
    },
    {
     "name": "stdout",
     "output_type": "stream",
     "text": [
      "Counting tokens in sex section\n"
     ]
    },
    {
     "name": "stderr",
     "output_type": "stream",
     "text": [
      "100%|██████████| 10962/10962 [00:01<00:00, 7145.43it/s]\n"
     ]
    },
    {
     "name": "stdout",
     "output_type": "stream",
     "text": [
      "Formating and cleaning service section\n"
     ]
    },
    {
     "name": "stderr",
     "output_type": "stream",
     "text": [
      "100%|██████████| 10962/10962 [00:00<00:00, 478155.11it/s]\n",
      "100%|██████████| 10962/10962 [00:00<00:00, 22351.76it/s]\n"
     ]
    },
    {
     "name": "stdout",
     "output_type": "stream",
     "text": [
      "Counting tokens in service section\n"
     ]
    },
    {
     "name": "stderr",
     "output_type": "stream",
     "text": [
      "100%|██████████| 10962/10962 [00:00<00:00, 12634.97it/s]\n"
     ]
    },
    {
     "name": "stdout",
     "output_type": "stream",
     "text": [
      "Formating and cleaning allergies section\n"
     ]
    },
    {
     "name": "stderr",
     "output_type": "stream",
     "text": [
      "100%|██████████| 10962/10962 [00:00<00:00, 313979.90it/s]\n",
      "100%|██████████| 10962/10962 [00:00<00:00, 23045.55it/s]\n"
     ]
    },
    {
     "name": "stdout",
     "output_type": "stream",
     "text": [
      "Counting tokens in allergies section\n"
     ]
    },
    {
     "name": "stderr",
     "output_type": "stream",
     "text": [
      "100%|██████████| 10962/10962 [00:01<00:00, 5780.77it/s]\n"
     ]
    },
    {
     "name": "stdout",
     "output_type": "stream",
     "text": [
      "Formating and cleaning chief_complaint section\n"
     ]
    },
    {
     "name": "stderr",
     "output_type": "stream",
     "text": [
      "100%|██████████| 10962/10962 [00:00<00:00, 423046.48it/s]\n",
      "100%|██████████| 10962/10962 [00:00<00:00, 21228.22it/s]\n"
     ]
    },
    {
     "name": "stdout",
     "output_type": "stream",
     "text": [
      "Counting tokens in chief_complaint section\n"
     ]
    },
    {
     "name": "stderr",
     "output_type": "stream",
     "text": [
      "100%|██████████| 10962/10962 [00:01<00:00, 8947.05it/s]\n"
     ]
    },
    {
     "name": "stdout",
     "output_type": "stream",
     "text": [
      "Formating and cleaning major_surgical_procedures section\n"
     ]
    },
    {
     "name": "stderr",
     "output_type": "stream",
     "text": [
      "100%|██████████| 10962/10962 [00:00<00:00, 466369.40it/s]\n",
      "100%|██████████| 10962/10962 [00:00<00:00, 20893.85it/s]\n"
     ]
    },
    {
     "name": "stdout",
     "output_type": "stream",
     "text": [
      "Counting tokens in major_surgical_procedures section\n"
     ]
    },
    {
     "name": "stderr",
     "output_type": "stream",
     "text": [
      "100%|██████████| 10962/10962 [00:02<00:00, 4629.03it/s]\n"
     ]
    },
    {
     "name": "stdout",
     "output_type": "stream",
     "text": [
      "Formating and cleaning history_of_present_illness section\n"
     ]
    },
    {
     "name": "stderr",
     "output_type": "stream",
     "text": [
      "100%|██████████| 10962/10962 [00:00<00:00, 40856.33it/s]\n",
      "100%|██████████| 10962/10962 [00:01<00:00, 9677.89it/s]\n"
     ]
    },
    {
     "name": "stdout",
     "output_type": "stream",
     "text": [
      "Counting tokens in history_of_present_illness section\n"
     ]
    },
    {
     "name": "stderr",
     "output_type": "stream",
     "text": [
      "100%|██████████| 10962/10962 [00:16<00:00, 645.88it/s]\n"
     ]
    },
    {
     "name": "stdout",
     "output_type": "stream",
     "text": [
      "Formating and cleaning past_medical_history section\n"
     ]
    },
    {
     "name": "stderr",
     "output_type": "stream",
     "text": [
      "100%|██████████| 10962/10962 [00:00<00:00, 53465.85it/s]\n",
      "100%|██████████| 10962/10962 [00:00<00:00, 17980.92it/s]\n"
     ]
    },
    {
     "name": "stdout",
     "output_type": "stream",
     "text": [
      "Counting tokens in past_medical_history section\n"
     ]
    },
    {
     "name": "stderr",
     "output_type": "stream",
     "text": [
      "100%|██████████| 10962/10962 [00:06<00:00, 1665.14it/s]\n"
     ]
    },
    {
     "name": "stdout",
     "output_type": "stream",
     "text": [
      "Formating and cleaning social_history section\n"
     ]
    },
    {
     "name": "stderr",
     "output_type": "stream",
     "text": [
      "100%|██████████| 10962/10962 [00:00<00:00, 217077.87it/s]\n",
      "100%|██████████| 10962/10962 [00:00<00:00, 18701.42it/s]\n"
     ]
    },
    {
     "name": "stdout",
     "output_type": "stream",
     "text": [
      "Counting tokens in social_history section\n"
     ]
    },
    {
     "name": "stderr",
     "output_type": "stream",
     "text": [
      "100%|██████████| 10962/10962 [00:00<00:00, 11150.17it/s]\n"
     ]
    },
    {
     "name": "stdout",
     "output_type": "stream",
     "text": [
      "Formating and cleaning family_history section\n"
     ]
    },
    {
     "name": "stderr",
     "output_type": "stream",
     "text": [
      "100%|██████████| 10962/10962 [00:00<00:00, 261069.31it/s]\n",
      "100%|██████████| 10962/10962 [00:00<00:00, 23702.50it/s]\n"
     ]
    },
    {
     "name": "stdout",
     "output_type": "stream",
     "text": [
      "Counting tokens in family_history section\n"
     ]
    },
    {
     "name": "stderr",
     "output_type": "stream",
     "text": [
      "100%|██████████| 10962/10962 [00:01<00:00, 6687.42it/s]\n"
     ]
    },
    {
     "name": "stdout",
     "output_type": "stream",
     "text": [
      "Formating and cleaning physical_exam section\n"
     ]
    },
    {
     "name": "stderr",
     "output_type": "stream",
     "text": [
      "100%|██████████| 10962/10962 [00:00<00:00, 53993.39it/s]\n",
      "100%|██████████| 10962/10962 [00:00<00:00, 15705.79it/s]\n"
     ]
    },
    {
     "name": "stdout",
     "output_type": "stream",
     "text": [
      "Counting tokens in physical_exam section\n"
     ]
    },
    {
     "name": "stderr",
     "output_type": "stream",
     "text": [
      "100%|██████████| 10962/10962 [00:11<00:00, 955.34it/s] \n"
     ]
    },
    {
     "name": "stdout",
     "output_type": "stream",
     "text": [
      "Formating and cleaning pertinent_results section\n"
     ]
    },
    {
     "name": "stderr",
     "output_type": "stream",
     "text": [
      "100%|██████████| 10962/10962 [00:00<00:00, 79072.76it/s]\n",
      "100%|██████████| 10962/10962 [00:01<00:00, 7252.62it/s]\n"
     ]
    },
    {
     "name": "stdout",
     "output_type": "stream",
     "text": [
      "Counting tokens in pertinent_results section\n"
     ]
    },
    {
     "name": "stderr",
     "output_type": "stream",
     "text": [
      "100%|██████████| 10962/10962 [00:21<00:00, 517.28it/s]\n"
     ]
    },
    {
     "name": "stdout",
     "output_type": "stream",
     "text": [
      "Formating and cleaning medication_on_admission section\n"
     ]
    },
    {
     "name": "stderr",
     "output_type": "stream",
     "text": [
      "100%|██████████| 10962/10962 [00:00<00:00, 313900.59it/s]\n",
      "100%|██████████| 10962/10962 [00:00<00:00, 15256.27it/s]\n"
     ]
    },
    {
     "name": "stdout",
     "output_type": "stream",
     "text": [
      "Counting tokens in medication_on_admission section\n"
     ]
    },
    {
     "name": "stderr",
     "output_type": "stream",
     "text": [
      "100%|██████████| 10962/10962 [00:04<00:00, 2577.88it/s]\n"
     ]
    },
    {
     "name": "stdout",
     "output_type": "stream",
     "text": [
      "Formating and cleaning discharge_medications section\n"
     ]
    },
    {
     "name": "stderr",
     "output_type": "stream",
     "text": [
      "100%|██████████| 10962/10962 [00:00<00:00, 63244.63it/s]\n",
      "100%|██████████| 10962/10962 [00:00<00:00, 16546.19it/s]\n"
     ]
    },
    {
     "name": "stdout",
     "output_type": "stream",
     "text": [
      "Counting tokens in discharge_medications section\n"
     ]
    },
    {
     "name": "stderr",
     "output_type": "stream",
     "text": [
      "100%|██████████| 10962/10962 [00:06<00:00, 1644.49it/s]\n"
     ]
    },
    {
     "name": "stdout",
     "output_type": "stream",
     "text": [
      "Formating and cleaning discharge_disposition section\n"
     ]
    },
    {
     "name": "stderr",
     "output_type": "stream",
     "text": [
      "100%|██████████| 10962/10962 [00:00<00:00, 429111.04it/s]\n",
      "100%|██████████| 10962/10962 [00:00<00:00, 24393.82it/s]\n"
     ]
    },
    {
     "name": "stdout",
     "output_type": "stream",
     "text": [
      "Counting tokens in discharge_disposition section\n"
     ]
    },
    {
     "name": "stderr",
     "output_type": "stream",
     "text": [
      "100%|██████████| 10962/10962 [00:01<00:00, 10622.74it/s]\n"
     ]
    },
    {
     "name": "stdout",
     "output_type": "stream",
     "text": [
      "Formating and cleaning facility section\n"
     ]
    },
    {
     "name": "stderr",
     "output_type": "stream",
     "text": [
      "100%|██████████| 10962/10962 [00:00<00:00, 88049.68it/s]\n",
      "100%|██████████| 10962/10962 [00:00<00:00, 24033.73it/s]\n"
     ]
    },
    {
     "name": "stdout",
     "output_type": "stream",
     "text": [
      "Counting tokens in facility section\n"
     ]
    },
    {
     "name": "stderr",
     "output_type": "stream",
     "text": [
      "100%|██████████| 10962/10962 [00:00<00:00, 13163.98it/s]\n"
     ]
    },
    {
     "name": "stdout",
     "output_type": "stream",
     "text": [
      "Formating and cleaning discharge_diagnosis section\n"
     ]
    },
    {
     "name": "stderr",
     "output_type": "stream",
     "text": [
      "100%|██████████| 10962/10962 [00:00<00:00, 342266.00it/s]\n",
      "100%|██████████| 10962/10962 [00:00<00:00, 15699.11it/s]\n"
     ]
    },
    {
     "name": "stdout",
     "output_type": "stream",
     "text": [
      "Counting tokens in discharge_diagnosis section\n"
     ]
    },
    {
     "name": "stderr",
     "output_type": "stream",
     "text": [
      "100%|██████████| 10962/10962 [00:01<00:00, 5931.46it/s]\n"
     ]
    },
    {
     "name": "stdout",
     "output_type": "stream",
     "text": [
      "Formating and cleaning discharge_condition section\n"
     ]
    },
    {
     "name": "stderr",
     "output_type": "stream",
     "text": [
      "100%|██████████| 10962/10962 [00:00<00:00, 286363.56it/s]\n",
      "100%|██████████| 10962/10962 [00:00<00:00, 14206.66it/s]\n"
     ]
    },
    {
     "name": "stdout",
     "output_type": "stream",
     "text": [
      "Counting tokens in discharge_condition section\n"
     ]
    },
    {
     "name": "stderr",
     "output_type": "stream",
     "text": [
      "100%|██████████| 10962/10962 [00:02<00:00, 5024.78it/s]\n"
     ]
    }
   ],
   "source": [
    "discharge_df = load_data('data/version1.4_ours/test_phase_2/discharge.csv.gz')\n",
    "target_df = load_data('data/version1.4_ours/test_phase_2/discharge_target.csv.gz')\n",
    "combined_df = build_combined_discharge(discharge_df, target_df)\n",
    "final_df = extract_clean_sections_and_count_tokens(combined_df,section_to_next_section.keys())\n"
   ]
  },
  {
   "cell_type": "code",
   "execution_count": 3,
   "metadata": {},
   "outputs": [
    {
     "data": {
      "text/html": [
       "<div>\n",
       "<style scoped>\n",
       "    .dataframe tbody tr th:only-of-type {\n",
       "        vertical-align: middle;\n",
       "    }\n",
       "\n",
       "    .dataframe tbody tr th {\n",
       "        vertical-align: top;\n",
       "    }\n",
       "\n",
       "    .dataframe thead th {\n",
       "        text-align: right;\n",
       "    }\n",
       "</style>\n",
       "<table border=\"1\" class=\"dataframe\">\n",
       "  <thead>\n",
       "    <tr style=\"text-align: right;\">\n",
       "      <th></th>\n",
       "      <th>hadm_id</th>\n",
       "      <th>text</th>\n",
       "      <th>discharge_instructions</th>\n",
       "      <th>brief_hospital_course</th>\n",
       "      <th>sex</th>\n",
       "      <th>sex_tokens</th>\n",
       "      <th>service</th>\n",
       "      <th>service_tokens</th>\n",
       "      <th>allergies</th>\n",
       "      <th>allergies_tokens</th>\n",
       "      <th>...</th>\n",
       "      <th>discharge_medications</th>\n",
       "      <th>discharge_medications_tokens</th>\n",
       "      <th>discharge_disposition</th>\n",
       "      <th>discharge_disposition_tokens</th>\n",
       "      <th>facility</th>\n",
       "      <th>facility_tokens</th>\n",
       "      <th>discharge_diagnosis</th>\n",
       "      <th>discharge_diagnosis_tokens</th>\n",
       "      <th>discharge_condition</th>\n",
       "      <th>discharge_condition_tokens</th>\n",
       "    </tr>\n",
       "  </thead>\n",
       "  <tbody>\n",
       "    <tr>\n",
       "      <th>0</th>\n",
       "      <td>24962904</td>\n",
       "      <td>\\nName:  ___             Unit No:   ___\\n \\nA...</td>\n",
       "      <td>Dear Ms. ___,\\n\\nYou were admitted to ___ afte...</td>\n",
       "      <td>Ms. ___ is a ___ female with history of \\nCOPD...</td>\n",
       "      <td>Sex:\\nF\\n</td>\n",
       "      <td>6</td>\n",
       "      <td>Service:\\nMEDICINE\\n</td>\n",
       "      <td>9</td>\n",
       "      <td>Allergies:\\nIV Dye, Iodine Containing Contrast...</td>\n",
       "      <td>37</td>\n",
       "      <td>...</td>\n",
       "      <td>Discharge Medications:\\nAcetaminophen 325 mg P...</td>\n",
       "      <td>590</td>\n",
       "      <td>Discharge Disposition:\\nExtended Care\\n</td>\n",
       "      <td>13</td>\n",
       "      <td>Facility:\\nNone\\n</td>\n",
       "      <td>7</td>\n",
       "      <td>Discharge Diagnosis:\\nPRIMARY:\\nCOPD Exacerbat...</td>\n",
       "      <td>42</td>\n",
       "      <td>Discharge Condition:\\nMental Status: Clear and...</td>\n",
       "      <td>52</td>\n",
       "    </tr>\n",
       "    <tr>\n",
       "      <th>1</th>\n",
       "      <td>22774359</td>\n",
       "      <td>\\nName:  ___.              Unit No:   ___\\n \\...</td>\n",
       "      <td>Dear Mr. ___,\\n\\nIt has been our pleasure to b...</td>\n",
       "      <td>___ male with h/o Hodgkin's lymphoma C1D17 ABV...</td>\n",
       "      <td>Sex:\\nM\\n</td>\n",
       "      <td>6</td>\n",
       "      <td>Service:\\nMEDICINE\\n</td>\n",
       "      <td>9</td>\n",
       "      <td>Allergies:\\nRagweed / morphine / Percocet\\n</td>\n",
       "      <td>19</td>\n",
       "      <td>...</td>\n",
       "      <td>Discharge Medications:\\nAcyclovir 400 mg PO Q8...</td>\n",
       "      <td>335</td>\n",
       "      <td>Discharge Disposition:\\nHome With Service\\n</td>\n",
       "      <td>13</td>\n",
       "      <td>Facility:\\nNone\\n</td>\n",
       "      <td>7</td>\n",
       "      <td>Discharge Diagnosis:\\nPrimary Diagnosis\\nNeutr...</td>\n",
       "      <td>51</td>\n",
       "      <td>Discharge Condition:\\nMental Status: Clear and...</td>\n",
       "      <td>41</td>\n",
       "    </tr>\n",
       "    <tr>\n",
       "      <th>2</th>\n",
       "      <td>29323205</td>\n",
       "      <td>\\nName:  ___                 Unit No:   ___\\n...</td>\n",
       "      <td>Dear ___ were hospitalized due to symptoms of ...</td>\n",
       "      <td>___ RH female with a PMHx of paramedian pontin...</td>\n",
       "      <td>Sex:\\nF\\n</td>\n",
       "      <td>6</td>\n",
       "      <td>Service:\\nNEUROLOGY\\n</td>\n",
       "      <td>10</td>\n",
       "      <td>Allergies:\\nIodine-Iodine Containing\\n</td>\n",
       "      <td>16</td>\n",
       "      <td>...</td>\n",
       "      <td>Discharge Medications:\\nAspirin 81 mg PO DAILY...</td>\n",
       "      <td>108</td>\n",
       "      <td>Discharge Disposition:\\nHome With Service\\n</td>\n",
       "      <td>13</td>\n",
       "      <td>Facility:\\nNone\\n</td>\n",
       "      <td>7</td>\n",
       "      <td>Discharge Diagnosis:\\nIschemic stroke\\n</td>\n",
       "      <td>16</td>\n",
       "      <td>Discharge Condition:\\nMental Status: Clear and...</td>\n",
       "      <td>52</td>\n",
       "    </tr>\n",
       "    <tr>\n",
       "      <th>3</th>\n",
       "      <td>20459702</td>\n",
       "      <td>\\nName:  ___                 Unit No:   ___\\n...</td>\n",
       "      <td>It was a pleasure caring for you at ___ \\n___....</td>\n",
       "      <td>Hospitalization Summary: \\nMs. ___ is an ___ y...</td>\n",
       "      <td>Sex:\\nF\\n</td>\n",
       "      <td>6</td>\n",
       "      <td>Service:\\nMEDICINE\\n</td>\n",
       "      <td>9</td>\n",
       "      <td>Allergies:\\nnifedipine / Amitriptyline / Prilo...</td>\n",
       "      <td>67</td>\n",
       "      <td>...</td>\n",
       "      <td>Discharge Medications:\\nAcetaminophen 500 mg P...</td>\n",
       "      <td>417</td>\n",
       "      <td>Discharge Disposition:\\nHome With Service\\n</td>\n",
       "      <td>13</td>\n",
       "      <td>Facility:\\nNone\\n</td>\n",
       "      <td>7</td>\n",
       "      <td>Discharge Diagnosis:\\nPrimary: \\nAcute diastol...</td>\n",
       "      <td>36</td>\n",
       "      <td>Discharge Condition:\\nMental Status: Clear and...</td>\n",
       "      <td>52</td>\n",
       "    </tr>\n",
       "    <tr>\n",
       "      <th>4</th>\n",
       "      <td>28755331</td>\n",
       "      <td>\\nName:  ___                 Unit No:   ___\\n...</td>\n",
       "      <td>Dear Mr. ___,\\n\\nIt was our pleasure to care f...</td>\n",
       "      <td>___ with h/o psychosis admitted because of mul...</td>\n",
       "      <td>Sex:\\nM\\n</td>\n",
       "      <td>6</td>\n",
       "      <td>Service:\\nMEDICINE\\n</td>\n",
       "      <td>9</td>\n",
       "      <td>Allergies:\\nNo Known Allergies / Adverse Drug ...</td>\n",
       "      <td>20</td>\n",
       "      <td>...</td>\n",
       "      <td>Discharge Medications:\\nAcetaminophen 650 mg P...</td>\n",
       "      <td>255</td>\n",
       "      <td>Discharge Disposition:\\nHome With Service\\n</td>\n",
       "      <td>13</td>\n",
       "      <td>Facility:\\nNone\\n</td>\n",
       "      <td>7</td>\n",
       "      <td>Discharge Diagnosis:\\nPrimary: mechanical fall...</td>\n",
       "      <td>33</td>\n",
       "      <td>Discharge Condition:\\nMental Status: Confused ...</td>\n",
       "      <td>51</td>\n",
       "    </tr>\n",
       "  </tbody>\n",
       "</table>\n",
       "<p>5 rows × 38 columns</p>\n",
       "</div>"
      ],
      "text/plain": [
       "    hadm_id                                               text  \\\n",
       "0  24962904   \\nName:  ___             Unit No:   ___\\n \\nA...   \n",
       "1  22774359   \\nName:  ___.              Unit No:   ___\\n \\...   \n",
       "2  29323205   \\nName:  ___                 Unit No:   ___\\n...   \n",
       "3  20459702   \\nName:  ___                 Unit No:   ___\\n...   \n",
       "4  28755331   \\nName:  ___                 Unit No:   ___\\n...   \n",
       "\n",
       "                              discharge_instructions  \\\n",
       "0  Dear Ms. ___,\\n\\nYou were admitted to ___ afte...   \n",
       "1  Dear Mr. ___,\\n\\nIt has been our pleasure to b...   \n",
       "2  Dear ___ were hospitalized due to symptoms of ...   \n",
       "3  It was a pleasure caring for you at ___ \\n___....   \n",
       "4  Dear Mr. ___,\\n\\nIt was our pleasure to care f...   \n",
       "\n",
       "                               brief_hospital_course        sex  sex_tokens  \\\n",
       "0  Ms. ___ is a ___ female with history of \\nCOPD...  Sex:\\nF\\n           6   \n",
       "1  ___ male with h/o Hodgkin's lymphoma C1D17 ABV...  Sex:\\nM\\n           6   \n",
       "2  ___ RH female with a PMHx of paramedian pontin...  Sex:\\nF\\n           6   \n",
       "3  Hospitalization Summary: \\nMs. ___ is an ___ y...  Sex:\\nF\\n           6   \n",
       "4  ___ with h/o psychosis admitted because of mul...  Sex:\\nM\\n           6   \n",
       "\n",
       "                 service  service_tokens  \\\n",
       "0   Service:\\nMEDICINE\\n               9   \n",
       "1   Service:\\nMEDICINE\\n               9   \n",
       "2  Service:\\nNEUROLOGY\\n              10   \n",
       "3   Service:\\nMEDICINE\\n               9   \n",
       "4   Service:\\nMEDICINE\\n               9   \n",
       "\n",
       "                                           allergies  allergies_tokens  ...  \\\n",
       "0  Allergies:\\nIV Dye, Iodine Containing Contrast...                37  ...   \n",
       "1        Allergies:\\nRagweed / morphine / Percocet\\n                19  ...   \n",
       "2             Allergies:\\nIodine-Iodine Containing\\n                16  ...   \n",
       "3  Allergies:\\nnifedipine / Amitriptyline / Prilo...                67  ...   \n",
       "4  Allergies:\\nNo Known Allergies / Adverse Drug ...                20  ...   \n",
       "\n",
       "                               discharge_medications  \\\n",
       "0  Discharge Medications:\\nAcetaminophen 325 mg P...   \n",
       "1  Discharge Medications:\\nAcyclovir 400 mg PO Q8...   \n",
       "2  Discharge Medications:\\nAspirin 81 mg PO DAILY...   \n",
       "3  Discharge Medications:\\nAcetaminophen 500 mg P...   \n",
       "4  Discharge Medications:\\nAcetaminophen 650 mg P...   \n",
       "\n",
       "   discharge_medications_tokens                        discharge_disposition  \\\n",
       "0                           590      Discharge Disposition:\\nExtended Care\\n   \n",
       "1                           335  Discharge Disposition:\\nHome With Service\\n   \n",
       "2                           108  Discharge Disposition:\\nHome With Service\\n   \n",
       "3                           417  Discharge Disposition:\\nHome With Service\\n   \n",
       "4                           255  Discharge Disposition:\\nHome With Service\\n   \n",
       "\n",
       "   discharge_disposition_tokens           facility  facility_tokens  \\\n",
       "0                            13  Facility:\\nNone\\n                7   \n",
       "1                            13  Facility:\\nNone\\n                7   \n",
       "2                            13  Facility:\\nNone\\n                7   \n",
       "3                            13  Facility:\\nNone\\n                7   \n",
       "4                            13  Facility:\\nNone\\n                7   \n",
       "\n",
       "                                 discharge_diagnosis  \\\n",
       "0  Discharge Diagnosis:\\nPRIMARY:\\nCOPD Exacerbat...   \n",
       "1  Discharge Diagnosis:\\nPrimary Diagnosis\\nNeutr...   \n",
       "2            Discharge Diagnosis:\\nIschemic stroke\\n   \n",
       "3  Discharge Diagnosis:\\nPrimary: \\nAcute diastol...   \n",
       "4  Discharge Diagnosis:\\nPrimary: mechanical fall...   \n",
       "\n",
       "   discharge_diagnosis_tokens  \\\n",
       "0                          42   \n",
       "1                          51   \n",
       "2                          16   \n",
       "3                          36   \n",
       "4                          33   \n",
       "\n",
       "                                 discharge_condition  \\\n",
       "0  Discharge Condition:\\nMental Status: Clear and...   \n",
       "1  Discharge Condition:\\nMental Status: Clear and...   \n",
       "2  Discharge Condition:\\nMental Status: Clear and...   \n",
       "3  Discharge Condition:\\nMental Status: Clear and...   \n",
       "4  Discharge Condition:\\nMental Status: Confused ...   \n",
       "\n",
       "   discharge_condition_tokens  \n",
       "0                          52  \n",
       "1                          41  \n",
       "2                          52  \n",
       "3                          52  \n",
       "4                          51  \n",
       "\n",
       "[5 rows x 38 columns]"
      ]
     },
     "metadata": {},
     "output_type": "display_data"
    }
   ],
   "source": [
    "display(final_df.head())"
   ]
  },
  {
   "cell_type": "code",
   "execution_count": 4,
   "metadata": {},
   "outputs": [
    {
     "name": "stdout",
     "output_type": "stream",
     "text": [
      "Exploring strategie for mode: bhc and max_length: 1900\n"
     ]
    },
    {
     "name": "stderr",
     "output_type": "stream",
     "text": [
      "Selecting strategy:   2%|▏         | 220/10962 [00:01<01:03, 169.33it/s]"
     ]
    },
    {
     "name": "stdout",
     "output_type": "stream",
     "text": [
      "no suitable strategy found\n"
     ]
    },
    {
     "name": "stderr",
     "output_type": "stream",
     "text": [
      "Selecting strategy: 100%|██████████| 10962/10962 [01:07<00:00, 161.23it/s]\n"
     ]
    },
    {
     "name": "stdout",
     "output_type": "stream",
     "text": [
      "Number of rows that exceed the maximum length: 1/10962\n",
      "Exploring strategie for mode: bhc and max_length: 3900\n"
     ]
    },
    {
     "name": "stderr",
     "output_type": "stream",
     "text": [
      "Selecting strategy: 100%|██████████| 10962/10962 [00:07<00:00, 1488.06it/s]\n"
     ]
    },
    {
     "name": "stdout",
     "output_type": "stream",
     "text": [
      "Number of rows that exceed the maximum length: 0/10962\n",
      "Exploring strategie for mode: bhc and max_length: 5900\n"
     ]
    },
    {
     "name": "stderr",
     "output_type": "stream",
     "text": [
      "Selecting strategy: 100%|██████████| 10962/10962 [00:02<00:00, 5416.30it/s]\n"
     ]
    },
    {
     "name": "stdout",
     "output_type": "stream",
     "text": [
      "Number of rows that exceed the maximum length: 0/10962\n",
      "Exploring strategie for mode: di and max_length: 1900\n"
     ]
    },
    {
     "name": "stderr",
     "output_type": "stream",
     "text": [
      "Selecting strategy:   7%|▋         | 729/10962 [00:00<00:04, 2340.91it/s]"
     ]
    },
    {
     "name": "stdout",
     "output_type": "stream",
     "text": [
      "no suitable strategy found\n"
     ]
    },
    {
     "name": "stderr",
     "output_type": "stream",
     "text": [
      "Selecting strategy: 100%|██████████| 10962/10962 [00:02<00:00, 3771.86it/s]\n"
     ]
    },
    {
     "name": "stdout",
     "output_type": "stream",
     "text": [
      "Number of rows that exceed the maximum length: 1/10962\n",
      "Exploring strategie for mode: di and max_length: 3900\n"
     ]
    },
    {
     "name": "stderr",
     "output_type": "stream",
     "text": [
      "Selecting strategy: 100%|██████████| 10962/10962 [00:01<00:00, 6719.30it/s]\n"
     ]
    },
    {
     "name": "stdout",
     "output_type": "stream",
     "text": [
      "Number of rows that exceed the maximum length: 0/10962\n",
      "Exploring strategie for mode: di and max_length: 5900\n"
     ]
    },
    {
     "name": "stderr",
     "output_type": "stream",
     "text": [
      "Selecting strategy: 100%|██████████| 10962/10962 [00:01<00:00, 7113.70it/s]"
     ]
    },
    {
     "name": "stdout",
     "output_type": "stream",
     "text": [
      "Number of rows that exceed the maximum length: 0/10962\n"
     ]
    },
    {
     "name": "stderr",
     "output_type": "stream",
     "text": [
      "\n"
     ]
    }
   ],
   "source": [
    "max_lengths = [1900, 3900, 5900]\n",
    "\n",
    "strat_counters_bhc = pd.DataFrame()\n",
    "strat_counters_di = pd.DataFrame()\n",
    "\n",
    "for max_length in max_lengths:\n",
    "    print(f\"Exploring strategie for mode: bhc and max_length: {max_length}\")\n",
    "    _, counter = select_strategy(final_df, mode='BHC', max_length=max_length, return_strats_counter=True)\n",
    "    strat_counters_bhc = pd.concat([strat_counters_bhc, pd.DataFrame({\"strat\":counter.keys(), \"nb_chsoen\":counter.values(), \"max_length\":max_length})])\n",
    "\n",
    "for max_length in max_lengths:\n",
    "    print(f\"Exploring strategie for mode: di and max_length: {max_length}\")\n",
    "    _, counter = select_strategy(final_df, mode='DI', max_length=max_length, return_strats_counter=True)\n",
    "    strat_counters_di = pd.concat([strat_counters_di, pd.DataFrame({\"strat\":counter.keys(), \"nb_chsoen\":counter.values(), \"max_length\":max_length})])"
   ]
  },
  {
   "cell_type": "code",
   "execution_count": null,
   "metadata": {},
   "outputs": [],
   "source": []
  },
  {
   "cell_type": "code",
   "execution_count": 5,
   "metadata": {},
   "outputs": [],
   "source": [
    "pos_strat_bhc = strat_counters_bhc[[\"strat\", \"nb_chsoen\"]].groupby([\"strat\"]).sum().reset_index()\n",
    "pos_strat_bhc = pos_strat_bhc[pos_strat_bhc[\"nb_chsoen\"] > 0]\n",
    "strat_counters_bhc = strat_counters_bhc[strat_counters_bhc[\"strat\"].isin(pos_strat_bhc[\"strat\"])].sort_values(by = 'max_length', ascending = False)\n",
    "\n",
    "poa_strat_di = strat_counters_di[[\"strat\", \"nb_chsoen\"]].groupby([\"strat\"]).sum().reset_index()\n",
    "poa_strat_di = poa_strat_di[poa_strat_di[\"nb_chsoen\"] > 0]\n",
    "strat_counters_di = strat_counters_di[strat_counters_di[\"strat\"].isin(poa_strat_di[\"strat\"])].sort_values(by = 'max_length', ascending = False)\n",
    "\n",
    "\n",
    "\n",
    "\n"
   ]
  },
  {
   "cell_type": "code",
   "execution_count": 6,
   "metadata": {},
   "outputs": [
    {
     "data": {
      "image/png": "[encoded data removed]",
      "text/plain": [
       "<Figure size 1800x600 with 1 Axes>"
      ]
     },
     "metadata": {},
     "output_type": "display_data"
    }
   ],
   "source": [
    "plt.figure(figsize=(18, 6))\n",
    "sns.barplot(data=strat_counters_bhc, x=\"strat\", y=\"nb_chsoen\", hue=\"max_length\")\n",
    "plt.yscale('log')\n",
    "plt.title('Bar Plot of the number of times a straegie is chosen (BHC)')\n",
    "plt.xlabel('Strategy number')\n",
    "plt.ylabel('Number Chosen (log scale)')\n",
    "plt.legend(title='Max Length')\n",
    "plt.show()\n",
    "\n",
    "    "
   ]
  },
  {
   "cell_type": "code",
   "execution_count": 7,
   "metadata": {},
   "outputs": [
    {
     "data": {
      "text/plain": [
       "<matplotlib.legend.Legend at 0x7f92f8237430>"
      ]
     },
     "execution_count": 7,
     "metadata": {},
     "output_type": "execute_result"
    },
    {
     "data": {
      "image/png": "[encoded data removed]",
      "text/plain": [
       "<Figure size 1800x600 with 1 Axes>"
      ]
     },
     "metadata": {},
     "output_type": "display_data"
    }
   ],
   "source": [
    "plt.figure(figsize=(18, 6))\n",
    "sns.barplot(data=strat_counters_di, x=\"strat\", y=\"nb_chsoen\", hue=\"max_length\")\n",
    "plt.yscale('log')\n",
    "plt.title('Bar Plot of the number of times a straegie is chosen (DI)')\n",
    "plt.xlabel('Strategy number')\n",
    "plt.ylabel('Number Chosen (log scale)')\n",
    "plt.legend(title='Max Length')\n"
   ]
  }
 ],
 "metadata": {
  "kernelspec": {
   "display_name": ".venv",
   "language": "python",
   "name": "python3"
  },
  "language_info": {
   "codemirror_mode": {
    "name": "ipython",
    "version": 3
   },
   "file_extension": ".py",
   "mimetype": "text/x-python",
   "name": "python",
   "nbconvert_exporter": "python",
   "pygments_lexer": "ipython3",
   "version": "3.10.13"
  }
 },
 "nbformat": 4,
 "nbformat_minor": 2
}
